{
 "cells": [
  {
   "cell_type": "markdown",
   "id": "d6eb1f67",
   "metadata": {
    "slideshow": {
     "slide_type": "-"
    }
   },
   "source": [
    "# **Generation Investment Management LLP** \n",
    "\n",
    "By Miguel Jaller Martelo and H. Scott Matthews, November 20, 2019\n",
    "\n",
    "In the model, each of the key assumptions generally can take on one of three values (a low, medium, or high value) as shown in the “Input Values” columns in the middle, for example, the average weight per SKU could range from 0.5 to 2 pounds. Each of these parameters and their ranges of values are discussed below.\n",
    "\n",
    "In addition, the model presents three high-level scenarios representing best-guess estimates of mainstream retail (using Target as a baseline), typical e-commerce, and Amazon deliveries (additional scenarios can be generated if interested). To estimate the energy and carbon emissions of items purchased, the scenarios “select” from one of the three input values for each assumption used."
   ]
  },
  {
   "cell_type": "code",
   "execution_count": 314,
   "id": "97030764",
   "metadata": {
    "slideshow": {
     "slide_type": "-"
    }
   },
   "outputs": [],
   "source": [
    "#load all necessary libraries\n",
    "import numpy as np\n",
    "import pandas as pd\n",
    "import os\n",
    "import matplotlib.pyplot as plt\n",
    "import plotly.graph_objects as go\n",
    "from plotly.subplots import make_subplots"
   ]
  },
  {
   "cell_type": "markdown",
   "id": "a7326242",
   "metadata": {},
   "source": [
    "## 1. Inputs\n",
    "\n",
    "**Assumed Values for The Four Base Purchasing Scenarios (Retail, E-com, Efficient e-etail, Both(Retail-E-com))**\n",
    "\n",
    "Each parameter in the model can be selected from a given range for any scenario. There are currently three selectable scenarios in the model (and another, default ,as a placeholder). While most of the values used are the same across all scenarios (and are by default selected as medium), we detail below the most important scenario assumptions used in the model, and the rationale for the assumptions selected in the given base scenarios.\n",
    "\n",
    "1. Retail Scenario\n",
    "2. E-tail Scenario\n",
    "3. Efficient e-tail Scenario\n",
    "4. Both Scenario\n",
    "\n"
   ]
  },
  {
   "cell_type": "code",
   "execution_count": 315,
   "id": "4623d49e",
   "metadata": {},
   "outputs": [
    {
     "name": "stdout",
     "output_type": "stream",
     "text": [
      "Enter the scenario: 1, 2, 3, 4:\n",
      "1\n"
     ]
    },
    {
     "data": {
      "text/html": [
       "<div>\n",
       "<style scoped>\n",
       "    .dataframe tbody tr th:only-of-type {\n",
       "        vertical-align: middle;\n",
       "    }\n",
       "\n",
       "    .dataframe tbody tr th {\n",
       "        vertical-align: top;\n",
       "    }\n",
       "\n",
       "    .dataframe thead th {\n",
       "        text-align: right;\n",
       "    }\n",
       "</style>\n",
       "<table border=\"1\" class=\"dataframe\">\n",
       "  <thead>\n",
       "    <tr style=\"text-align: right;\">\n",
       "      <th></th>\n",
       "      <th>SC-Retail</th>\n",
       "      <th>Description</th>\n",
       "      <th>low</th>\n",
       "      <th>med</th>\n",
       "      <th>high</th>\n",
       "      <th>Unit</th>\n",
       "      <th>Select_Level</th>\n",
       "    </tr>\n",
       "  </thead>\n",
       "  <tbody>\n",
       "    <tr>\n",
       "      <th>0</th>\n",
       "      <td>Product Info</td>\n",
       "      <td>Average Weight per item</td>\n",
       "      <td>1.00</td>\n",
       "      <td>5.00</td>\n",
       "      <td>10.00</td>\n",
       "      <td>lbs</td>\n",
       "      <td>high</td>\n",
       "    </tr>\n",
       "    <tr>\n",
       "      <th>1</th>\n",
       "      <td>Product Info</td>\n",
       "      <td>Weight of each shipping package</td>\n",
       "      <td>0.30</td>\n",
       "      <td>0.50</td>\n",
       "      <td>1.00</td>\n",
       "      <td>lbs</td>\n",
       "      <td>med</td>\n",
       "    </tr>\n",
       "    <tr>\n",
       "      <th>2</th>\n",
       "      <td>Product Info</td>\n",
       "      <td>Average Return Rate Online Purchase</td>\n",
       "      <td>0.10</td>\n",
       "      <td>0.20</td>\n",
       "      <td>0.30</td>\n",
       "      <td>NaN</td>\n",
       "      <td>med</td>\n",
       "    </tr>\n",
       "    <tr>\n",
       "      <th>3</th>\n",
       "      <td>Product Info</td>\n",
       "      <td>Average Return Rate In-store Purchase</td>\n",
       "      <td>0.05</td>\n",
       "      <td>0.10</td>\n",
       "      <td>0.15</td>\n",
       "      <td>NaN</td>\n",
       "      <td>med</td>\n",
       "    </tr>\n",
       "    <tr>\n",
       "      <th>4</th>\n",
       "      <td>Product Info</td>\n",
       "      <td>Average Cost per item</td>\n",
       "      <td>15.00</td>\n",
       "      <td>23.08</td>\n",
       "      <td>30.00</td>\n",
       "      <td>$/item</td>\n",
       "      <td>med</td>\n",
       "    </tr>\n",
       "  </tbody>\n",
       "</table>\n",
       "</div>"
      ],
      "text/plain": [
       "      SC-Retail                            Description    low    med   high  \\\n",
       "0  Product Info                Average Weight per item   1.00   5.00  10.00   \n",
       "1  Product Info        Weight of each shipping package   0.30   0.50   1.00   \n",
       "2  Product Info    Average Return Rate Online Purchase   0.10   0.20   0.30   \n",
       "3  Product Info  Average Return Rate In-store Purchase   0.05   0.10   0.15   \n",
       "4  Product Info                  Average Cost per item  15.00  23.08  30.00   \n",
       "\n",
       "     Unit Select_Level  \n",
       "0     lbs         high  \n",
       "1     lbs          med  \n",
       "2     NaN          med  \n",
       "3     NaN          med  \n",
       "4  $/item          med  "
      ]
     },
     "execution_count": 315,
     "metadata": {},
     "output_type": "execute_result"
    }
   ],
   "source": [
    "#Scenario = pd.read_csv('C:/Users/cata1/Box/Catalina Valencia/Project 1 - nDEE/Code/scenario.csv')\n",
    "#Scenario.head()\n",
    "\n",
    "# Choose an scenario\n",
    "print(\"Enter the scenario: 1, 2, 3, 4:\")\n",
    "option = input()\n",
    "\n",
    "# File name\n",
    "if option == \"1\":\n",
    "    file = 'Retail_Senario.csv'\n",
    "    Title1 = \"Retail\"\n",
    "elif option == \"2\":\n",
    "    file = 'E_tail_Scenario.csv'\n",
    "    Title1 = \"Etail\"\n",
    "elif option == \"3\":\n",
    "    file = 'EE_tail_Scenario.csv'\n",
    "    Title1 = \"Etail\"\n",
    "elif option == \"4\":\n",
    "    file = 'Both_Scenario.csv'\n",
    "    Title1 = \"Retail and Etail\"\n",
    "        \n",
    "\n",
    "Scenario = pd.read_csv(file, sep=',', header=0)  ################################################# Change to .xlsm\n",
    "\n",
    "\n",
    "#global Scenario\n",
    "Scenario.head()"
   ]
  },
  {
   "cell_type": "markdown",
   "id": "4d3de5c6",
   "metadata": {},
   "source": [
    "**Metropolitan Statistical Areas (MSA)**\n",
    "1. Chicago (CHI)\n",
    "2. Dallas (DAL)\n",
    "3. Washington D.C. (DC)\n",
    "4. Los Angeles (LA)\n",
    "5. New York City (NYC)\n",
    "6. San Francisco (SF) \n",
    "\n",
    "**Population growth scenarios specification**\n",
    "\n",
    "We attribute the future population growth to two developments, one is the future change in the socioeconomic conditions of the region, reflected in the change in the market shares of the different independent variables, and the other is the future growth of the total population of the region. We delineate two growth patterns, a moderate pattern, which implies little change in future socioeconomic conditions from the present and no significant growth in total population, and a high growth pattern, which implies a significant growth in both socioeconomic conditions and total population projection. After permutation, Table 2 shows the four population growth scenarios that we have delineated. \n",
    "\n",
    "IV Market Share Time Series Prediction and Total Population Projection\n",
    "\n",
    "1. Moderate-Moderate (MM)\n",
    "2. Moderate-High growth (MH)\n",
    "3. High growth-Moderate (HM)\n",
    "4. High growth-High growth (HH)\n"
   ]
  },
  {
   "cell_type": "code",
   "execution_count": 316,
   "id": "baec5ee7",
   "metadata": {},
   "outputs": [
    {
     "name": "stdout",
     "output_type": "stream",
     "text": [
      "Enter the MSA number: 1. CHI, 2. DAL, 3. DC, 4. LA, 5. NYC, 6. SF:\n",
      "1\n",
      "Enter the market share and population growth scenario: MM, MH, HM, HH:\n",
      "MM\n"
     ]
    },
    {
     "data": {
      "text/html": [
       "<div>\n",
       "<style scoped>\n",
       "    .dataframe tbody tr th:only-of-type {\n",
       "        vertical-align: middle;\n",
       "    }\n",
       "\n",
       "    .dataframe tbody tr th {\n",
       "        vertical-align: top;\n",
       "    }\n",
       "\n",
       "    .dataframe thead th {\n",
       "        text-align: right;\n",
       "    }\n",
       "</style>\n",
       "<table border=\"1\" class=\"dataframe\">\n",
       "  <thead>\n",
       "    <tr style=\"text-align: right;\">\n",
       "      <th></th>\n",
       "      <th>Market</th>\n",
       "      <th>Population</th>\n",
       "      <th>No shopping</th>\n",
       "      <th>In-store</th>\n",
       "      <th>Online</th>\n",
       "      <th>Both</th>\n",
       "    </tr>\n",
       "    <tr>\n",
       "      <th>Year</th>\n",
       "      <th></th>\n",
       "      <th></th>\n",
       "      <th></th>\n",
       "      <th></th>\n",
       "      <th></th>\n",
       "      <th></th>\n",
       "    </tr>\n",
       "  </thead>\n",
       "  <tbody>\n",
       "    <tr>\n",
       "      <th>2020</th>\n",
       "      <td>M</td>\n",
       "      <td>M</td>\n",
       "      <td>0.662866</td>\n",
       "      <td>0.270849</td>\n",
       "      <td>0.0443</td>\n",
       "      <td>0.022016</td>\n",
       "    </tr>\n",
       "    <tr>\n",
       "      <th>2030</th>\n",
       "      <td>M</td>\n",
       "      <td>M</td>\n",
       "      <td>0.650336</td>\n",
       "      <td>0.280445</td>\n",
       "      <td>0.0410</td>\n",
       "      <td>0.028185</td>\n",
       "    </tr>\n",
       "    <tr>\n",
       "      <th>2040</th>\n",
       "      <td>M</td>\n",
       "      <td>M</td>\n",
       "      <td>0.643596</td>\n",
       "      <td>0.284099</td>\n",
       "      <td>0.0412</td>\n",
       "      <td>0.031099</td>\n",
       "    </tr>\n",
       "    <tr>\n",
       "      <th>2050</th>\n",
       "      <td>M</td>\n",
       "      <td>M</td>\n",
       "      <td>0.637569</td>\n",
       "      <td>0.287408</td>\n",
       "      <td>0.0423</td>\n",
       "      <td>0.032697</td>\n",
       "    </tr>\n",
       "  </tbody>\n",
       "</table>\n",
       "</div>"
      ],
      "text/plain": [
       "     Market Population  No shopping  In-store  Online      Both\n",
       "Year                                                           \n",
       "2020      M          M     0.662866  0.270849  0.0443  0.022016\n",
       "2030      M          M     0.650336  0.280445  0.0410  0.028185\n",
       "2040      M          M     0.643596  0.284099  0.0412  0.031099\n",
       "2050      M          M     0.637569  0.287408  0.0423  0.032697"
      ]
     },
     "metadata": {},
     "output_type": "display_data"
    }
   ],
   "source": [
    "# Market Share and Population characteristics\n",
    "\n",
    "# MSA\n",
    "print(\"Enter the MSA number: 1. CHI, 2. DAL, 3. DC, 4. LA, 5. NYC, 6. SF:\")\n",
    "MSA_op = input()\n",
    "\n",
    "# Market\n",
    "print(\"Enter the market share and population growth scenario: MM, MH, HM, HH:\")\n",
    "PG = input()\n",
    "\n",
    "# File name\n",
    "if MSA_op == \"1\":\n",
    "    file = 'ARIMA_CHI.csv'\n",
    "elif MSA_op == \"2\":\n",
    "    file = 'ARIMA_DAL.csv'\n",
    "elif MSA_op == \"3\":\n",
    "    file = 'ARIMA_DC.csv'\n",
    "elif MSA_op == \"4\":\n",
    "    file = 'ARIMA_LA.csv'\n",
    "elif MSA_op == \"5\":\n",
    "    file = 'ARIMA_NYC.csv'\n",
    "elif MSA_op == \"6\":\n",
    "    file = 'ARIMA_SF.csv'\n",
    "        \n",
    "# Read the file\n",
    "MSA = pd.read_csv(file, sep=',', header=0)  \n",
    "\n",
    "# Concatenate market share and population growth scenario\n",
    "MSA['Concatenate'] = MSA['Market']+MSA['Population']\n",
    "MSA.set_index('Concatenate', inplace=True)\n",
    "\n",
    "# Market population matrix\n",
    "Get_selection = MSA.loc[PG]  \n",
    "Get_selection = Get_selection.reset_index(drop=True)\n",
    "\n",
    "Market_Population = pd.DataFrame(Get_selection)\n",
    "Market_Population.columns=['Market','Population','Year','No shopping','In-store','Online','Both']\n",
    "Years = Market_Population['Year']\n",
    "Market_Population.set_index('Year', inplace=True)\n",
    "display(Market_Population)    \n"
   ]
  },
  {
   "cell_type": "markdown",
   "id": "38ea2e5a",
   "metadata": {},
   "source": [
    "**Read the Summary_Report_Rates from MOVES model**\n",
    "\n",
    "User should provide here which percentage of Eenergy Intensity per year per vehicle whant to considere: \n",
    "\n",
    "1. Their own taking as a base the 2020 year from the MOVES model\n",
    "2. The MOVES model result"
   ]
  },
  {
   "cell_type": "code",
   "execution_count": 317,
   "id": "228acc8f",
   "metadata": {},
   "outputs": [
    {
     "name": "stdout",
     "output_type": "stream",
     "text": [
      "To upload percentages of energy per year per vehicle enter 1. Enter other number to considere the summary report rate\n",
      "2\n"
     ]
    },
    {
     "data": {
      "text/html": [
       "<div>\n",
       "<style scoped>\n",
       "    .dataframe tbody tr th:only-of-type {\n",
       "        vertical-align: middle;\n",
       "    }\n",
       "\n",
       "    .dataframe tbody tr th {\n",
       "        vertical-align: top;\n",
       "    }\n",
       "\n",
       "    .dataframe thead th {\n",
       "        text-align: right;\n",
       "    }\n",
       "</style>\n",
       "<table border=\"1\" class=\"dataframe\">\n",
       "  <thead>\n",
       "    <tr style=\"text-align: right;\">\n",
       "      <th></th>\n",
       "      <th>2030</th>\n",
       "      <th>2040</th>\n",
       "      <th>2050</th>\n",
       "    </tr>\n",
       "    <tr>\n",
       "      <th>Vehicle</th>\n",
       "      <th></th>\n",
       "      <th></th>\n",
       "      <th></th>\n",
       "    </tr>\n",
       "  </thead>\n",
       "  <tbody>\n",
       "    <tr>\n",
       "      <th>21</th>\n",
       "      <td>29.219770</td>\n",
       "      <td>42.150774</td>\n",
       "      <td>44.959139</td>\n",
       "    </tr>\n",
       "    <tr>\n",
       "      <th>31</th>\n",
       "      <td>24.923149</td>\n",
       "      <td>37.437493</td>\n",
       "      <td>41.201775</td>\n",
       "    </tr>\n",
       "    <tr>\n",
       "      <th>32</th>\n",
       "      <td>24.173891</td>\n",
       "      <td>38.562558</td>\n",
       "      <td>43.838382</td>\n",
       "    </tr>\n",
       "    <tr>\n",
       "      <th>41</th>\n",
       "      <td>6.947810</td>\n",
       "      <td>12.850457</td>\n",
       "      <td>15.591178</td>\n",
       "    </tr>\n",
       "    <tr>\n",
       "      <th>42</th>\n",
       "      <td>7.063396</td>\n",
       "      <td>13.916561</td>\n",
       "      <td>16.988215</td>\n",
       "    </tr>\n",
       "    <tr>\n",
       "      <th>52</th>\n",
       "      <td>12.907121</td>\n",
       "      <td>20.062416</td>\n",
       "      <td>21.262864</td>\n",
       "    </tr>\n",
       "    <tr>\n",
       "      <th>53</th>\n",
       "      <td>13.753583</td>\n",
       "      <td>20.224055</td>\n",
       "      <td>21.199165</td>\n",
       "    </tr>\n",
       "    <tr>\n",
       "      <th>61</th>\n",
       "      <td>9.156387</td>\n",
       "      <td>20.850043</td>\n",
       "      <td>21.958355</td>\n",
       "    </tr>\n",
       "    <tr>\n",
       "      <th>62</th>\n",
       "      <td>22.588839</td>\n",
       "      <td>38.413091</td>\n",
       "      <td>42.165043</td>\n",
       "    </tr>\n",
       "  </tbody>\n",
       "</table>\n",
       "</div>"
      ],
      "text/plain": [
       "              2030       2040       2050\n",
       "Vehicle                                 \n",
       "21       29.219770  42.150774  44.959139\n",
       "31       24.923149  37.437493  41.201775\n",
       "32       24.173891  38.562558  43.838382\n",
       "41        6.947810  12.850457  15.591178\n",
       "42        7.063396  13.916561  16.988215\n",
       "52       12.907121  20.062416  21.262864\n",
       "53       13.753583  20.224055  21.199165\n",
       "61        9.156387  20.850043  21.958355\n",
       "62       22.588839  38.413091  42.165043"
      ]
     },
     "metadata": {},
     "output_type": "display_data"
    },
    {
     "name": "stdout",
     "output_type": "stream",
     "text": [
      "Year         2020       2030       2040       2050\n",
      "Source                                            \n",
      "21       4.788579   3.705764   3.368662   3.303399\n",
      "31       6.640383   5.315574   4.831566   4.702762\n",
      "32       7.067066   5.691266   5.100271   4.913199\n",
      "41      24.690833  23.086805  21.879249  21.360482\n",
      "42      23.805318  22.234787  20.897153  20.348475\n",
      "52      18.197285  16.117040  15.156521  15.006478\n",
      "53      16.926782  14.880219  14.079364  13.966088\n",
      "61      23.885966  21.882334  19.764963  19.585346\n",
      "62      24.462510  19.954925  17.673553  17.207121\n"
     ]
    }
   ],
   "source": [
    "# Read the Summary_Report_Rates from MOVES model\n",
    "SRR = pd.read_csv('Summary_Report_Rates.csv', sep=',', header=0, na_values=['#DIV/0!'])\n",
    "\n",
    "# shape of SRR\n",
    "SRR.shape\n",
    "\n",
    "# null value \n",
    "SRR.isnull().sum()\n",
    "SRR[SRR != 0]\n",
    "\n",
    "# Check the MSA\n",
    "M = int(MSA_op)\n",
    "States_cities = [[17, 48, 11, 6, 36, 6],[1, 2, 3, 4, 5, 6]] # Considering state ID of the report\n",
    "for i in range(len(States_cities[0])):\n",
    "    if States_cities[1][i] == M:\n",
    "        State = States_cities[0][i]\n",
    "        \n",
    "# Get the Total Energy from summary report rate\n",
    "SRR_state = SRR.loc[SRR['State'] == State]\n",
    "Report_Energy1 = (SRR_state.groupby(['Source','Year'])['TotalEnergy'].mean().unstack())/1000 #MJ/mile  \n",
    "Report_Distance = (SRR_state.groupby(['Source','Year'])['Distance'].mean().unstack()) \n",
    "Vehicle_class = [21, 31, 32, 41, 42, 52, 53, 61, 62]\n",
    "Len_vehicles = len(Vehicle_class)\n",
    "Len_years = len(Years)\n",
    "\n",
    "# Choose an option to considere the Percentage of Eenergy Intensity per year\n",
    "print(\"To upload percentages of energy per year per vehicle enter 1. Enter other number to considere the summary report rate\")\n",
    "Percentage_option = input()\n",
    "if Percentage_option == \"1\":\n",
    "    file = 'Energy_Percentages.csv'\n",
    "    Percentages = pd.read_csv(file, sep=',', header=0) \n",
    "    Energy_Percentage_table = pd.DataFrame(Percentages) \n",
    "    Report_Energy = Report_Energy1.copy()\n",
    "    for i in Years:\n",
    "        if (Report_Energy[i] > 2020).all():\n",
    "            Report_Energy[i] = Report_Energy1[2020]*Percentages[Years[i].astype(str)]/100\n",
    "else:\n",
    "    Report_Energy = Report_Energy1.copy()\n",
    "    Per = np.zeros((int(Len_years)-1,int(Len_vehicles)))\n",
    "    for i in range(Len_years-1):\n",
    "        for j in range(Len_vehicles):\n",
    "            Per[i][j] = (Report_Energy[Years[0]][Vehicle_class[j]]/Report_Energy[Years[i+1]][Vehicle_class[j]])-1\n",
    "    Percentages = np.transpose(Per, axes=None)*100\n",
    "    Energy_Percentage_table = pd.DataFrame(Percentages, columns=['2030', '2040', '2050']) #Years_percentage)#\n",
    "\n",
    "# Print the percentage per vehicle per year\n",
    "Energy_Percentage_table['Vehicle']=Vehicle_class\n",
    "display(Energy_Percentage_table.set_index('Vehicle'))\n",
    "print(Report_Energy)   \n",
    " "
   ]
  },
  {
   "cell_type": "markdown",
   "id": "7705d455",
   "metadata": {},
   "source": [
    "**Read the VMT from the shopping travel model**\n",
    "\n",
    "Read the file \"Tables.xls\"  with the aggregate simulation results"
   ]
  },
  {
   "cell_type": "code",
   "execution_count": 318,
   "id": "2d6401af",
   "metadata": {},
   "outputs": [
    {
     "data": {
      "text/html": [
       "<div>\n",
       "<style scoped>\n",
       "    .dataframe tbody tr th:only-of-type {\n",
       "        vertical-align: middle;\n",
       "    }\n",
       "\n",
       "    .dataframe tbody tr th {\n",
       "        vertical-align: top;\n",
       "    }\n",
       "\n",
       "    .dataframe thead th {\n",
       "        text-align: right;\n",
       "    }\n",
       "</style>\n",
       "<table border=\"1\" class=\"dataframe\">\n",
       "  <thead>\n",
       "    <tr style=\"text-align: right;\">\n",
       "      <th></th>\n",
       "      <th>Online</th>\n",
       "    </tr>\n",
       "  </thead>\n",
       "  <tbody>\n",
       "    <tr>\n",
       "      <th>2020</th>\n",
       "      <td>1.873115</td>\n",
       "    </tr>\n",
       "    <tr>\n",
       "      <th>2030</th>\n",
       "      <td>1.829188</td>\n",
       "    </tr>\n",
       "    <tr>\n",
       "      <th>2040</th>\n",
       "      <td>1.733184</td>\n",
       "    </tr>\n",
       "    <tr>\n",
       "      <th>2050</th>\n",
       "      <td>1.640477</td>\n",
       "    </tr>\n",
       "  </tbody>\n",
       "</table>\n",
       "</div>"
      ],
      "text/plain": [
       "        Online\n",
       "2020  1.873115\n",
       "2030  1.829188\n",
       "2040  1.733184\n",
       "2050  1.640477"
      ]
     },
     "metadata": {},
     "output_type": "display_data"
    },
    {
     "data": {
      "text/html": [
       "<div>\n",
       "<style scoped>\n",
       "    .dataframe tbody tr th:only-of-type {\n",
       "        vertical-align: middle;\n",
       "    }\n",
       "\n",
       "    .dataframe tbody tr th {\n",
       "        vertical-align: top;\n",
       "    }\n",
       "\n",
       "    .dataframe thead th {\n",
       "        text-align: right;\n",
       "    }\n",
       "</style>\n",
       "<table border=\"1\" class=\"dataframe\">\n",
       "  <thead>\n",
       "    <tr style=\"text-align: right;\">\n",
       "      <th></th>\n",
       "      <th>In-store</th>\n",
       "    </tr>\n",
       "  </thead>\n",
       "  <tbody>\n",
       "    <tr>\n",
       "      <th>2020</th>\n",
       "      <td>4.952774</td>\n",
       "    </tr>\n",
       "    <tr>\n",
       "      <th>2030</th>\n",
       "      <td>4.631221</td>\n",
       "    </tr>\n",
       "    <tr>\n",
       "      <th>2040</th>\n",
       "      <td>5.081075</td>\n",
       "    </tr>\n",
       "    <tr>\n",
       "      <th>2050</th>\n",
       "      <td>6.104154</td>\n",
       "    </tr>\n",
       "  </tbody>\n",
       "</table>\n",
       "</div>"
      ],
      "text/plain": [
       "      In-store\n",
       "2020  4.952774\n",
       "2030  4.631221\n",
       "2040  5.081075\n",
       "2050  6.104154"
      ]
     },
     "metadata": {},
     "output_type": "display_data"
    }
   ],
   "source": [
    "# File name\n",
    "if MSA_op == \"1\":\n",
    "    name = 'MC_Chicago'\n",
    "elif MSA_op == \"2\":\n",
    "    name = 'MC_Dallas'\n",
    "elif MSA_op == \"3\":\n",
    "    name = 'MC_DC'\n",
    "elif MSA_op == \"4\":\n",
    "    name = 'MC_LA'\n",
    "elif MSA_op == \"5\":\n",
    "    name = 'MC_NYC'\n",
    "elif MSA_op == \"6\":\n",
    "    name = 'MC_SF'\n",
    "\n",
    "\n",
    "MC = pd.read_excel('tables.xlsx', sheet_name=name)\n",
    "\n",
    "# For last mile delivery\n",
    "Distance_Delivery_Route = pd.DataFrame(MC.iloc[2, 2:6]/(MC.iloc[0, 2:6]*Market_Population['Online']), columns=['Online'])\n",
    "display(Distance_Delivery_Route)\n",
    "\n",
    "# For Customer transport\n",
    "Shopping_Trip_Distance = pd.DataFrame(MC.iloc[1, 2:6]/(MC.iloc[0, 2:6]*Market_Population['In-store']), columns=['In-store'])\n",
    "display(Shopping_Trip_Distance)\n",
    "\n"
   ]
  },
  {
   "cell_type": "markdown",
   "id": "eb685c1f",
   "metadata": {},
   "source": [
    "## 1.1. Dashboard\n",
    "\n",
    "Inputs are defined as variables"
   ]
  },
  {
   "cell_type": "code",
   "execution_count": 319,
   "id": "7bf1aefa",
   "metadata": {},
   "outputs": [],
   "source": [
    "# -------------------------------------- Scenario select level ---------------------------------------------- #\n",
    "  \n",
    "def Scenario_Level(Scenario):\n",
    "    global Average_Weigth_Item\n",
    "    Average_Weigth_Item = []\n",
    "    if Scenario.Select_Level[0] == 'low':\n",
    "        Average_Weigth_Item = Scenario.low[0]\n",
    "    elif Scenario.Select_Level[0] == 'med':\n",
    "        Average_Weigth_Item = Scenario.med[0]\n",
    "    else: \n",
    "        Average_Weigth_Item = Scenario.high[0]\n",
    "\n",
    "    # Weight of each shipping package\n",
    "    global Weight_shipping_package\n",
    "    Weight_shipping_package = []\n",
    "    if Scenario.Select_Level[1] == 'low':\n",
    "        Weight_shipping_package = Scenario.low[1]\n",
    "    elif Scenario.Select_Level[1] == 'med':\n",
    "        Weight_shipping_package = Scenario.med[1]\n",
    "    else:\n",
    "        Weight_shipping_package = Scenario.high[1]\n",
    "\n",
    "    # Return Rates from Online Purchase - Estimates from Amazon\n",
    "    global Rate_Online_Purchase\n",
    "    Rate_Online_Purchase = []\n",
    "    if Scenario.Select_Level[2] == 'low':\n",
    "        Rate_Online_Purchase = Scenario.low[2] \n",
    "    elif Scenario.Select_Level[2] == 'med':\n",
    "        Rate_Online_Purchase = Scenario.med[2] \n",
    "    else:\n",
    "        Rate_Online_Purchase = Scenario.high[2] \n",
    "\n",
    "    # Return Rates from In-store Purchases - Estimates from Nick, Gerard\n",
    "    global Rate_Instore_Purchase\n",
    "    Rate_Instore_Purchase = []\n",
    "    if Scenario.Select_Level[3] == 'low':\n",
    "        Rate_Instore_Purchase = Scenario.low[3] \n",
    "    elif Scenario.Select_Level[3] == 'med':\n",
    "        Rate_Instore_Purchase = Scenario.med[3] \n",
    "    else:\n",
    "        Rate_Instore_Purchase = Scenario.high[3]\n",
    "    # Average Cost per item\n",
    "    global Cost_per_item\n",
    "    Cost_per_item = []\n",
    "    if Scenario.Select_Level[4] == 'low':\n",
    "        Cost_per_item = Scenario.low[4]\n",
    "    elif Scenario.Select_Level[4] == 'med':\n",
    "        Cost_per_item = Scenario.med[4]\n",
    "    else:\n",
    "        Cost_per_item = Scenario.high[4]\n",
    "\n",
    "\n",
    "    #------------------------------------------------- Packaging ------------------------------------------------ #\n",
    "    # Average item volume\n",
    "    global Average_item_volume\n",
    "    Average_item_volume = []\n",
    "    if Scenario.Select_Level[5] == 'low':\n",
    "        Average_item_volume = Scenario.low[5]\n",
    "    elif Scenario.Select_Level[5] == 'med':\n",
    "        Average_item_volume = Scenario.med[5]\n",
    "    else: \n",
    "        Average_item_volume = Scenario.high[5]\n",
    "\n",
    "    # Energy & Emission per packaging material (Retail)\n",
    "    global Energy_Emission_per_packaging_material_Retail\n",
    "    Energy_Emission_per_packaging_material_Retail = []\n",
    "    if Scenario.Select_Level[6] == 'low':\n",
    "        Energy_Emission_per_packaging_material_Retail = 0\n",
    "    elif Scenario.Select_Level[6] == 'med':\n",
    "        Energy_Emission_per_packaging_material_Retail = 1\n",
    "    else: \n",
    "        Energy_Emission_per_packaging_material_Retail = 2\n",
    "\n",
    "    # Energy & Emission per packaging material (Etail)\n",
    "    global Energy_Emission_per_packaging_material_Etail\n",
    "    Energy_Emission_per_packaging_material_Etail = []\n",
    "    if Scenario.Select_Level[7] == 'low':\n",
    "        Energy_Emission_per_packaging_material_Etail = 0\n",
    "    elif Scenario.Select_Level[7] == 'med':\n",
    "        Energy_Emission_per_packaging_material_Etail = 1\n",
    "    else: \n",
    "        Energy_Emission_per_packaging_material_Etail = 2\n",
    "\n",
    "    # -------------------------------------------- Shipping Option ---------------------------------------------- #\n",
    "    # Select Level of Rush Shipments\n",
    "    global Select_Level_of_Rush_Shipments\n",
    "    Select_Level_of_Rush_Shipments = []\n",
    "    if Scenario.Select_Level[8] == 'low':\n",
    "        Select_Level_of_Rush_Shipments = 0\n",
    "    elif Scenario.Select_Level[8] == 'med':\n",
    "        Select_Level_of_Rush_Shipments = 1\n",
    "    else: \n",
    "        Select_Level_of_Rush_Shipments = 2\n",
    "\n",
    "    # Air %\n",
    "    global Energy_Intensity_Air_perc\n",
    "    Energy_Intensity_Air_perc = [] \n",
    "    if Scenario.Select_Level[9] == 'low':\n",
    "        Energy_Intensity_Air_perc = Scenario.low[9] \n",
    "    elif Scenario.Select_Level[9] == 'med':\n",
    "        Energy_Intensity_Air_perc = Scenario.med[9] \n",
    "    else: \n",
    "        Energy_Intensity_Air_perc = Scenario.high[9] \n",
    "\n",
    "    # -------------------------------------------- Energy Intensity ---------------------------------------------- #\n",
    "\n",
    "    # Rail\n",
    "    global Energy_Intensity_Rail\n",
    "    Energy_Intensity_Rail = [] \n",
    "    if Scenario.Select_Level[10] == 'low':\n",
    "        Energy_Intensity_Rail = Scenario.low[10]\n",
    "    elif Scenario.Select_Level[10] == 'med':\n",
    "        Energy_Intensity_Rail = Scenario.med[10]\n",
    "    else: \n",
    "        Energy_Intensity_Rail = Scenario.high[10]  \n",
    "\n",
    "    # Air Carrier Shipment \n",
    "    global Energy_Intensity_Air\n",
    "    Energy_Intensity_Air = [] \n",
    "    if Scenario.Select_Level[11] == 'low':\n",
    "        Energy_Intensity_Air = Scenario.low[11]\n",
    "    elif Scenario.Select_Level[11] == 'med':\n",
    "        Energy_Intensity_Air = Scenario.med[11]\n",
    "    else: \n",
    "        Energy_Intensity_Air = Scenario.high[11]    \n",
    "\n",
    "\n",
    "\n",
    "    # ------------------------------------------------ Freight ---------------------------------------------------- #\n",
    "    # Select type of road vehicle for FTL\n",
    "    global Type_of_road_vehicle_FTL\n",
    "    Type_of_road_vehicle_FTL = Scenario.Select_Level[12] \n",
    "\n",
    "    # Select Shipping efficiency\n",
    "    global Select_Shipping_efficiency\n",
    "    Select_Shipping_efficiency = []\n",
    "    if Scenario.Select_Level[13] == 'low':\n",
    "        Select_Shipping_efficiency = 0\n",
    "    elif Scenario.Select_Level[13] == 'med':\n",
    "        Select_Shipping_efficiency = 1\n",
    "    else: \n",
    "        Select_Shipping_efficiency = 2  \n",
    "\n",
    "\n",
    "\n",
    "    # --------------------------------------- Computer usage ----------------------------------------------------- #\n",
    "    # Energy Usage Selection\n",
    "    global Energy_Usage_Selection\n",
    "    Energy_Usage_Selection = [] # kWh/GB\n",
    "    if Scenario.Select_Level[15] == 'low':\n",
    "        Energy_Usage_Selection = Scenario.low[15]\n",
    "    elif Scenario.Select_Level[15] == 'med':\n",
    "        Energy_Usage_Selection = Scenario.med[15]\n",
    "    else: \n",
    "        Energy_Usage_Selection = Scenario.high[15]\n",
    "\n",
    "    # Data usage per item\n",
    "    global Data_Usage_Item\n",
    "    Data_Usage_Item = [] #MB/item\n",
    "    if Scenario.Select_Level[16] == 'low':\n",
    "        Data_Usage_Item = Scenario.low[16]\n",
    "    elif Scenario.Select_Level[16] == 'med':\n",
    "        Data_Usage_Item = Scenario.med[16]\n",
    "    else: \n",
    "        Data_Usage_Item = Scenario.high[16]\n",
    "\n",
    "    # ------------------------------------------------ Last Mile ------------------------------------------------- #\n",
    "    # Packages per delivery route\n",
    "    #Packages_Delivery_Route = []\n",
    "    #if Scenario.Select_Level[17] == 'low':\n",
    "    #    Packages_Delivery_Route = Scenario.low[17]\n",
    "    #elif Scenario.Select_Level[17] == 'med':\n",
    "    #    Packages_Delivery_Route = Scenario.med[17]\n",
    "    #else: \n",
    "    #    Packages_Delivery_Route = Scenario.high[17]\n",
    "\n",
    "    # Distance per delivery route\n",
    "    #Distance_Delivery_Route = []\n",
    "    #if Scenario.Select_Level[18] == 'low':\n",
    "    #    Distance_Delivery_Route = Scenario.low[18]\n",
    "    #elif Scenario.Select_Level[18] == 'med':\n",
    "    #    Distance_Delivery_Route = Scenario.med[18]\n",
    "    #else: \n",
    "    #    Distance_Delivery_Route = Scenario.high[18]\n",
    "\n",
    "    # ------------------------------------------ Customer Transport ---------------------------------------------- #\n",
    "    # Shopping trip distance\n",
    "    #Shopping_Trip_Distance = [] # miles\n",
    "    #if Scenario.Select_Level[19] == 'low':\n",
    "    #    Shopping_Trip_Distance = Scenario.low[19]\n",
    "    #elif Scenario.Select_Level[19] == 'med':\n",
    "    #    Shopping_Trip_Distance = Scenario.med[19]\n",
    "    #else: \n",
    "    #    Shopping_Trip_Distance = Scenario.high[19]\n",
    "\n",
    "    # Basket size in-store\n",
    "    global Basket_Size_InStore\n",
    "    Basket_Size_InStore = [] # items/person\n",
    "    if Scenario.Select_Level[17] == 'low':\n",
    "        Basket_Size_InStore = Scenario.low[17]\n",
    "    elif Scenario.Select_Level[17] == 'med':\n",
    "        Basket_Size_InStore = Scenario.med[17]\n",
    "    else: \n",
    "        Basket_Size_InStore = Scenario.high[17]\n",
    "\n",
    "    # Basket size online\n",
    "    global Basket_size_online\n",
    "    Basket_size_online = [] # items/order\n",
    "    if Scenario.Select_Level[18] == 'low':\n",
    "        Basket_size_online = Scenario.low[18]\n",
    "    elif Scenario.Select_Level[18] == 'med':\n",
    "        Basket_size_online = Scenario.med[18]\n",
    "    else: \n",
    "        Basket_size_online = Scenario.high[18]\n",
    "\n",
    "    # Fleet fuel economy\n",
    "    global Fleet_Fuel_Economy\n",
    "    Fleet_Fuel_Economy = [] # mpg\n",
    "    if Scenario.Select_Level[19] == 'low':\n",
    "        Fleet_Fuel_Economy = Scenario.low[19]\n",
    "    elif Scenario.Select_Level[19] == 'med':\n",
    "        Fleet_Fuel_Economy = Scenario.med[19]\n",
    "    else: \n",
    "        Fleet_Fuel_Economy = Scenario.high[19]\n",
    "    \n",
    "    # ---------------------------------------------Retail - Warehouse ---------------------------------------------#\n",
    "    global Retail_energy_use\n",
    "    Retail_energy_use = [] # MJ/item\n",
    "    global R_count\n",
    "    R_count = 0\n",
    "    if Scenario.Select_Level[20] == 'low':\n",
    "        Retail_energy_use = Scenario.low[20]\n",
    "    elif Scenario.Select_Level[20] == 'med':\n",
    "        Retail_energy_use = Scenario.med[20]\n",
    "        R_count = 1\n",
    "    else: \n",
    "        Retail_energy_use = Scenario.high[20]\n",
    "        R_count = 2\n",
    "    \n",
    "    global Retail_Warehouse_energy_use\n",
    "    Retail_Warehouse_energy_use = [] # MJ/item\n",
    "    global O_count \n",
    "    O_count = 0\n",
    "    if Scenario.Select_Level[21] == 'low':\n",
    "        Retail_Warehouse_energy_use = Scenario.low[21]\n",
    "    elif Scenario.Select_Level[21] == 'med':\n",
    "        Retail_Warehouse_energy_use = Scenario.med[21]\n",
    "        O_count = 1\n",
    "    else: \n",
    "        Retail_Warehouse_energy_use = Scenario.high[21]\n",
    "        O_count = 2\n",
    "    \n",
    "    global Etail_Warehouse_energy_use\n",
    "    Etail_Warehouse_energy_use = [] # MJ/item\n",
    "    global A_count\n",
    "    A_count = 0\n",
    "    if Scenario.Select_Level[22] == 'low':\n",
    "        Etail_Warehouse_energy_use = Scenario.low[22]\n",
    "    elif Scenario.Select_Level[22] == 'med':\n",
    "        Etail_Warehouse_energy_use = Scenario.med[22]\n",
    "        A_count = 1\n",
    "    else: \n",
    "        Etail_Warehouse_energy_use = Scenario.high[22]\n",
    "        A_count = 2\n",
    "    return\n",
    "    # ------------------------------------------------------------------------------------------------------------ #\n",
    "    \n",
    "\n",
    "# --------------------------------------------- OmniChannel----------------------------------------------------#\n",
    "def Retail_Online_perc(Year_selected):\n",
    "    if option == \"1\": # Retail\n",
    "        Retail_per = 1\n",
    "    elif option == \"2\": # E-tail\n",
    "        Retail_per = 0\n",
    "    elif option == \"3\": # Amazon\n",
    "        Retail_per = 0\n",
    "    elif option == \"4\": # Both\n",
    "        Retail_per = (Market_Population['In-store'][Year_selected]+\n",
    "                      Market_Population['Both'][Year_selected])/(Market_Population['In-store'][Year_selected]+\n",
    "                                                                 Market_Population['Online'][Year_selected]+\n",
    "                                                                 Market_Population['Both'][Year_selected])\n",
    "    return(Retail_per)  "
   ]
  },
  {
   "cell_type": "markdown",
   "id": "b93e4f60",
   "metadata": {},
   "source": [
    "## **2. Scenarios**"
   ]
  },
  {
   "cell_type": "markdown",
   "id": "74b3d78e",
   "metadata": {},
   "source": [
    "### 2.1 Efficient e-tail Scenario\n",
    "This section collects assumptions and other parameters needed to estimate the effects associated with the effects of pushing products through the Amazon distribution network.\n",
    "\n",
    "Reference to EGRID:\n",
    "60 lbs/MWh,min state from US EPA EGRID Database, 2016. https://www.epa.gov/energy/emissions-generation-resource-integrated-database-egrid \n"
   ]
  },
  {
   "cell_type": "code",
   "execution_count": 320,
   "id": "205bb7de",
   "metadata": {
    "scrolled": true
   },
   "outputs": [],
   "source": [
    "def WarehouseAmazon():\n",
    "    # -------------------------------------Annual Values ---------------------------------------------------- #\n",
    "    #  2012 CBECS Data; https://www.eia.gov/consumption/commercial/data/2012/c&e/cfm/c30.php. Low average and high values for the  regions in the US\n",
    "    Nat_Gas_Use_cuft = np.array([7, 12, 27]) # cu ft/sq ft for low, med, high\n",
    "    Nat_Gas_Use_BTU = Nat_Gas_Use_cuft * 1030 # BTU/sq ft low, med, high\n",
    "    Nat_Gas_Use_Joule = Nat_Gas_Use_BTU * 1055 # Joule/sq ft low, med, high\n",
    "    Nat_Gas_Use_MJ = Nat_Gas_Use_Joule / 1000000 # MJ/sq ft low, med, high\n",
    "    \n",
    "    # Similar to above, CBECS Data; https://www.eia.gov/consumption/commercial/data/2012/c&e/cfm/c20.php\n",
    "    Electricity_Use_kWh = np.array([5, 8.5, 12]) # kWh/sq ft for low, med, high\n",
    "    Electricity_Use_MJe = Electricity_Use_kWh * 3.6 # MJe/sf for low, med, high\n",
    "    \n",
    "    # ---------------------------------- AMAZON Estimates 2018------------------------------------------------ #\n",
    "    GLOBAL_items_net_of_returns = 12       # Billion items\n",
    "    Value_per_item = 23.08                 # per item\n",
    "    Items_per_package = 1.2                # items/package\n",
    "    GLOBAL_value_per_package = 27.70       # per package\n",
    "    GLOBAL_net_packages_after_returns = 10 # Billion packages\n",
    "    Estimated_return_rate = 0.2            # 20%       \n",
    "    Returns_at_20_total_below = 2.5        # Billion packages\n",
    "    TOTAL_GROSS_OUTBOUND_PACKAGES = 12.5  # Billion packages\n",
    "    US_PERCENT_OF_THE_ABOVE = 0.65        # 65%\n",
    "    US_TOTAL_GROSS_OUTBOUND_PACKAGES = 8.125 # Billion packages\n",
    "    US_Returned_packages = 1.625           # Billion packages\n",
    "    US_Net_outbound_packages= 6.5          # Billion packages\n",
    "    Estimated_US_Net_outbound_items = 7.8  # Billion items\n",
    "    Assumed_items_per_return_package = 1   # items/package\n",
    "    Estimated_US_returned_items = 1.625    # Billion items\n",
    "    Estimated_US_Net_outbound_items = 9.425 # billion items\n",
    "    \n",
    "    # ---------------------------- Estimated flows for Amazon ----------------------------------------------- #\n",
    "    Type_Number = np.array([162, 53, 10, 47, 152, 5])\n",
    "    Avg_Size = np.array([750000, 40000, 600000, 350000, 90000, 150000]) #sq ft\n",
    "    \n",
    "    # Range of Annual Shipments \"flow through of total\" per facility (take all the ~9 billion and assume they all go through this facility type, divide by number of facilities in the type)\n",
    "    global E_Summary_range_used\n",
    "    E_Summary_range_used = np.array([[0.8, 0.01, 0.1, 0.6, 0.4, Energy_Intensity_Air_perc],[1, 0.1, 0.3, 0.8, 0.6, Energy_Intensity_Air_perc]])\n",
    "    low = np.array(E_Summary_range_used [0,]*Estimated_US_Net_outbound_items*(10**9)/Type_Number) # (% of tot ship flow thru)\n",
    "    med = np.array((E_Summary_range_used [0,]+E_Summary_range_used [1,])/2*Estimated_US_Net_outbound_items*(10**9)/Type_Number) # (% of tot ship flow thru)\n",
    "    high = np.array(E_Summary_range_used [1,]*Estimated_US_Net_outbound_items*(10**9)/Type_Number) # (% of tot ship flow thru)\n",
    "    \n",
    "    class Fulfillment():\n",
    "        E_Nat_Gas_Use_Ave_Anual_FacilityMJ = np.array(Nat_Gas_Use_MJ * Avg_Size[0])\n",
    "        E_Electricity_Use_Anual_FacilitykWh = Electricity_Use_kWh * Avg_Size[0]                                                                       \n",
    "        E_Electricity_Use_Anual_FacilityMJ = Electricity_Use_MJe * Avg_Size[0]\n",
    "        Energy_Use = E_Nat_Gas_Use_Ave_Anual_FacilityMJ + E_Electricity_Use_Anual_FacilityMJ\n",
    "        C_Nat_Gas_Use_Ave_Anual_FacilitykgCO2 = E_Nat_Gas_Use_Ave_Anual_FacilityMJ * 0.056\n",
    "        C_Electricity_Use_Anual_FacilitykgCO2 = E_Electricity_Use_Anual_FacilitykWh * [60/2.2/1000, 940/2.2/1000, 2000/2.2/1000]\n",
    "        Carbon_Use = C_Nat_Gas_Use_Ave_Anual_FacilitykgCO2 + C_Electricity_Use_Anual_FacilitykgCO2\n",
    "        Energy_Use_Per_Item_Shipped = np.array([Energy_Use[0]/high[0],Energy_Use[1]/med[0],Energy_Use[2]/low[0]]) # (MJ/item)\n",
    "        Carbon_emissions_Per_Item_Shipped = np.array([Carbon_Use[0]/high[0],Carbon_Use[1]/med[0],Carbon_Use[2]/low[0]]) #(kg CO2/item) - for g CO2, multiply by 1000!\n",
    "        \n",
    "    class Prime_Now_Hubs():\n",
    "        E_Nat_Gas_Use_Ave_Anual_FacilityMJ = np.array(Nat_Gas_Use_MJ * Avg_Size[1])\n",
    "        E_Electricity_Use_Anual_FacilitykWh = Electricity_Use_kWh * Avg_Size[1]                                                                       \n",
    "        E_Electricity_Use_Anual_FacilityMJ = Electricity_Use_MJe * Avg_Size[1]\n",
    "        Energy_Use = E_Nat_Gas_Use_Ave_Anual_FacilityMJ + E_Electricity_Use_Anual_FacilityMJ\n",
    "        C_Nat_Gas_Use_Ave_Anual_FacilitykgCO2 = E_Nat_Gas_Use_Ave_Anual_FacilityMJ * 0.056\n",
    "        C_Electricity_Use_Anual_FacilitykgCO2 = E_Electricity_Use_Anual_FacilitykWh * [60/2.2/1000, 940/2.2/1000, 2000/2.2/1000]\n",
    "        Carbon_Use = C_Nat_Gas_Use_Ave_Anual_FacilitykgCO2 + C_Electricity_Use_Anual_FacilitykgCO2\n",
    "        Energy_Use_Per_Item_Shipped = np.array([Energy_Use[0]/high[1],Energy_Use[1]/med[1],Energy_Use[2]/low[1]]) # (MJ/item)\n",
    "        Carbon_emissions_Per_Item_Shipped = np.array([Carbon_Use[0]/high[1],Carbon_Use[1]/med[1],Carbon_Use[2]/low[1]]) #(kg CO2/item) - for g CO2, multiply by 1000!\n",
    "        \n",
    "    class Inbound_Sortation():\n",
    "        E_Nat_Gas_Use_Ave_Anual_FacilityMJ = np.array(Nat_Gas_Use_MJ * Avg_Size[2])\n",
    "        E_Electricity_Use_Anual_FacilitykWh = Electricity_Use_kWh * Avg_Size[2]                                                                       \n",
    "        E_Electricity_Use_Anual_FacilityMJ = Electricity_Use_MJe * Avg_Size[2]\n",
    "        Energy_Use = E_Nat_Gas_Use_Ave_Anual_FacilityMJ + E_Electricity_Use_Anual_FacilityMJ\n",
    "        C_Nat_Gas_Use_Ave_Anual_FacilitykgCO2 = E_Nat_Gas_Use_Ave_Anual_FacilityMJ * 0.056\n",
    "        C_Electricity_Use_Anual_FacilitykgCO2 = E_Electricity_Use_Anual_FacilitykWh * [60/2.2/1000, 940/2.2/1000, 2000/2.2/1000]\n",
    "        Carbon_Use = C_Nat_Gas_Use_Ave_Anual_FacilitykgCO2 + C_Electricity_Use_Anual_FacilitykgCO2\n",
    "        Energy_Use_Per_Item_Shipped = np.array([Energy_Use[0]/high[2],Energy_Use[1]/med[2],Energy_Use[2]/low[2]]) # (MJ/item)\n",
    "        Carbon_emissions_Per_Item_Shipped = np.array([Carbon_Use[0]/high[2],Carbon_Use[1]/med[2],Carbon_Use[2]/low[2]]) #(kg CO2/item) - for g CO2, multiply by 1000!\n",
    "        \n",
    "    class Outbound_Sortation():\n",
    "        E_Nat_Gas_Use_Ave_Anual_FacilityMJ = np.array(Nat_Gas_Use_MJ * Avg_Size[3])\n",
    "        E_Electricity_Use_Anual_FacilitykWh = Electricity_Use_kWh * Avg_Size[3]                                                                       \n",
    "        E_Electricity_Use_Anual_FacilityMJ = Electricity_Use_MJe * Avg_Size[3]\n",
    "        Energy_Use = E_Nat_Gas_Use_Ave_Anual_FacilityMJ + E_Electricity_Use_Anual_FacilityMJ\n",
    "        C_Nat_Gas_Use_Ave_Anual_FacilitykgCO2 = E_Nat_Gas_Use_Ave_Anual_FacilityMJ * 0.056\n",
    "        C_Electricity_Use_Anual_FacilitykgCO2 = E_Electricity_Use_Anual_FacilitykWh * [60/2.2/1000, 940/2.2/1000, 2000/2.2/1000]\n",
    "        Carbon_Use = C_Nat_Gas_Use_Ave_Anual_FacilitykgCO2 + C_Electricity_Use_Anual_FacilitykgCO2\n",
    "        Energy_Use_Per_Item_Shipped = np.array([Energy_Use[0]/high[3],Energy_Use[1]/med[3],Energy_Use[2]/low[3]]) # (MJ/item)\n",
    "        Carbon_emissions_Per_Item_Shipped = np.array([Carbon_Use[0]/high[3],Carbon_Use[1]/med[3],Carbon_Use[2]/low[3]]) #(kg CO2/item) - for g CO2, multiply by 1000!\n",
    "        \n",
    "    class Delivery_Stations():\n",
    "        E_Nat_Gas_Use_Ave_Anual_FacilityMJ = np.array(Nat_Gas_Use_MJ * Avg_Size[4])\n",
    "        E_Electricity_Use_Anual_FacilitykWh = Electricity_Use_kWh * Avg_Size[4]                                                                       \n",
    "        E_Electricity_Use_Anual_FacilityMJ = Electricity_Use_MJe * Avg_Size[4]\n",
    "        Energy_Use = E_Nat_Gas_Use_Ave_Anual_FacilityMJ + E_Electricity_Use_Anual_FacilityMJ\n",
    "        C_Nat_Gas_Use_Ave_Anual_FacilitykgCO2 = E_Nat_Gas_Use_Ave_Anual_FacilityMJ * 0.056\n",
    "        C_Electricity_Use_Anual_FacilitykgCO2 = E_Electricity_Use_Anual_FacilitykWh * [60/2.2/1000, 940/2.2/1000, 2000/2.2/1000]\n",
    "        Carbon_Use = C_Nat_Gas_Use_Ave_Anual_FacilitykgCO2 + C_Electricity_Use_Anual_FacilitykgCO2\n",
    "        Energy_Use_Per_Item_Shipped = np.array([Energy_Use[0]/high[4],Energy_Use[1]/med[4],Energy_Use[2]/low[4]]) # (MJ/item)\n",
    "        Carbon_emissions_Per_Item_Shipped = np.array([Carbon_Use[0]/high[4],Carbon_Use[1]/med[4],Carbon_Use[2]/low[4]]) #(kg CO2/item) - for g CO2, multiply by 1000!\n",
    "        \n",
    "    class Airport_Hubs():\n",
    "        E_Nat_Gas_Use_Ave_Anual_FacilityMJ = np.array(Nat_Gas_Use_MJ * Avg_Size[5])\n",
    "        E_Electricity_Use_Anual_FacilitykWh = Electricity_Use_kWh * Avg_Size[5]                                                                       \n",
    "        E_Electricity_Use_Anual_FacilityMJ = Electricity_Use_MJe * Avg_Size[5]\n",
    "        Energy_Use = E_Nat_Gas_Use_Ave_Anual_FacilityMJ + E_Electricity_Use_Anual_FacilityMJ\n",
    "        C_Nat_Gas_Use_Ave_Anual_FacilitykgCO2 = E_Nat_Gas_Use_Ave_Anual_FacilityMJ * 0.056\n",
    "        C_Electricity_Use_Anual_FacilitykgCO2 = E_Electricity_Use_Anual_FacilitykWh * [60/2.2/1000, 940/2.2/1000, 2000/2.2/1000]\n",
    "        Carbon_Use = C_Nat_Gas_Use_Ave_Anual_FacilitykgCO2 + C_Electricity_Use_Anual_FacilitykgCO2\n",
    "        Energy_Use_Per_Item_Shipped = np.array([Energy_Use[2]/high[5],Energy_Use[2]/med[5],Energy_Use[2]/low[5]]) # (MJ/item)\n",
    "        Carbon_emissions_Per_Item_Shipped = np.array([Carbon_Use[2]/high[5],Carbon_Use[2]/med[5],Carbon_Use[2]/low[5]]) #(kg CO2/item) - for g CO2, multiply by 1000!\n",
    "    \n",
    "    # ------------------------------------------- Outputs --------------------------------------------------- #\n",
    "    A_Type_Center = [Fulfillment, Prime_Now_Hubs, Inbound_Sortation, \n",
    "                   Outbound_Sortation, Delivery_Stations, Airport_Hubs]\n",
    "    Total_Energy = np.array([0, 0, 0])\n",
    "    Total_Carbon = np.array([0, 0, 0])\n",
    "    for i in A_Type_Center:\n",
    "        Total_Energy = i.Energy_Use_Per_Item_Shipped + Total_Energy\n",
    "        Total_Carbon = i.Carbon_emissions_Per_Item_Shipped + Total_Carbon\n",
    "        \n",
    "    return(Total_Carbon)\n",
    "    # ---------------------------------------------------------------------------------------------------------- #"
   ]
  },
  {
   "cell_type": "markdown",
   "id": "7a3d7de3",
   "metadata": {},
   "source": [
    "### 2.2. Warehouse Retail (Omni)\n",
    "This section collects assumptions and other parameters needed to estimate the effects associated with the effects of pushing products through a retail distribution network.This section uses data from Target (provided by Jerry). This is thus representative of a large-scale retailer and not a smaller, niche, retailer.\n"
   ]
  },
  {
   "cell_type": "code",
   "execution_count": 321,
   "id": "72e40c0a",
   "metadata": {},
   "outputs": [],
   "source": [
    "def WarehouseRetail():\n",
    "    # -------------------------------------Annual Values ---------------------------------------------------- #\n",
    "    #  2012 CBECS Data; https://www.eia.gov/consumption/commercial/data/2012/c&e/cfm/c30.php. Low average and high values for the  regions in the US\n",
    "    Nat_Gas_Use_cuft = np.array([7, 12, 27]) # cu ft/sq ft for low, med, high\n",
    "    Nat_Gas_Use_BTU = Nat_Gas_Use_cuft * 1030 # BTU/sq ft low, med, high\n",
    "    Nat_Gas_Use_Joule = Nat_Gas_Use_BTU * 1055 # Joule/sq ft low, med, high\n",
    "    Nat_Gas_Use_MJ = Nat_Gas_Use_Joule / 1000000 # MJ/sq ft low, med, high\n",
    "    \n",
    "    # Similar to above, CBECS Data; https://www.eia.gov/consumption/commercial/data/2012/c&e/cfm/c20.php\n",
    "    Electricity_Use_kWh = np.array([5, 8.5, 12]) # kWh/sq ft for low, med, high\n",
    "    Electricity_Use_MJe = Electricity_Use_kWh * 3.6 # MJe/sf for low, med, high\n",
    "    \n",
    "    # ---------------------------------- Total Estimates 2018------------------------------------------------ #\n",
    "    Total_Annual_Target_Revenue = 74 # Billion items\n",
    "    Avg_Price_per_item = 23 # $ per item\n",
    "    Tot_items_sold = Total_Annual_Target_Revenue/Avg_Price_per_item # Billions\n",
    "    Avg_items_bulk_carton_shipped = 24 # per package\n",
    "    Total_Annual_Target_Cartons_Shipped = Tot_items_sold/Avg_items_bulk_carton_shipped # Billion packages\n",
    "        \n",
    "    # ---------------------------- Estimated flows for Amazon ----------------------------------------------- #\n",
    "    \n",
    "    Type_Number = np.array([26, 4, 5, 5])\n",
    "    Avg_Size = np.array([1500000, 1800000, 0, 700000]) #sq ft\n",
    "    \n",
    "    # Range of Annual Shipments \"flow through of total\" per facility (take all the ~9 billion and assume they all go through this facility type, divide by number of facilities in the type)\n",
    "    global R_Summary_range_used\n",
    "    R_Summary_range_used = np.array([[0.9, 0.1, 0.1, 0.05],[1, 0.2, 0.3, 0.1]])\n",
    "    low = np.array(R_Summary_range_used [0,]*Total_Annual_Target_Cartons_Shipped*(10**9)/Type_Number) # (% of tot ship flow thru)\n",
    "    med = np.array(((R_Summary_range_used [0,]+R_Summary_range_used [1,])/2)*Total_Annual_Target_Cartons_Shipped*(10**9)/Type_Number) # (% of tot ship flow thru)\n",
    "    high = np.array(R_Summary_range_used [1,]*Total_Annual_Target_Cartons_Shipped*(10**9)/Type_Number) # (% of tot ship flow thru)\n",
    "    \n",
    "    class Reg_Dist_Centers():\n",
    "        E_Nat_Gas_Use_Ave_Anual_FacilityMJ = np.array(Nat_Gas_Use_MJ * Avg_Size[0])\n",
    "        E_Electricity_Use_Anual_FacilitykWh = Electricity_Use_kWh * Avg_Size[0]                                                                       \n",
    "        E_Electricity_Use_Anual_FacilityMJ = Electricity_Use_MJe * Avg_Size[0]\n",
    "        Energy_Use = E_Nat_Gas_Use_Ave_Anual_FacilityMJ + E_Electricity_Use_Anual_FacilityMJ\n",
    "        C_Nat_Gas_Use_Ave_Anual_FacilitykgCO2 = E_Nat_Gas_Use_Ave_Anual_FacilityMJ * 0.056\n",
    "        C_Electricity_Use_Anual_FacilitykgCO2 = E_Electricity_Use_Anual_FacilitykWh * [60/2.2/1000, 940/2.2/1000, 2000/2.2/1000]\n",
    "        Carbon_Use = C_Nat_Gas_Use_Ave_Anual_FacilitykgCO2 + C_Electricity_Use_Anual_FacilitykgCO2\n",
    "        Energy_Use_Per_CARTON_Shipped = np.array([Energy_Use[0]/high[0], Energy_Use[1]/med[0], Energy_Use[2]/low[0]]) # (MJ/item)\n",
    "        Energy_Use_Per_Item_Shipped = Energy_Use_Per_CARTON_Shipped/Avg_items_bulk_carton_shipped # (MJ/item)\n",
    "        Carbon_emissions_Per_CARTON_Shipped = np.array([Carbon_Use[0]/high[0], Carbon_Use[1]/med[0], Carbon_Use[2]/low[0]]) #(kg CO2/item) - for g CO2, multiply by 1000!\n",
    "        Carbon_emissions_Per_Item_Shipped = Carbon_emissions_Per_CARTON_Shipped/Avg_items_bulk_carton_shipped  #(kg CO2/item) - for g CO2, multiply by 1000!\n",
    "        \n",
    "    class Import_Dist_Centers():\n",
    "        E_Nat_Gas_Use_Ave_Anual_FacilityMJ = np.array(Nat_Gas_Use_MJ * Avg_Size[1])\n",
    "        E_Electricity_Use_Anual_FacilitykWh = Electricity_Use_kWh * Avg_Size[1]                                                                       \n",
    "        E_Electricity_Use_Anual_FacilityMJ = Electricity_Use_MJe * Avg_Size[1]\n",
    "        Energy_Use = E_Nat_Gas_Use_Ave_Anual_FacilityMJ + E_Electricity_Use_Anual_FacilityMJ\n",
    "        C_Nat_Gas_Use_Ave_Anual_FacilitykgCO2 = E_Nat_Gas_Use_Ave_Anual_FacilityMJ * 0.056\n",
    "        C_Electricity_Use_Anual_FacilitykgCO2 = E_Electricity_Use_Anual_FacilitykWh * [60/2.2/1000, 940/2.2/1000, 2000/2.2/1000]\n",
    "        Carbon_Use = C_Nat_Gas_Use_Ave_Anual_FacilitykgCO2 + C_Electricity_Use_Anual_FacilitykgCO2\n",
    "        Energy_Use_Per_CARTON_Shipped = np.array([Energy_Use[0]/high[1], Energy_Use[1]/med[1], Energy_Use[2]/low[1]]) # (MJ/item)\n",
    "        Energy_Use_Per_Item_Shipped = Energy_Use_Per_CARTON_Shipped/Avg_items_bulk_carton_shipped # (MJ/item)\n",
    "        Carbon_emissions_Per_CARTON_Shipped = np.array([Carbon_Use[0]/high[1], Carbon_Use[1]/med[1], Carbon_Use[2]/low[1]]) #(kg CO2/item) - for g CO2, multiply by 1000!\n",
    "        Carbon_emissions_Per_Item_Shipped = Carbon_emissions_Per_CARTON_Shipped/Avg_items_bulk_carton_shipped  #(kg CO2/item) - for g CO2, multiply by 1000!\n",
    "    \n",
    "    class Food_Dist_Centers():\n",
    "        E_Nat_Gas_Use_Ave_Anual_FacilityMJ = np.array(Nat_Gas_Use_MJ * Avg_Size[2])\n",
    "        E_Electricity_Use_Anual_FacilitykWh = Electricity_Use_kWh * Avg_Size[2]                                                                       \n",
    "        E_Electricity_Use_Anual_FacilityMJ = Electricity_Use_MJe * Avg_Size[2]\n",
    "        Energy_Use = E_Nat_Gas_Use_Ave_Anual_FacilityMJ + E_Electricity_Use_Anual_FacilityMJ\n",
    "        C_Nat_Gas_Use_Ave_Anual_FacilitykgCO2 = E_Nat_Gas_Use_Ave_Anual_FacilityMJ * 0.056\n",
    "        C_Electricity_Use_Anual_FacilitykgCO2 = E_Electricity_Use_Anual_FacilitykWh * [60/2.2/1000, 940/2.2/1000, 2000/2.2/1000]\n",
    "        Carbon_Use = C_Nat_Gas_Use_Ave_Anual_FacilitykgCO2 + C_Electricity_Use_Anual_FacilitykgCO2\n",
    "        Energy_Use_Per_CARTON_Shipped = np.array([Energy_Use[0]/high[2], Energy_Use[1]/med[2], Energy_Use[2]/low[2]]) # (MJ/item)\n",
    "        Energy_Use_Per_Item_Shipped = Energy_Use_Per_CARTON_Shipped/Avg_items_bulk_carton_shipped # (MJ/item)\n",
    "        Carbon_emissions_Per_CARTON_Shipped = np.array([Carbon_Use[0]/high[2], Carbon_Use[1]/med[2], Carbon_Use[2]/low[2]]) #(kg CO2/item) - for g CO2, multiply by 1000!\n",
    "        Carbon_emissions_Per_Item_Shipped = Carbon_emissions_Per_CARTON_Shipped/Avg_items_bulk_carton_shipped  #(kg CO2/item) - for g CO2, multiply by 1000!\n",
    "    \n",
    "    class E_commerce_DC():\n",
    "        E_Nat_Gas_Use_Ave_Anual_FacilityMJ = np.array(Nat_Gas_Use_MJ * Avg_Size[3])\n",
    "        E_Electricity_Use_Anual_FacilitykWh = Electricity_Use_kWh * Avg_Size[3]                                                                       \n",
    "        E_Electricity_Use_Anual_FacilityMJ = Electricity_Use_MJe * Avg_Size[3]\n",
    "        Energy_Use = E_Nat_Gas_Use_Ave_Anual_FacilityMJ + E_Electricity_Use_Anual_FacilityMJ\n",
    "        C_Nat_Gas_Use_Ave_Anual_FacilitykgCO2 = E_Nat_Gas_Use_Ave_Anual_FacilityMJ * 0.056\n",
    "        C_Electricity_Use_Anual_FacilitykgCO2 = E_Electricity_Use_Anual_FacilitykWh * [60/2.2/1000, 940/2.2/1000, 2000/2.2/1000]\n",
    "        Carbon_Use = C_Nat_Gas_Use_Ave_Anual_FacilitykgCO2 + C_Electricity_Use_Anual_FacilitykgCO2\n",
    "        Energy_Use_Per_CARTON_Shipped = np.array([Energy_Use[0]/high[3], Energy_Use[1]/med[3], Energy_Use[2]/low[3]]) # (MJ/item)\n",
    "        Energy_Use_Per_Item_Shipped = Energy_Use_Per_CARTON_Shipped/Avg_items_bulk_carton_shipped # (MJ/item)\n",
    "        Carbon_emissions_Per_CARTON_Shipped = np.array([Carbon_Use[0]/high[3], Carbon_Use[1]/med[3], Carbon_Use[2]/low[3]]) #(kg CO2/item) - for g CO2, multiply by 1000!\n",
    "        Carbon_emissions_Per_Item_Shipped = Carbon_emissions_Per_CARTON_Shipped/Avg_items_bulk_carton_shipped  #(kg CO2/item) - for g CO2, multiply by 1000!\n",
    "    \n",
    "    Type_Center = [Reg_Dist_Centers, Import_Dist_Centers, Food_Dist_Centers, E_commerce_DC]\n",
    "    \n",
    "    Total_Energy_retail_ecomm = np.array([0, 0, 0])\n",
    "    Total_Carbon_retail_ecomm = np.array([0, 0, 0])\n",
    "    for i in Type_Center:\n",
    "        Total_Energy_retail_ecomm = i.Energy_Use_Per_Item_Shipped + Total_Energy_retail_ecomm\n",
    "        Total_Carbon_retail_ecomm = i.Carbon_emissions_Per_Item_Shipped + Total_Carbon_retail_ecomm\n",
    "    \n",
    "    Total_Energy_retail_only = Total_Energy_retail_ecomm - E_commerce_DC.Energy_Use_Per_Item_Shipped\n",
    "    Total_Carbon_retail_only = Total_Carbon_retail_ecomm - E_commerce_DC.Carbon_emissions_Per_Item_Shipped\n",
    "    \n",
    "    return(Total_Carbon_retail_ecomm,Total_Carbon_retail_only)\n",
    "    # ---------------------------------------------------------------------------------------------------------- #   "
   ]
  },
  {
   "cell_type": "markdown",
   "id": "ba335acb",
   "metadata": {
    "slideshow": {
     "slide_type": "-"
    }
   },
   "source": [
    "## **3. Model Parameter** "
   ]
  },
  {
   "cell_type": "markdown",
   "id": "a16e2ee2",
   "metadata": {},
   "source": [
    "### 3.1. Product information\n",
    "\n",
    "All of the parameters in this section are essentially educated assumptions, in lieu of specific data available to the researchers. The parameters refer to the mass and return rate of items purchased, and variations in these parameters affect various parts of the model.  For example, heavier items will require more energy use (and thus more GHG emissions) for logistical purposes-both customer trips or last mile delivery-and typically more packaging. Higher return rates leads to higher energy use for the “reverse logistics” parts of the process (e.g., customers driving to the stores, transport of the products through the supply chain, handling at facilities)."
   ]
  },
  {
   "cell_type": "markdown",
   "id": "a2d67b8c",
   "metadata": {},
   "source": [
    "**Flash Drive Shipment**\n",
    "\n",
    "This section summarizes the various assumptions needed to determine the mass, items, etc. of shipments and items as studied. The basic assumption on item and packaging weight come from the inputs which include not just the items ordered but estimates of returns (which adds to the amount of logistics/etc needed). These values are used in various other sections."
   ]
  },
  {
   "cell_type": "code",
   "execution_count": 322,
   "id": "99c1b827",
   "metadata": {},
   "outputs": [],
   "source": [
    "def FDShipment():\n",
    "    \n",
    "    # ------------------------------------------- Outputs --------------------------------------------------- #\n",
    "    # Total Weight of each item\n",
    "    Total_Item_Weight = Average_Weigth_Item + Weight_shipping_package\n",
    "    \n",
    "    \n",
    "    return(Total_Item_Weight)\n",
    "    # ---------------------------------------------------------------------------------------------------------- #"
   ]
  },
  {
   "cell_type": "markdown",
   "id": "99673b22",
   "metadata": {},
   "source": [
    "### 3.2. Packaging\n",
    "\n",
    "Average item volume is an assumption that drives the size of packaging needed (all assumed to be corrugated cardboard), and packaging use is linearly proportional to energy and climate effects.  \n",
    "\n",
    "References: \n",
    "U.S. EPA’s Waste Action and Reduction Model (EPA 2008)"
   ]
  },
  {
   "cell_type": "code",
   "execution_count": 323,
   "id": "cd5b69c4",
   "metadata": {},
   "outputs": [],
   "source": [
    "def Packaging():\n",
    "    # -------------------------------- Bulk packaging used for products ----------------------------------------\n",
    "    # i.e., the large boxes that would come from a factory to a retailer or to an e-commerce fulfillment center)\n",
    "    # From ASU Paper\n",
    "    Volume_36_36_24 = 36*36*24     # in3\n",
    "    Surface_area = 4*36*24+2*36*36 # in2\n",
    "\n",
    "    # Number of items in bulk packaging\n",
    "    N_items_bulk = Volume_36_36_24 / Average_item_volume\n",
    "\n",
    "    # Per item in bulk packaging\n",
    "    Per_item_bulk = Surface_area / N_items_bulk # in2/item\n",
    "\n",
    "    # Per item in Flex packaging \n",
    "    # Flex Packaging assumed from the ratio of product dimensions of 2x10x8 and packaging at 3x12x10, for ratio of 2.33\n",
    "    Per_item_flex = Per_item_bulk * 1.6 # in2/item\n",
    "\n",
    "\n",
    "    # ------------------- The energy and carbon effects US EPA's WARM Model (2008)-------------------------------\n",
    "    # En/CO2e of cardboard\n",
    "    Carbon_Carboard_NoForest = 0.2 #ton CO2e/ton cardboard, does not include forest sequestration\n",
    "    Carbon_Carboard_Forest_Aver = 1.5 #ton CO2e/ton cardboard, does include forest, displace average\n",
    "    Carbon_Carboard_Forest_Virg = 2.2 #ton CO2e/ton cardboard, does include forest, displace virgin\n",
    "    \n",
    "    # Energy of cardboard\n",
    "    Energy_Carboard_Virg_MBTU = 25 + 1.3 + 0.3 #Energy result, virgin\n",
    "    Energy_Carboard_Recy_MBTU = 11.7 + 0.8 + 0.3 #Energy result, recycled\n",
    "    Energy_Carboard_Virg_MJ = Energy_Carboard_Virg_MBTU * 1055 #Energy result, virgin\n",
    "    Energy_Carboard_Recy_MJ = Energy_Carboard_Recy_MBTU * 1055 #Energy result, recycled\n",
    "    Assumed_recylcled = 0.35\n",
    "\n",
    "    Total_Energy_Carboard_MBTU = (1-Assumed_recylcled)*Energy_Carboard_Virg_MBTU+Assumed_recylcled*Energy_Carboard_Recy_MBTU\n",
    "    Total_Energy_Carboard_MJ = Total_Energy_Carboard_MBTU * 1055\n",
    "\n",
    "\n",
    "    # ------------------------------- Density of cardboard-------------------------------------------------------\n",
    "    # uri.com\n",
    "    Lb_package_1 = 4.25\n",
    "    Lb_package_2 = 7.68\n",
    "    Lb_package_3 = 13.4\n",
    "    Surface_package_1 = 2 * 17 * 17 + 4 * 17 * 30 #in2\n",
    "    Surface_package_2 = 2 * 22 * 22 + 4 * 22 * 36 #in2\n",
    "    Surface_package_3 = 6 * 36 * 36               #in2\n",
    "    Density_1 = Lb_package_1 / Surface_package_1 #lb/in2\n",
    "    Density_2 = Lb_package_2 / Surface_package_2 #lb/in2\n",
    "    Density_3 = Lb_package_3 / Surface_package_3 #lb/in2\n",
    "    \n",
    "    Density_Aver_lb = (Density_1 + Density_2 + Density_3)/3 #lb/in2\n",
    "    Density_Aver_kg = Density_Aver_lb * 0.4536 #kg cardboard/in2\n",
    "    \n",
    "    # ------------------------------- CO2 intensity of cardboard ------------------------------------------------\n",
    "    # low, med, high\n",
    "    CO2_intensity_kg = [Carbon_Carboard_NoForest * Density_Aver_kg, Carbon_Carboard_Forest_Aver * Density_Aver_kg,\n",
    "                        Carbon_Carboard_Forest_Virg * Density_Aver_kg] # kg CO2/in2\n",
    "    \n",
    "    # low, med, high\n",
    "    Energy_intensity_lb = [Density_Aver_kg * Energy_Carboard_Recy_MJ / 1000, \n",
    "                           Density_Aver_kg * Total_Energy_Carboard_MJ / 1000,\n",
    "                           Density_Aver_kg * Energy_Carboard_Virg_MJ / 1000] #MJ/in2\n",
    "    \n",
    "    # --------------------------------------- Outputs ----------------------------------------------------------- #\n",
    "    # -------------------------------- Packaging per Item ------------------------------------------------------- #\n",
    "    Packaging_item_gCO2_Retail = np.array([CO2_intensity_kg[0]*Per_item_bulk*1000, CO2_intensity_kg[1]*Per_item_bulk*1000,\n",
    "                               CO2_intensity_kg[2]*Per_item_bulk*1000], float)\n",
    "    Packaging_item_gCO2_Etail = np.array([CO2_intensity_kg[0]*Per_item_flex*1000, CO2_intensity_kg[1]*Per_item_flex*1000,\n",
    "                               CO2_intensity_kg[2]*Per_item_flex*1000], float)\n",
    "    Packaging_item_MJ_Retail = np.array([Energy_intensity_lb[0]*Per_item_bulk,Energy_intensity_lb[1]*Per_item_bulk,\n",
    "                                Energy_intensity_lb[2]*Per_item_bulk], float)\n",
    "    Packaging_item_MJ_Etail = np.array([Energy_intensity_lb[0]*Per_item_flex,Energy_intensity_lb[1]*Per_item_flex,\n",
    "                                Energy_intensity_lb[2]*Per_item_flex], float)   \n",
    "    \n",
    "    return(Packaging_item_gCO2_Retail, Packaging_item_gCO2_Etail, Packaging_item_MJ_Retail, Packaging_item_MJ_Etail)\n",
    "    # ---------------------------------------------------------------------------------------------------------- # \n"
   ]
  },
  {
   "cell_type": "markdown",
   "id": "854d736d",
   "metadata": {},
   "source": [
    "### 3.3. Energy Intensity and Freight\n",
    "\n",
    "These are four parameters that show the BTU/ton-mile used for each of the four major freight modes.  Currently, the ranges are only based on a -+ 10% of the value from transportation literature.\n",
    "\n",
    "Also included in this section are assumptions for the size of truck used for freight (currently all use Heavy Duty Trucks).\n",
    "\n",
    "Shipping Efficiency refers to the different assumptions about the throughput at the different facilities in the supply chain. This is estimated by: 1) assuming different levels of items that move through the different facilities (same levels used for the retail and warehouse energy intensity); and, 2) estimated average distances between different facilities based on the density of facilities in the country, or data about the locations in specific markets (i.e., Southern California).\n",
    "\n",
    "Reference:\n",
    "EPA. 2006. Inventory of U.S. Greenhouse Gas Emissions and Sinks, 1990-2004. Washington, D.C.: US Environmental Protection Agency.  \n"
   ]
  },
  {
   "cell_type": "markdown",
   "id": "402451b5",
   "metadata": {},
   "source": [
    "### 3.3.1. Energy Intensity"
   ]
  },
  {
   "cell_type": "code",
   "execution_count": 324,
   "id": "1b2b68c7",
   "metadata": {},
   "outputs": [],
   "source": [
    "def CarbonContents(): \n",
    "    # -------------------------------------- Carbon Content on Fuels --------------------------------------------\n",
    "    # EPA 2006 (below) - note this source is a bit dated but values have not changed significantly since then.  \n",
    "    # Note, these are the raw values of sources.\n",
    "    Fuel_Type = [\"Finished Motor Gasoline\", \"Finished Aviation Gasoline\", \"Kerosene-Type Jet Fuel\", \n",
    "                 \"Distillate Fuel Oil\", \"Residual Fuel Oil\", \"Liquefied Refinery Gases\", \"Natural Gas\"]  \n",
    "    Carbon_Content = np.array([19.34, 18.87, 19.33, 19.95, 21.49, 16.99, 14.47],float) # Tg C/QBTU\n",
    "    Heat_Content = np.array([5.25, 5.05, 5.67, 5.83, 6.29, 3.85, 1030],float) # MMBTU/bbl or BTU/ft3\n",
    "    Oxydation_fraction = np.array([0.99, 0.99, 0.99, 0.99, 0.99, 0.99, 0.995],float) \n",
    "    \n",
    "    # Outputs\n",
    "    # Converting from barrels to gallons by dividing by 42\n",
    "    global BTU_gal\n",
    "    BTU_gal = Heat_Content * 1000000/42 # BTU/gal\n",
    "    # Converting from Tg C/quadrillion BTU to g CO2/MJ\n",
    "    global Combustion_Emissions\n",
    "    Combustion_Emissions = [0] * len(Carbon_Content) # gr CO2/MJ\n",
    "    for i in range(len(Carbon_Content)):\n",
    "        Combustion_Emissions[i] = Carbon_Content[i] * 10**12 * 44 * Oxydation_fraction[i] * 10**6 /(12 * 1055 * 10**15)\n",
    "    \n",
    "    # ------------------------------------- Electricity life cycle emissions -----------------------------------\n",
    "    # EPA 2006 (below)\n",
    "    Source = [\"Current Mix\", \"Low Carbon Sources\", \"PC Coal w/o CCS\", \"PC Coal w/ 90% CCS\", \"IGCC Coal w/o CCS\", \n",
    "              \"IGCC Coal w/ 90% CCS\", \"Domestic NGCC w/o CCS\", \"Domestic NGCC w/90% CCS\"]\n",
    "    Upstream = np.array([98.26, 0.0, 106.5, 140.5, 111.5, 129.0, 120.5, 141.5], float)\n",
    "    global Combustion\n",
    "    Combustion = np.array([1339.0, 0.0, 1781.0, 234.0, 1866.0, 215.0, 816.0, 96], float)\n",
    "    \n",
    "    \n",
    "    # Outputs\n",
    "    gCO2e_kwh = (Upstream + Combustion) * 0.4535 # Total lb CO2/MWh\n",
    "    global  grCO2e_MJe\n",
    "    grCO2e_MJe = gCO2e_kwh / 3.6 # Total g CO2e/kWh\n",
    "    \n",
    "    return \n",
    "    # ---------------------------------------------------------------------------------------------------------- #"
   ]
  },
  {
   "cell_type": "markdown",
   "id": "c3f0d079",
   "metadata": {},
   "source": [
    "### 3.3.2. Freight\n",
    "\n",
    "This section collects assumptions and other parameters needed to estimate the effects associated with the vehicle-level (logistics) effects of pushing products through an e-tail or retail distribution network. This section uses the same facility type, number, and size data from Amazon and Target (provided by Jerry). This is thus representative of a large-scale retailer and not a smaller, niche, retailer.\n",
    "\n",
    "References:\n",
    "Pahwa, A. and M. Jaller (2020). Evaluating the costs and distribution structure in last mile deliveries under short time-windows. Transportation Research Board Annual Meeting. Washington, D.C.\n",
    "\n"
   ]
  },
  {
   "cell_type": "code",
   "execution_count": 325,
   "id": "af9dc9c8",
   "metadata": {},
   "outputs": [],
   "source": [
    "def Freight():\n",
    "    Total_Area_of_Continental_US = 3119884 # sq mi\n",
    "    \n",
    "    # Functions\n",
    "    WarehouseAmazon()\n",
    "    WarehouseRetail()\n",
    "    Total_Item_Weight = FDShipment()\n",
    "    \n",
    "    #--------------------------------------- Summary range used Etail----------------------------------------- #\n",
    "    global Etail\n",
    "    class Etail:\n",
    "        Average_Distance_to_reach = np.array([70.78, 98.12, 284.87, 131.40, 31.68, 900.82])\n",
    "        Etail = np.array([162, 53, 10, 47, 152, 5])\n",
    "        low = np.array(E_Summary_range_used [0,]*Average_Distance_to_reach) \n",
    "        med = np.array((E_Summary_range_used [0,]+E_Summary_range_used [1,])/2*Average_Distance_to_reach) \n",
    "        high = np.array(E_Summary_range_used [1,]*Average_Distance_to_reach) \n",
    "        Road_Miles_Ton = np.array([0,0,0])\n",
    "        for i in range(len(Average_Distance_to_reach)-1):\n",
    "            Road_Miles_Ton = np.array([low[i],med[i],high[i]])+Road_Miles_Ton\n",
    "        Road_Tone_Mile = Road_Miles_Ton*Total_Item_Weight/2000*(1+Rate_Online_Purchase)\n",
    "        Air_Tone_Mile = np.array([low[5],med[5],high[5]])*Total_Item_Weight/2000\n",
    "    \n",
    "    # -------------------------------------- Summary range used Retail ---------------------------------------- #\n",
    "    global Retail\n",
    "    class Retail:\n",
    "        Average_Distance_to_reach = np.array([1/26**0.5, 1/4**0.5, 1/5**0.5, 1/5**0.5])*(Total_Area_of_Continental_US**0.5)*0.51\n",
    "        low = np.array(R_Summary_range_used [0,]*Average_Distance_to_reach) \n",
    "        med = np.array((R_Summary_range_used [0,]+R_Summary_range_used [1,])/2*Average_Distance_to_reach*1.1) \n",
    "        high = np.array(R_Summary_range_used [1,]*Average_Distance_to_reach*1.1) \n",
    "        Road_Miles_Ton = np.array([0,0,0])\n",
    "        for i in range(len(Average_Distance_to_reach)-2):\n",
    "            Road_Miles_Ton = np.array([low[i],med[i],high[i]])+Road_Miles_Ton\n",
    "        Road_Tone_Mile = Road_Miles_Ton*Total_Item_Weight/2000\n",
    "        E_commerce_Road = (np.array([low[3],med[3],high[3]])+Road_Miles_Ton)*Total_Item_Weight/2000\n",
    "    \n",
    "    return\n",
    "    # ---------------------------------------------------------------------------------------------------------- #\n"
   ]
  },
  {
   "cell_type": "markdown",
   "id": "906b5486",
   "metadata": {},
   "source": [
    "### 3.4. Shipping Option\n",
    "\n",
    "The model estimates the movement of products throughout the hierarchical structure of typical retailers and e-retailers. There could be a combination of modes (e.g., road and air). As expected, Air freight is more energy and climate intensive than truck-based freight. Moreover, the level of Rush Shipments is an indicator of the intensity of transport required to deliver in very short time windows. Assumed as multiplier based on other ongoing modeling efforts. Now, the rush shipments indicator is de-activated. The impact of rush shipments is introduced by lower last mile efficiency (longer delivery distances per item, to account for the inefficiencies of the first and last leg of the distribution.\n",
    "\n",
    "Note to team: This assumption could be problematic as companies move to “1-day shipping” methods which dramatically leverage near-customer fulfillment centers and same day freight capacity, which could virtually eliminate the use of air freight.  We should ensure this parameter is used carefully in such scenarios. However, we also need to define rush deliveries, is it next day, same-day, 2-hour, 1-hr?\n"
   ]
  },
  {
   "cell_type": "code",
   "execution_count": 326,
   "id": "845cc47d",
   "metadata": {},
   "outputs": [],
   "source": [
    "def Distances(Year_selected):\n",
    "    \n",
    "    # Call functions\n",
    "    Freight()\n",
    "    \n",
    "    # ------------------------------- Energy per Shipment (MJ) ------------------------------------------ #\n",
    "    Energy_Intensity = []\n",
    "    if Type_of_road_vehicle_FTL == \"Heavy Duty Truck (25 ton cargo)\":\n",
    "        #Energy_Intensity =  Energy_Intensity_Heavy_Duty_Truck*1055/1000000\n",
    "        Energy_Intensity = ((Report_Energy.loc[53,Year_selected]*Report_Distance.loc[53,Year_selected]+\n",
    "                            Report_Energy.loc[61,Year_selected]*Report_Distance.loc[61,Year_selected]+\n",
    "                            Report_Energy.loc[62,Year_selected]*Report_Distance.loc[62,Year_selected])/\n",
    "                            (Report_Distance.loc[53,Year_selected]+Report_Distance.loc[61,Year_selected]+Report_Distance.loc[62,Year_selected]))/25\n",
    "    elif Type_of_road_vehicle_FTL == \"Medium Duty Truck (8 ton cargo)\":\n",
    "        #Energy_Intensity = Energy_Intensity_Medium_Duty_Truck*1055/1000000\n",
    "        Energy_Intensity = ((Report_Energy.loc[53,Year_selected]*Report_Distance.loc[53,Year_selected]+\n",
    "                            Report_Energy.loc[52,Year_selected]*Report_Distance.loc[52,Year_selected])/\n",
    "                            (Report_Distance.loc[53,Year_selected]+Report_Distance.loc[52,Year_selected]))/8\n",
    "    else:\n",
    "        Energy_Intensity = Energy_Intensity_Rail*1055/1000000\n",
    "\n",
    "    # Retail\n",
    "    global R_Freight_Energy_Road\n",
    "    R_Freight_Energy_Road =  Retail.Road_Tone_Mile*Energy_Intensity\n",
    "    \n",
    "    # Etail - Road\n",
    "    global E_Freight_Energy_Road\n",
    "    E_Freight_Energy_Road = []\n",
    "    if option == 3:\n",
    "        E_Freight_Energy_Road = Etail.Road_Tone_Mile * Energy_Intensity\n",
    "    else: \n",
    "        E_Freight_Energy_Road = Retail.E_commerce_Road * Energy_Intensity \n",
    "        \n",
    "    # Etail - Air\n",
    "    global E_Freight_Energy_Air\n",
    "    E_Freight_Energy_Air = Etail.Air_Tone_Mile * Energy_Intensity_Air * 1055/1000000\n",
    "    \n",
    "    # Etail - Total \n",
    "    E_Freight_Energy_Total = E_Freight_Energy_Road + E_Freight_Energy_Air\n",
    "    \n",
    "    # Level of Rush Shipping\n",
    "    Total_cost = np.array([323,489,812]) # No time windows, >2hr, <2hr\n",
    "    Multiplier = np.array([Total_cost[1]/Total_cost[0],Total_cost[2]/Total_cost[0]])\n",
    "    Level_of_Rush_Shipping = np.array([1,Multiplier[0],Multiplier[1]])\n",
    "    \n",
    "    return(Level_of_Rush_Shipping)\n",
    "    # ---------------------------------------------------------------------------------------------------------- #    \n"
   ]
  },
  {
   "cell_type": "markdown",
   "id": "f3ff1c4f",
   "metadata": {},
   "source": [
    "### 3.5. Fuel Economy for Last Mile Delivery Vehicles\n",
    "\n",
    "Similar to the energy intensity section above, three different types of trucks are available in the model, each with a range of fuel economy from transportation literature.  Also selected is which type of truck used for last mile delivery. ???\n",
    "\n",
    "References:\n",
    "Jaller, M. and A. Pahwa (2020). Evaluating the Environmental Impacts of Online Shopping: A Behavioral and Transportation Approach. Journal of Transportation Research Part D: Transport and Environment (in print)\n",
    "\n"
   ]
  },
  {
   "cell_type": "code",
   "execution_count": 327,
   "id": "0d3126fc",
   "metadata": {},
   "outputs": [],
   "source": [
    "def Enpertmi(Year_selected): \n",
    "    \n",
    "    # Call functions\n",
    "    CarbonContents()\n",
    "    \n",
    "    # --------------------------------- Energy intensity of freigth modes ------------------------------------- #\n",
    "    \n",
    "    # Mode\n",
    "    Heavy_Trucks = 20539 # BTU/vehicle-mile, fuel used: 10% Gasoline, 89.6% Diesel, 0.33% LPG\n",
    "    Heavy_Duty_Truck = 25690 / 25 # BTU/ton-mile, fuel used: 100% Diesel\n",
    "    Medium_Duty_Truck = 17596 / 8 # BTU/ton-mile, fuel used: 100% Diesel\n",
    "    Rail = np.array([15152, 337], float) # [BTU/freight car-mile, BTU/ton-mile], fuel used: 100% Diesel\n",
    "    Certified_Air_Carriers = 3264 # BTU/passenger-mile, fuel used: 100% Jet Fuel\n",
    "    Air_Carrier_Shipment = (10 * 10**6) * 1.6 / (1055 * 1.1) # BTU/ton-mile, fuel used: 100% Jet Fuel\n",
    "    \n",
    "\n",
    "\n",
    "    # -------------------------------------------- Output - SRR------------------------------------------------ #\n",
    "    if Scenario.Select_Level[14] == 'Light Truck (less than 10,000 lb Truck)':\n",
    "        #Energy_per_mile_per_truck = Report_Energy.loc[Truck_LM_FHWA,Year_selected]\n",
    "        Energy_per_mile_per_truck = ((Report_Energy.loc[32,Year_selected]*Report_Distance.loc[32,Year_selected]+\n",
    "                                      Report_Energy.loc[52,Year_selected]*Report_Distance.loc[52,Year_selected])/\n",
    "                                     (Report_Distance.loc[32,Year_selected]+Report_Distance.loc[52,Year_selected]))\n",
    "        \n",
    "    elif Scenario.Select_Level[14] == 'Medium Truck (20,000 lb)':\n",
    "        #Energy_per_mile_per_truck = Report_Energy.loc[Truck_LM_FHWA,Year_selected] \n",
    "        Energy_per_mile_per_truck = ((Report_Energy.loc[53,Year_selected]*Report_Distance.loc[53,Year_selected]+\n",
    "                                      Report_Energy.loc[52,Year_selected]*Report_Distance.loc[52,Year_selected])/\n",
    "                                     (Report_Distance.loc[53,Year_selected]+Report_Distance.loc[52,Year_selected]))\n",
    "        \n",
    "    else: \n",
    "        #Energy_per_mile_per_truck = Report_Energy.loc[Truck_LM_FHWA,Year_selected]\n",
    "        Energy_per_mile_per_truck =((Report_Energy.loc[53,Year_selected]*Report_Distance.loc[53,Year_selected]+\n",
    "                                     Report_Energy.loc[61,Year_selected]*Report_Distance.loc[61,Year_selected]+\n",
    "                                     Report_Energy.loc[62,Year_selected]*Report_Distance.loc[62,Year_selected])/\n",
    "                                    (Report_Distance.loc[53,Year_selected]+Report_Distance.loc[61,Year_selected]+Report_Distance.loc[62,Year_selected]))\n",
    "\n",
    "    # -------------------------------------------- Output - Sheet --------------------------------------------- #\n",
    "    #Energy_per_mile_per_truck = (1 / Truck) * BTU_gal[3] * 1055/1000000\n",
    "    return(Energy_per_mile_per_truck)\n",
    "    # --------------------------------------------------------------------------------------------------------- #\n",
    "\n",
    "    \n",
    "    \n",
    "###################################################################################################################################"
   ]
  },
  {
   "attachments": {
    "image-2.png": {
     "image/png": "[encoded data removed]"
    }
   },
   "cell_type": "markdown",
   "id": "4b50f5af",
   "metadata": {},
   "source": [
    "### 3.6. Computer Usage\n",
    "\n",
    "Updated:\n",
    "The new estimation accounts for data based on the literature about the aggregate energy consumption and the internet infrastructure. The data results in consumption per hour for the transfer of 1 MB of data divided by end user, upstream, and data center.\n",
    "The analyses also estimate average consumptions for an assumed online purchase that requires accessing a fixed number of website pages per item (e.g., landing, search, item selection, cart, checkout).\n",
    "\n",
    "Previous (entered here still for those who had been tracking the previous version):\n",
    "The assumptions in this section refer to energy use needed for browsing and ordering items online using a computer.  Assumptions exist for the Watts of consumption of the device, time spent, and upstream Internet energy use.  However, the results of this phase of the model tend to be very small compared to other phases, so these assumptions are generally quite irrelevant.\n",
    "\n",
    "OLD Note:  we don't have an “order by smartphone” scenario or assumption, where the device energy use would be much smaller than what is here, but since this is already so small even for desktops or laptops, it probably doesn't matter!\n",
    "\n",
    "Analyses based on:\n",
    "Costenaro, D., & Duer, A. (2012). The megawatts behind your megabytes: going from data-center to desktop. Proceedings of the 2012 ACEEE Summer Study on Energy Efficiency in Buildings, ACEEE, Washington, 13-65.\n",
    "![image-2.png](attachment:image-2.png)\n"
   ]
  },
  {
   "cell_type": "code",
   "execution_count": 328,
   "id": "7e91dbe8",
   "metadata": {},
   "outputs": [],
   "source": [
    "def DataUsage(): \n",
    "    # INPUTS !!!\n",
    "    #------------------------------------ Total Power GW per Year (2011)----------------------------------------#\n",
    "    # User\n",
    "    User_desktop = np.array([28.1, 40.8, 53.4]) # Low, med, high\n",
    "    User_laptops = np.array([11.3, 13.1, 15.0]) # Low, med, high\n",
    "    User_smarphones = np.array([0.1, 0.3, 0.5]) # Low, med, high\n",
    "    USER = User_desktop + User_laptops + User_smarphones\n",
    "    \n",
    "    # Trans3\n",
    "    Trans3_WifiLAN = np.array([1.5, 1.8, 2.0]) # Low, med, high\n",
    "    Trans3_CellTowers = np.array([1.5, 4.5, 7.5]) # Low, med, high\n",
    "    Trans3_TelecomSwitches = np.array([0.0, 0.7, 1.4]) # Low, med, high\n",
    "    Trans3_kmFiberOptics = np.array([0.0, 0.0, 0.0]) # Low, med, high\n",
    "    Trans3_OpticalRepeters = np.array([1.3, 1.9, 2.4]) # Low, med, high\n",
    "    Trans3_kmCopper = np.array([0.0, 0.0, 0.0]) # Low, med, high\n",
    "    Trans3_SignalRepeaters = np.array([1.9, 5.6, 9.3]) # Low, med, high\n",
    "    Trans3 = Trans3_WifiLAN + Trans3_CellTowers + Trans3_TelecomSwitches + Trans3_kmFiberOptics + Trans3_OpticalRepeters + Trans3_kmCopper + Trans3_SignalRepeaters\n",
    "    \n",
    "    # POP Tier 3\n",
    "    POPT3_Severs = np.array([6.0, 8.7, 11.4]) # Low, med, high\n",
    "    POPT3_Routers = np.array([1.8, 1.9, 2.0]) # Low, med, high\n",
    "    POPT3_Cloud = np.array([4.8, 5.4, 6.0]) # Low, med, high\n",
    "    POPT3_Overhead_power = np.array([12.6, 16.0, 19.4]) # Low, med, high\n",
    "    POPT3 = POPT3_Severs + POPT3_Routers + POPT3_Cloud + POPT3_Overhead_power\n",
    "    \n",
    "    # Trans2\n",
    "    Trans2_kmFiberOptics = np.array([0.0, 0.0, 0.0]) # Low, med, high\n",
    "    Trans2_OpticalRepeters = np.array([2.0, 2.8, 3.6]) # Low, med, high\n",
    "    Trans2 = Trans2_kmFiberOptics + Trans2_OpticalRepeters\n",
    "    \n",
    "    # POP Tier 2\n",
    "    POPT2_Severs = np.array([4.5, 6.5, 8.6]) # Low, med, high\n",
    "    POPT2_Routers = np.array([1.4, 1.4, 1.5]) # Low, med, high\n",
    "    POPT2_Cloud = np.array([3.6, 4.1, 4.5]) # Low, med, high\n",
    "    POPT2_Overhead_power = np.array([7.1, 9.0, 10.9]) # Low, med, high\n",
    "    POPT2 = POPT2_Severs + POPT2_Routers + POPT2_Cloud + POPT2_Overhead_power\n",
    "    \n",
    "    # Trans1\n",
    "    Trans1_kmFiberOptics = np.array([0.0, 0.0, 0.0]) # Low, med, high\n",
    "    Trans1_OpticalRepeters = np.array([1.3, 1.9, 2.4]) # Low, med, high\n",
    "    Trans1 = Trans1_kmFiberOptics + Trans1_OpticalRepeters\n",
    "    \n",
    "    # Sub-total\n",
    "    UPSTREAM = Trans3 + POPT3 + Trans2 + POPT2 + Trans1\n",
    "    \n",
    "    # POP Tier 1\n",
    "    POPT1_Severs = np.array([4.5, 6.5, 8.6]) # Low, med, high\n",
    "    POPT1_Routers = np.array([1.4, 1.4, 1.5]) # Low, med, high\n",
    "    POPT1_Cloud = np.array([3.6, 4.1, 4.5]) # Low, med, high\n",
    "    POPT1_Overhead_power = np.array([2.4, 3.0, 3.6]) # Low, med, high\n",
    "    DATA_CENTER = POPT1_Severs + POPT1_Routers + POPT1_Cloud + POPT1_Overhead_power\n",
    "    \n",
    "    # TOTAL GW per year\n",
    "    GW_YEAR = USER + UPSTREAM + DATA_CENTER\n",
    "    \n",
    "    # ------------------------------------ Average use per GB ---------------------------------------------- #\n",
    "    # Average use per GB\n",
    "    Low_percentage = (GW_YEAR[0]-GW_YEAR[1])/GW_YEAR[1] ######## ????????????\n",
    "    High_percentage = (GW_YEAR[2]-GW_YEAR[1])/GW_YEAR[1] ######## ????????????\n",
    "    Average_use_per_GB_med = 5.12\n",
    "    \n",
    "    # kWh/GB\n",
    "    Average_use_per_GBkWh = np.array([Average_use_per_GB_med*(1+Low_percentage), Average_use_per_GB_med, Average_use_per_GB_med*(1+High_percentage)])\n",
    "    Average_use_per_GB_UserkWh = np.array([Average_use_per_GBkWh[0]*USER[0]/GW_YEAR[0],Average_use_per_GBkWh[1]*USER[1]/GW_YEAR[1],Average_use_per_GBkWh[2]*USER[2]/GW_YEAR[2]])\n",
    "    Average_use_per_GB_UpstreamkWh = np.array([Average_use_per_GBkWh[0]*UPSTREAM[0]/GW_YEAR[0],Average_use_per_GBkWh[1]*UPSTREAM[1]/GW_YEAR[1],Average_use_per_GBkWh[2]*UPSTREAM[2]/GW_YEAR[2]])\n",
    "    Average_use_per_GB_DatacenterkWh = np.array([Average_use_per_GBkWh[0]*DATA_CENTER[0]/GW_YEAR[0],Average_use_per_GBkWh[1]*DATA_CENTER[1]/GW_YEAR[1],Average_use_per_GBkWh[2]*DATA_CENTER[2]/GW_YEAR[2]])\n",
    "    \n",
    "    # MJ/GB\n",
    "    Average_use_per_GBMJ = Average_use_per_GBkWh*3.6*3\n",
    "    Average_use_per_GB_UserMJ = Average_use_per_GB_UserkWh*3.6*3\n",
    "    Average_use_per_GB_UpstreamMJ = Average_use_per_GB_UpstreamkWh*3.6*3\n",
    "    Average_use_per_GB_DatacenterMJ = Average_use_per_GB_DatacenterkWh*3.6*3\n",
    "    \n",
    "    # MJ/MB\n",
    "    Average_use_per_GBMB = Average_use_per_GBMJ/1024\n",
    "    Average_use_per_GB_UserMB = Average_use_per_GB_UserMJ/1024\n",
    "    Average_use_per_GB_UpstreamMB = Average_use_per_GB_UpstreamMJ/1024\n",
    "    Average_use_per_GB_DatacenterMB = Average_use_per_GB_DatacenterMJ/1024\n",
    "    \n",
    "    # ------------------------------------- Estimated Energy Consumption ----------------------------------- #\n",
    "    # Data usage per item: Assumes visiting 10 pages within a vendor (e.g., landing, search, item selection, etc.) \n",
    "    \n",
    "    # Energy usage per item\n",
    "    Energy_Usage_per_Item = Energy_Usage_Selection* 3.6 * 3/1024 * Data_Usage_Item # MJ/item\n",
    "    \n",
    "    # ------------------------------------------- Outputs --------------------------------------------------- #\n",
    "    # MJ/item\n",
    "    Average_use_per_GBItem = Average_use_per_GBMB * Data_Usage_Item\n",
    "    Average_use_per_GB_UserItem = Average_use_per_GB_UserMB * Data_Usage_Item\n",
    "    Average_use_per_GB_UpstreamItem = Average_use_per_GB_UpstreamMB * Data_Usage_Item\n",
    "    Average_use_per_GB_DatacenterItem = Average_use_per_GB_DatacenterMB * Data_Usage_Item\n",
    "    \n",
    "    # User + Upstream For Etail\n",
    "    User_Upstream = Energy_Usage_per_Item * ((USER[0]/GW_YEAR[0])+(UPSTREAM[0]/GW_YEAR[0])) # MJ/item\n",
    "    \n",
    "    # Upstream For Retail\n",
    "    Upstream = Energy_Usage_per_Item * (UPSTREAM[0]/GW_YEAR[0])\n",
    "    \n",
    "    # Data Center For Retail and Etail\n",
    "    Data_Center = Energy_Usage_per_Item * (DATA_CENTER[0]/GW_YEAR[0])\n",
    "    \n",
    "    return(User_Upstream,Upstream,Data_Center) \n",
    "    # ------------------------------------------------------------------------------------------------------- #\n",
    "    "
   ]
  },
  {
   "cell_type": "markdown",
   "id": "70a82b8c",
   "metadata": {},
   "source": [
    "### 3.7. Last Mile\n",
    "\n",
    "The assumptions in this section relate to the number of packages in a truck as well as the total distance of the delivery route.  In essence, the energy per delivered package is just the fraction of miles represented for an individual package.  The ranges of each of these two parameters are effectively educated guesses based on work by the research team. \n",
    "\n",
    "Note: As mentioned before, rush shipping impacts for the last mile could be evaluated through this combination.\n",
    "\n",
    "References:\n",
    "Jaller, M. and A. Pahwa (2020). Evaluating the Environmental Impacts of Online Shopping: A Behavioral and Transportation Approach. Journal of Transportation Research Part D: Transport and Environment (in print)\n",
    "Jaller, M., L. Pineda and H. Ambrose (2018) \"Evaluating the Use of Zero-Emission Vehicles in Last Mile Deliveries.\" UC Davis Institute of Transport Studies, from https://escholarship.org/uc/item/7kr753nm.\n"
   ]
  },
  {
   "cell_type": "code",
   "execution_count": 329,
   "id": "4befec2f",
   "metadata": {},
   "outputs": [],
   "source": [
    "def LastMile(Year_selected):\n",
    "    \n",
    "    # Call function\n",
    "    Energy_mile_truck = Enpertmi(Year_selected)\n",
    "    # --------------------------------------- Energy per item ------------------------------------------------ #\n",
    "    # Energy per item\n",
    "    #Energy_Item = (Distance_Delivery_Route / Packages_Delivery_Route) * Energy_mile_truck / Basket_size_online\n",
    "    Energy_Item = (Distance_Delivery_Route['Online'][2020]) * Energy_mile_truck / Basket_size_online\n",
    "    return(Energy_Item)\n",
    "    # -------------------------------------------------------------------------------------------------------- #"
   ]
  },
  {
   "cell_type": "markdown",
   "id": "f356d2b7",
   "metadata": {},
   "source": [
    "### 3.8. Customer Transport\n",
    "\n",
    "Parameters in this section all relate to trips driven in personal vehicles needed to purchase items from retail, or to return items purchased online (e.g., to a bricks and mortar store or post office).  Ranges of roundtrip miles driven and passengers per vehicle come from US federal transportation surveys and team research. Fuel economy ranges for personal vehicles are assumed but based on EPA data.  \n",
    "\n",
    "“Basket sizes” are based on assumptions given a lack of data (assume only 1 item returned for online purchases) and are represented as fairly small numbers given the goal of comparing systems with an “online focus” – since online purchase baskets seem to be fairly small, whereas a “retail focus” would likely have a much larger basket size for shopping trips.\n",
    "\n",
    "References:\n",
    "Jaller, M. and A. Pahwa (2020). Evaluating the Environmental Impacts of Online Shopping: A Behavioral and Transportation Approach. Journal of Transportation Research Part D: Transport and Environment (in print)\n",
    "Basket size source: https://vend-corp-cms.s3.amazonaws.com/Guides/Guide-Content/Vends-Retail-Benchmarks-Guide-2019.pdf\n"
   ]
  },
  {
   "cell_type": "code",
   "execution_count": 330,
   "id": "7ddaf4fb",
   "metadata": {},
   "outputs": [],
   "source": [
    "def CustomerTransport(Year_selected):\n",
    "    \n",
    "    # Call functions\n",
    "    CarbonContents()\n",
    "    \n",
    "    # --------------------------------------- ENERGY PER MILE ----------------------------------------------- #\n",
    "     \n",
    "    # Energy Intensity (MJ/gal)\n",
    "    Energy_Intensity = BTU_gal[0] * 1055 / 1000000\n",
    "    \n",
    "    # Carbon intensity (kg CO2/gal)\n",
    "    Carbon_Intensity_kgCO2gal = Energy_Intensity * Combustion_Emissions[0] / 1000\n",
    "    #Carbon_Intensity_MJmi = Energy_Intensity / Fleet_Fuel_Economy\n",
    "    Carbon_Intensity_MJmi = Report_Energy.loc[21,Year_selected]\n",
    "    \n",
    "    # ----------------------------------------- Outputs ----------------------------------------------------- #\n",
    "    # ----------------------------------- ENERGY FOR SHOPPING TRIPS ----------------------------------------- #\n",
    "    # Energy Intensity for Shopping trips per item MJ/item\n",
    "    #Energy_Intensity_Shopping_Trips_Item = Shopping_Trip_Distance * Carbon_Intensity_MJmi / (Passengers_Per_Vehicle * Basket_Size_InStore)\n",
    "    Energy_Intensity_Shopping_Trips_Item = Shopping_Trip_Distance['In-store'][Year_selected] * Carbon_Intensity_MJmi / Basket_Size_InStore\n",
    "\n",
    "    # Emissions for shopping trips kg CO2/item\n",
    "    #Emissions_Shopping_Trips = (Carbon_Intensity_kgCO2gal / Fleet_Fuel_Economy) * Shopping_Trip_Distance / (Passengers_Per_Vehicle * Basket_Size_InStore)\n",
    "    Emissions_Shopping_Trips = (Carbon_Intensity_kgCO2gal / Fleet_Fuel_Economy) * Shopping_Trip_Distance['In-store'][Year_selected] / Basket_Size_InStore\n",
    "    \n",
    "    # Energy instensity of average shopping trip MJ/trip\n",
    "    Energy_Instensity_Average_Shopping_Trip = Scenario.med[19] * Carbon_Intensity_MJmi / (Scenario.med[19] * Scenario.med[19])\n",
    "    \n",
    "    return(Energy_Intensity_Shopping_Trips_Item, Emissions_Shopping_Trips, Energy_Instensity_Average_Shopping_Trip)\n",
    "    # ------------------------------------------------------------------------------------------------------- #\n"
   ]
  },
  {
   "cell_type": "markdown",
   "id": "061e76c3",
   "metadata": {},
   "source": [
    "### 3.9. Retail and Warehouse\n",
    "\n",
    "Assumptions in this section use data on retail store and warehouse energy use to provide ranges of energy use per item shipped.  The retail energy comes from provided data on Target stores, Target and Amazon distribution centers, and energy intensities from US DOE Commercial Building Energy Consumption Survey (CBECS) 2012 dataset, and follows past work done by the authors on warehouse energy use and e-commerce shipments performed in 2008.\n"
   ]
  },
  {
   "cell_type": "code",
   "execution_count": 331,
   "id": "2a186bb6",
   "metadata": {},
   "outputs": [],
   "source": [
    "def Retail_():\n",
    "    # -------------------------------------Annual Values ---------------------------------------------------- #\n",
    "    #  2012 CBECS Data; https://www.eia.gov/consumption/commercial/data/2012/c&e/cfm/c30.php. Low average and high values for the  regions in the US\n",
    "    Nat_Gas_Use_cuft = np.array([17, (17+32)/2, 32]) # cu ft/sq ft for low, med, high\n",
    "    Nat_Gas_Use_BTU = Nat_Gas_Use_cuft * 1030 # BTU/sq ft low, med, high\n",
    "    Nat_Gas_Use_Joule = Nat_Gas_Use_BTU * 1055 # Joule/sq ft low, med, high\n",
    "    Nat_Gas_Use_MJ = Nat_Gas_Use_Joule / 1000000 # MJ/sq ft low, med, high\n",
    "    \n",
    "    # Similar to above, CBECS Data; https://www.eia.gov/consumption/commercial/data/2012/c&e/cfm/c20.php\n",
    "    Electricity_Use_kWh = np.array([13.5, (13.5+20.5)/2, 20.5]) # kWh/sq ft for low, med, high\n",
    "    Electricity_Use_MJe = Electricity_Use_kWh * 3.6 # MJe/sf for low, med, high\n",
    "    \n",
    "    # Target Estimates\n",
    "    Total_Annual_Target_Revenue = 74 # (billions)\n",
    "    Avg_Price_Item = 23 # $\n",
    "    Tot_Items_Sold = Total_Annual_Target_Revenue / Avg_Price_Item # (billions)\n",
    "    Avg_Items_Bulk_Carton_Shipped = 25\n",
    "    Total_Annual_Target_Cartons_Shipped = Tot_Items_Sold/Avg_Items_Bulk_Carton_Shipped  # (billions)\n",
    "    E_commerce_Sales_astore = 0.05 # rate\n",
    "    E_commerce_Sales_FC = 0.05 # rate\n",
    "    \n",
    "    # ---------------------------------- Estimated numbers for Target from Jerry ---------------------------- #\n",
    "    Retail_Stores_Number = 1844 # Total Store sq ft \n",
    "    Retail_Stores_Avg_Size = 130000 # sq ft\n",
    "    \n",
    "    # Average Annual Energy Use Estimates per facility (MJ)\n",
    "    E_Nat_Gas_Use_Ave_Anual_FacilityMJ = Nat_Gas_Use_MJ * Retail_Stores_Avg_Size # MJ\n",
    "    E_Electricity_Use_Anual_FacilitykWh = Electricity_Use_kWh * Retail_Stores_Avg_Size # kWh\n",
    "    E_Electricity_Use_Anual_FacilityMJ = Electricity_Use_MJe * Retail_Stores_Avg_Size # MJ\n",
    "    Energy_Use = E_Nat_Gas_Use_Ave_Anual_FacilityMJ + E_Electricity_Use_Anual_FacilityMJ\n",
    "    \n",
    "    # Average Annual Carbon Emission Estimates per facility (kg CO2e)\n",
    "    C_Nat_Gas_Use_Ave_Anual_FacilitykgCO2 = E_Nat_Gas_Use_Ave_Anual_FacilityMJ * 0.056\n",
    "    C_Electricity_Use_Anual_FacilitykgCO2 = E_Electricity_Use_Anual_FacilitykWh * [60/2.2/1000, 940/2.2/1000, 2000/2.2/1000]\n",
    "    Carbon_Use = C_Nat_Gas_Use_Ave_Anual_FacilitykgCO2 + C_Electricity_Use_Anual_FacilitykgCO2\n",
    "    \n",
    "    # ------------------------- Range of Annual Shipments \"flow through of total\" per facility -------------- #\n",
    "    Summary_Range_Used_perce = np.array([1,(1+0.8)/2,0.8])*(Tot_Items_Sold*(1-E_commerce_Sales_FC))*10**9/Retail_Stores_Number\n",
    "    \n",
    "    # -------------------------------------- Outputs -------------------------------------------------------- #\n",
    "    # Energy Use Per ITEM Shipped (MJ/item) - note the denominators are in reverse order to preserve \"best/worst\" #\n",
    "    Energy_Use_Item_Shipped = Energy_Use / Summary_Range_Used_perce # MJ/item\n",
    "\n",
    "    # Carbon emissions Per ITEM Shipped (kg CO2/item) - for g CO2, multiply by 1000!\n",
    "    Carbon_Emissions_Item_Shipped = Carbon_Use / Summary_Range_Used_perce # kg CO2/item\n",
    "    \n",
    "    return(Carbon_Emissions_Item_Shipped)\n",
    "    # ------------------------------------------------------------------------------------------------------- #\n"
   ]
  },
  {
   "cell_type": "markdown",
   "id": "46d7a675",
   "metadata": {},
   "source": [
    "### 3.10 Headquarters (HQ) Energy Use\n",
    "\n",
    "The data on this section was from a study done by Weber at al. (from Carnegie Mellon University) in 2008 for the e-tailer buy.com  (later bought by rakuten)\n",
    "\n",
    "This section collects assumptions and other parameters needed to estimate the effects associated with the higher-level (management related) activities of these companies - these would be accounting, oversight, etc.  \n"
   ]
  },
  {
   "cell_type": "code",
   "execution_count": 332,
   "id": "f4d04166",
   "metadata": {},
   "outputs": [],
   "source": [
    "def HQ():\n",
    "    # --------------------- Headquarters Electricity Use - collected data from buy.com ---------------------- #\n",
    "    Total_Building_Usage = 2405108\n",
    "    Allocated_Usage = 539045.70 #Buy.com\n",
    "    Months_with_electricity_data = 13\n",
    "    Avg_Use_per_Month_Total_Building = Total_Building_Usage/Months_with_electricity_data\n",
    "    Avg_Use_per_Month_Allocated = Allocated_Usage/Months_with_electricity_data\n",
    "    Avg_Energy_Use_per_Month_Allocated = Avg_Use_per_Month_Allocated*3.6 # (MJ/m)\n",
    "    Avg_Days_per_Month = 30\n",
    "    Avg_Energy_Use_per_Day = Avg_Energy_Use_per_Month_Allocated/Avg_Days_per_Month #(MJ/d)\n",
    "    Total_Buy_com_shimpments_sample = 280931\n",
    "    Total_Building_Area = 111103 #(sqft)\n",
    "    Buy_com_Area = 24901 #(sqft)\n",
    "    Avg_Energy_Use_per_Shipment = Avg_Energy_Use_per_Month_Allocated/Total_Buy_com_shimpments_sample #(MJ/Shipment)\n",
    "    \n",
    "    # ------------------- Headquarters Natural Gas Use - collected data from buy.com ------------------------ #\n",
    "    Gas_Use = 808024.50 # MJ\n",
    "    Months_with_NG_data = 5\n",
    "    Avg_Monthly_Natural_Gas_Use = Gas_Use/Months_with_NG_data\n",
    "    Avg_Days_per_Month = 30.5\n",
    "    Avg_NG_Use_per_Day = Avg_Monthly_Natural_Gas_Use/Avg_Days_per_Month # (MJ/d)\n",
    "    Average_use_per_shipment = Avg_Monthly_Natural_Gas_Use/Total_Buy_com_shimpments_sample #(MJ/Shipment)\n",
    "    \n",
    "    return(Avg_Energy_Use_per_Shipment,Average_use_per_shipment)\n",
    "    # ------------------------------------------------------------------------------------------------------- #"
   ]
  },
  {
   "cell_type": "markdown",
   "id": "f860d245",
   "metadata": {},
   "source": [
    "# 4. Summary"
   ]
  },
  {
   "cell_type": "code",
   "execution_count": 333,
   "id": "7728ad43",
   "metadata": {
    "scrolled": false
   },
   "outputs": [
    {
     "data": {
      "text/html": [
       "<div>\n",
       "<style scoped>\n",
       "    .dataframe tbody tr th:only-of-type {\n",
       "        vertical-align: middle;\n",
       "    }\n",
       "\n",
       "    .dataframe tbody tr th {\n",
       "        vertical-align: top;\n",
       "    }\n",
       "\n",
       "    .dataframe thead th {\n",
       "        text-align: right;\n",
       "    }\n",
       "</style>\n",
       "<table border=\"1\" class=\"dataframe\">\n",
       "  <thead>\n",
       "    <tr style=\"text-align: right;\">\n",
       "      <th></th>\n",
       "      <th>Retail</th>\n",
       "    </tr>\n",
       "    <tr>\n",
       "      <th>Year</th>\n",
       "      <th></th>\n",
       "    </tr>\n",
       "  </thead>\n",
       "  <tbody>\n",
       "    <tr>\n",
       "      <th>2020</th>\n",
       "      <td>25.295425</td>\n",
       "    </tr>\n",
       "    <tr>\n",
       "      <th>2030</th>\n",
       "      <td>22.178645</td>\n",
       "    </tr>\n",
       "    <tr>\n",
       "      <th>2040</th>\n",
       "      <td>22.040097</td>\n",
       "    </tr>\n",
       "    <tr>\n",
       "      <th>2050</th>\n",
       "      <td>23.357411</td>\n",
       "    </tr>\n",
       "  </tbody>\n",
       "</table>\n",
       "</div>"
      ],
      "text/plain": [
       "         Retail\n",
       "Year           \n",
       "2020  25.295425\n",
       "2030  22.178645\n",
       "2040  22.040097\n",
       "2050  23.357411"
      ]
     },
     "metadata": {},
     "output_type": "display_data"
    },
    {
     "name": "stderr",
     "output_type": "stream",
     "text": [
      "No artists with labels found to put in legend.  Note that artists whose label start with an underscore are ignored when legend() is called with no argument.\n"
     ]
    },
    {
     "data": {
      "image/png": "[encoded data removed]",
      "text/plain": [
       "<Figure size 640x480 with 1 Axes>"
      ]
     },
     "metadata": {},
     "output_type": "display_data"
    },
    {
     "data": {
      "text/html": [
       "<div>\n",
       "<style scoped>\n",
       "    .dataframe tbody tr th:only-of-type {\n",
       "        vertical-align: middle;\n",
       "    }\n",
       "\n",
       "    .dataframe tbody tr th {\n",
       "        vertical-align: top;\n",
       "    }\n",
       "\n",
       "    .dataframe thead th {\n",
       "        text-align: right;\n",
       "    }\n",
       "</style>\n",
       "<table border=\"1\" class=\"dataframe\">\n",
       "  <thead>\n",
       "    <tr style=\"text-align: right;\">\n",
       "      <th></th>\n",
       "      <th>Data_Centers_HQ</th>\n",
       "      <th>Warehouse_Energy</th>\n",
       "      <th>Freight_Energy</th>\n",
       "      <th>Retail_Store_Energy</th>\n",
       "      <th>Packaging</th>\n",
       "      <th>Last_Mile_Delivery</th>\n",
       "      <th>Customer_Transport</th>\n",
       "      <th>Computer_Network</th>\n",
       "    </tr>\n",
       "    <tr>\n",
       "      <th>Years</th>\n",
       "      <th></th>\n",
       "      <th></th>\n",
       "      <th></th>\n",
       "      <th></th>\n",
       "      <th></th>\n",
       "      <th></th>\n",
       "      <th></th>\n",
       "      <th></th>\n",
       "    </tr>\n",
       "  </thead>\n",
       "  <tbody>\n",
       "    <tr>\n",
       "      <th>2020</th>\n",
       "      <td>1.217263</td>\n",
       "      <td>1.84</td>\n",
       "      <td>1.321790</td>\n",
       "      <td>8.415</td>\n",
       "      <td>2.066001</td>\n",
       "      <td>0.0</td>\n",
       "      <td>10.435371</td>\n",
       "      <td>0.0</td>\n",
       "    </tr>\n",
       "    <tr>\n",
       "      <th>2030</th>\n",
       "      <td>1.217263</td>\n",
       "      <td>1.84</td>\n",
       "      <td>1.089007</td>\n",
       "      <td>8.415</td>\n",
       "      <td>2.066001</td>\n",
       "      <td>0.0</td>\n",
       "      <td>7.551374</td>\n",
       "      <td>0.0</td>\n",
       "    </tr>\n",
       "    <tr>\n",
       "      <th>2040</th>\n",
       "      <td>1.217263</td>\n",
       "      <td>1.84</td>\n",
       "      <td>0.970604</td>\n",
       "      <td>8.415</td>\n",
       "      <td>2.066001</td>\n",
       "      <td>0.0</td>\n",
       "      <td>7.531228</td>\n",
       "      <td>0.0</td>\n",
       "    </tr>\n",
       "    <tr>\n",
       "      <th>2050</th>\n",
       "      <td>1.217263</td>\n",
       "      <td>1.84</td>\n",
       "      <td>0.946785</td>\n",
       "      <td>8.415</td>\n",
       "      <td>2.066001</td>\n",
       "      <td>0.0</td>\n",
       "      <td>8.872362</td>\n",
       "      <td>0.0</td>\n",
       "    </tr>\n",
       "  </tbody>\n",
       "</table>\n",
       "</div>"
      ],
      "text/plain": [
       "       Data_Centers_HQ  Warehouse_Energy  Freight_Energy  Retail_Store_Energy  \\\n",
       "Years                                                                           \n",
       "2020          1.217263              1.84        1.321790                8.415   \n",
       "2030          1.217263              1.84        1.089007                8.415   \n",
       "2040          1.217263              1.84        0.970604                8.415   \n",
       "2050          1.217263              1.84        0.946785                8.415   \n",
       "\n",
       "       Packaging  Last_Mile_Delivery  Customer_Transport  Computer_Network  \n",
       "Years                                                                       \n",
       "2020    2.066001                 0.0           10.435371               0.0  \n",
       "2030    2.066001                 0.0            7.551374               0.0  \n",
       "2040    2.066001                 0.0            7.531228               0.0  \n",
       "2050    2.066001                 0.0            8.872362               0.0  "
      ]
     },
     "metadata": {},
     "output_type": "display_data"
    },
    {
     "data": {
      "image/png": "[encoded data removed]",
      "text/plain": [
       "<Figure size 1000x600 with 1 Axes>"
      ]
     },
     "metadata": {},
     "output_type": "display_data"
    }
   ],
   "source": [
    "# ---------------------------------------- MJ/item ----------------------------------------------------------- #\n",
    "def MJ(Year_selected):\n",
    "    \n",
    "    # Call functions\n",
    "    Scenario_Level(Scenario)\n",
    "    Retail_per = Retail_Online_perc(Year_selected)\n",
    "    Carbon_emissions_Amazon = WarehouseAmazon()\n",
    "    Pack = Packaging()\n",
    "    Distance = Distances(Year_selected)\n",
    "    DataUsag = DataUsage()\n",
    "    Energy_per_item = LastMile(Year_selected)\n",
    "    Energy_For_Shopping = CustomerTransport(Year_selected)\n",
    "    HQ_Average_Use = HQ()\n",
    "    \n",
    "    # MJ/Item\n",
    "    Flag_Multiplier_LH = 0\n",
    "    Flag_Multiplier_LM = 0\n",
    "\n",
    "    # Results of MJ per Item\n",
    "    class Retail_MJ:\n",
    "        Data_Centers_HQ = (HQ_Average_Use[0]+HQ_Average_Use[1])*(1+Rate_Instore_Purchase)\n",
    "        Warehouse_Energy = Retail_Warehouse_energy_use \n",
    "        Freight_Energy_Road_only = R_Freight_Energy_Road[Select_Shipping_efficiency]\n",
    "        Freight_Energy_Air_Only = 0.0\n",
    "        Freight_Energy = Freight_Energy_Road_only+Freight_Energy_Air_Only\n",
    "        Retail_Store_Energy = Retail_energy_use * (1+Rate_Instore_Purchase)\n",
    "        Packaging = Pack[2][Energy_Emission_per_packaging_material_Retail]\n",
    "        Last_Mile_Delivery = 0.0\n",
    "        Customer_Transport = Energy_For_Shopping[0] * (1+Rate_Instore_Purchase)\n",
    "        Computer_Network = 0.0\n",
    "        Total = Data_Centers_HQ + Warehouse_Energy + Freight_Energy + Retail_Store_Energy + Packaging + Last_Mile_Delivery + Customer_Transport + Computer_Network\n",
    "        Total_Etail_Road = Total\n",
    "        Total_Etail_Air = Data_Centers_HQ + Freight_Energy_Air_Only + Retail_Store_Energy + Packaging + Last_Mile_Delivery + Customer_Transport + Computer_Network\n",
    "\n",
    "    class Ecommerce_MJ:\n",
    "        Data_Centers_HQ = (HQ_Average_Use[0]+HQ_Average_Use[1]+DataUsag[2])*(1+Rate_Online_Purchase)\n",
    "        Warehouse_Energy = Etail_Warehouse_energy_use*(1+Rate_Online_Purchase)\n",
    "        Freight_Energy_Road_only = E_Freight_Energy_Road[Select_Shipping_efficiency]\n",
    "        Freight_Energy_Air_Only = E_Freight_Energy_Air[Select_Shipping_efficiency]\n",
    "        Freight_Energy = Freight_Energy_Road_only+Freight_Energy_Air_Only\n",
    "        Retail_Store_Energy = 0.0\n",
    "        Packaging = (Pack[3][Energy_Emission_per_packaging_material_Etail])*(1+Rate_Online_Purchase)\n",
    "        Last_Mile_Delivery = Energy_per_item*(1+Rate_Online_Purchase)*(1+Flag_Multiplier_LH*Distance[Select_Level_of_Rush_Shipments])\n",
    "        Customer_Transport = Energy_For_Shopping[0] * (Rate_Online_Purchase)\n",
    "        Computer_Network = DataUsag[0]*(1+Rate_Online_Purchase)\n",
    "        Total = Data_Centers_HQ + Warehouse_Energy + Freight_Energy + Retail_Store_Energy + Packaging + Last_Mile_Delivery + Customer_Transport + Computer_Network\n",
    "        Total_Etail_Road = Data_Centers_HQ + Freight_Energy_Road_only + Retail_Store_Energy + Packaging + Last_Mile_Delivery + Customer_Transport \n",
    "        Total_Etail_Air = Data_Centers_HQ + Freight_Energy_Air_Only + Retail_Store_Energy + Packaging + Last_Mile_Delivery + Customer_Transport + Computer_Network\n",
    "\n",
    "    class Omnichannel_MJ:\n",
    "        Data_Centers_HQ = Retail_MJ.Data_Centers_HQ*Retail_per+(1-Retail_per)*Ecommerce_MJ.Data_Centers_HQ\n",
    "        Warehouse_Energy = Retail_MJ.Warehouse_Energy*Retail_per+(1-Retail_per)*Ecommerce_MJ.Warehouse_Energy\n",
    "        Freight_Energy_Road_only = Retail_MJ.Freight_Energy_Road_only*Retail_per+(1-Retail_per)*Ecommerce_MJ.Freight_Energy_Road_only\n",
    "        Freight_Energy_Air_Only = Retail_MJ.Freight_Energy_Air_Only*Retail_per+(1-Retail_per)*Ecommerce_MJ.Freight_Energy_Air_Only\n",
    "        Freight_Energy = Retail_MJ.Freight_Energy*Retail_per+(1-Retail_per)*Ecommerce_MJ.Freight_Energy\n",
    "        Retail_Store_Energy = Retail_MJ.Retail_Store_Energy*Retail_per+(1-Retail_per)*Ecommerce_MJ.Retail_Store_Energy\n",
    "        Packaging = Retail_MJ.Packaging*Retail_per+(1-Retail_per)*Ecommerce_MJ.Packaging\n",
    "        Last_Mile_Delivery = Retail_MJ.Last_Mile_Delivery*Retail_per+(1-Retail_per)*Ecommerce_MJ.Last_Mile_Delivery\n",
    "        Customer_Transport = Retail_MJ.Customer_Transport*Retail_per+(1-Retail_per)*Ecommerce_MJ.Customer_Transport\n",
    "        Computer_Network = Retail_MJ.Computer_Network*Retail_per+(1-Retail_per)*Ecommerce_MJ.Computer_Network\n",
    "        Total = Data_Centers_HQ + Warehouse_Energy + Freight_Energy + Retail_Store_Energy + Packaging + Last_Mile_Delivery + Customer_Transport + Computer_Network\n",
    "        Total_Etail_Road = Data_Centers_HQ + Freight_Energy_Road_only + Retail_Store_Energy + Packaging + Last_Mile_Delivery + Customer_Transport \n",
    "        Total_Etail_Air = Data_Centers_HQ + Freight_Energy_Air_Only + Retail_Store_Energy + Packaging + Last_Mile_Delivery + Customer_Transport + Computer_Network\n",
    "\n",
    "    # Saveing parameters for CO2 function\n",
    "    global MJRatil_Ecommerce\n",
    "    MJRatil_Ecommerce = [Retail_MJ.Freight_Energy_Road_only,Retail_MJ.Freight_Energy_Air_Only,\n",
    "                         Ecommerce_MJ.Freight_Energy_Road_only,Ecommerce_MJ.Freight_Energy_Road_only,\n",
    "                         Ecommerce_MJ.Last_Mile_Delivery,Ecommerce_MJ.Computer_Network]\n",
    "\n",
    "    # Saving results\n",
    "    if option == \"1\":                    # Retail\n",
    "        MJ_output = np.array([Retail_MJ.Data_Centers_HQ,Retail_MJ.Warehouse_Energy,Retail_MJ.Freight_Energy,\n",
    "                        Retail_MJ.Retail_Store_Energy,Retail_MJ.Packaging,Retail_MJ.Last_Mile_Delivery,\n",
    "                       Retail_MJ.Customer_Transport,Retail_MJ.Computer_Network,Retail_MJ.Total])\n",
    "    elif option == \"2\" or option == \"3\": # Online\n",
    "        MJ_output = np.array([Ecommerce_MJ.Data_Centers_HQ,Ecommerce_MJ.Warehouse_Energy,Ecommerce_MJ.Freight_Energy,\n",
    "                        Ecommerce_MJ.Retail_Store_Energy,Ecommerce_MJ.Packaging,Ecommerce_MJ.Last_Mile_Delivery,\n",
    "                       Ecommerce_MJ.Customer_Transport,Ecommerce_MJ.Computer_Network,Ecommerce_MJ.Total])\n",
    "    else:                                # Both\n",
    "        MJ_output = np.array([Omnichannel_MJ.Data_Centers_HQ,Omnichannel_MJ.Warehouse_Energy,Omnichannel_MJ.Freight_Energy,\n",
    "                        Omnichannel_MJ.Retail_Store_Energy,Omnichannel_MJ.Packaging,Omnichannel_MJ.Last_Mile_Delivery,\n",
    "                       Omnichannel_MJ.Customer_Transport,Omnichannel_MJ.Computer_Network,Omnichannel_MJ.Total])\n",
    "    \n",
    "    return(MJ_output)\n",
    "\n",
    "# ------------------------------------------------Print the results--------------------------------------------------------#\n",
    "MJ_result = []\n",
    "MJItem = []\n",
    "for i in Years:\n",
    "    MJ_call = MJ(i)\n",
    "    MJ_result.append(MJ_call)\n",
    "    MJItem.append(MJRatil_Ecommerce)\n",
    "    del MJRatil_Ecommerce\n",
    "\n",
    "# --------------------------------------------------- Table --------------------------------------------------------------#\n",
    "T = np.transpose(MJ_result)\n",
    "MJ_table = pd.DataFrame(T[8,])\n",
    "MJ_table.columns=[Title1]\n",
    "MJ_table['Year'] = Years\n",
    "MJ_table.set_index('Year', inplace=True)\n",
    "display(MJ_table)\n",
    "\n",
    "#-------------------------------------------- Plot the Energy along the time ---------------------------------------------#\n",
    "#plot each series with custom colors and labels\n",
    "plt.plot(MJ_table[Title1], color='blue')\n",
    "#add legend\n",
    "plt.legend(title=Title1)\n",
    "#add axes labels and a title\n",
    "plt.ylabel('Energy per itme (MJ/item)', fontsize=14)\n",
    "plt.xlabel('Year', fontsize=14)\n",
    "plt.title('Results: Energy', fontsize=16)\n",
    "#display plot\n",
    "plt.show()\n",
    "\n",
    "# ---------------------------------------------- Stacked bar plot --------------------------------------------------------#\n",
    "Columns = ['Data_Centers_HQ','Warehouse_Energy','Freight_Energy','Retail_Store_Energy','Packaging',\n",
    "                                      'Last_Mile_Delivery','Customer_Transport','Computer_Network','Total']\n",
    "T1 = pd.DataFrame(MJ_result, columns=Columns)\n",
    "T2 = T1.drop(columns=['Total'])\n",
    "T2['Years']=Years\n",
    "T2.set_index('Years', inplace=True)\n",
    "display(T2)\n",
    "T2.plot(kind='bar', stacked=True, colormap='tab10', figsize=(10, 6))\n",
    "plt.legend(bbox_to_anchor=(1.04, 1), loc=\"upper left\")\n",
    "plt.xlabel(\"Year\")\n",
    "plt.ylabel(\"Energy per itme (MJ/item)\")\n",
    "\n",
    "# Percentage inside the figure\n",
    "T_prop = []\n",
    "for i in Columns:\n",
    "    prop=T1[i]/T[8]\n",
    "    T_prop.append(prop)\n",
    "\n",
    "del T_prop[-1]\n",
    "T2_p=pd.DataFrame(T_prop)\n",
    "T2_prop = T2_p.rename(columns=Years)\n",
    "\n",
    "for n, x in enumerate([*T2.index.values]):\n",
    "    for proportion in T2_prop[x]:        \n",
    "        plt.text(x=n,\n",
    "                 y=proportion,\n",
    "                 s=f'{np.round(proportion * 100, 1)}%', \n",
    "                 color=\"black\",\n",
    "                 fontsize=12,\n",
    "                 fontweight=\"bold\")\n",
    "\n",
    "plt.show()"
   ]
  },
  {
   "cell_type": "code",
   "execution_count": 334,
   "id": "768cfe7e",
   "metadata": {},
   "outputs": [
    {
     "data": {
      "text/html": [
       "<div>\n",
       "<style scoped>\n",
       "    .dataframe tbody tr th:only-of-type {\n",
       "        vertical-align: middle;\n",
       "    }\n",
       "\n",
       "    .dataframe tbody tr th {\n",
       "        vertical-align: top;\n",
       "    }\n",
       "\n",
       "    .dataframe thead th {\n",
       "        text-align: right;\n",
       "    }\n",
       "</style>\n",
       "<table border=\"1\" class=\"dataframe\">\n",
       "  <thead>\n",
       "    <tr style=\"text-align: right;\">\n",
       "      <th></th>\n",
       "      <th>Retail</th>\n",
       "    </tr>\n",
       "    <tr>\n",
       "      <th>Year</th>\n",
       "      <th></th>\n",
       "    </tr>\n",
       "  </thead>\n",
       "  <tbody>\n",
       "    <tr>\n",
       "      <th>2020</th>\n",
       "      <td>2173.020843</td>\n",
       "    </tr>\n",
       "    <tr>\n",
       "      <th>2030</th>\n",
       "      <td>2101.860197</td>\n",
       "    </tr>\n",
       "    <tr>\n",
       "      <th>2040</th>\n",
       "      <td>2170.932196</td>\n",
       "    </tr>\n",
       "    <tr>\n",
       "      <th>2050</th>\n",
       "      <td>2344.867968</td>\n",
       "    </tr>\n",
       "  </tbody>\n",
       "</table>\n",
       "</div>"
      ],
      "text/plain": [
       "           Retail\n",
       "Year             \n",
       "2020  2173.020843\n",
       "2030  2101.860197\n",
       "2040  2170.932196\n",
       "2050  2344.867968"
      ]
     },
     "metadata": {},
     "output_type": "display_data"
    },
    {
     "name": "stderr",
     "output_type": "stream",
     "text": [
      "No artists with labels found to put in legend.  Note that artists whose label start with an underscore are ignored when legend() is called with no argument.\n"
     ]
    },
    {
     "data": {
      "image/png": "[encoded data removed]",
      "text/plain": [
       "<Figure size 640x480 with 1 Axes>"
      ]
     },
     "metadata": {},
     "output_type": "display_data"
    },
    {
     "data": {
      "text/html": [
       "<div>\n",
       "<style scoped>\n",
       "    .dataframe tbody tr th:only-of-type {\n",
       "        vertical-align: middle;\n",
       "    }\n",
       "\n",
       "    .dataframe tbody tr th {\n",
       "        vertical-align: top;\n",
       "    }\n",
       "\n",
       "    .dataframe thead th {\n",
       "        text-align: right;\n",
       "    }\n",
       "</style>\n",
       "<table border=\"1\" class=\"dataframe\">\n",
       "  <thead>\n",
       "    <tr style=\"text-align: right;\">\n",
       "      <th></th>\n",
       "      <th>Data_Centers_HQ</th>\n",
       "      <th>Warehouse_Energy</th>\n",
       "      <th>Freight_Energy</th>\n",
       "      <th>Retail_Store_Energy</th>\n",
       "      <th>Packaging</th>\n",
       "      <th>Last_Mile_Delivery</th>\n",
       "      <th>Customer_Transport</th>\n",
       "      <th>Computer_Network</th>\n",
       "    </tr>\n",
       "    <tr>\n",
       "      <th>Years</th>\n",
       "      <th></th>\n",
       "      <th></th>\n",
       "      <th></th>\n",
       "      <th></th>\n",
       "      <th></th>\n",
       "      <th></th>\n",
       "      <th></th>\n",
       "      <th></th>\n",
       "    </tr>\n",
       "  </thead>\n",
       "  <tbody>\n",
       "    <tr>\n",
       "      <th>2020</th>\n",
       "      <td>137.488347</td>\n",
       "      <td>120.735007</td>\n",
       "      <td>90.731785</td>\n",
       "      <td>839.188074</td>\n",
       "      <td>134.930767</td>\n",
       "      <td>0.0</td>\n",
       "      <td>849.946864</td>\n",
       "      <td>0.0</td>\n",
       "    </tr>\n",
       "    <tr>\n",
       "      <th>2030</th>\n",
       "      <td>137.488347</td>\n",
       "      <td>120.735007</td>\n",
       "      <td>74.752856</td>\n",
       "      <td>839.188074</td>\n",
       "      <td>134.930767</td>\n",
       "      <td>0.0</td>\n",
       "      <td>794.765147</td>\n",
       "      <td>0.0</td>\n",
       "    </tr>\n",
       "    <tr>\n",
       "      <th>2040</th>\n",
       "      <td>137.488347</td>\n",
       "      <td>120.735007</td>\n",
       "      <td>66.625307</td>\n",
       "      <td>839.188074</td>\n",
       "      <td>134.930767</td>\n",
       "      <td>0.0</td>\n",
       "      <td>871.964694</td>\n",
       "      <td>0.0</td>\n",
       "    </tr>\n",
       "    <tr>\n",
       "      <th>2050</th>\n",
       "      <td>137.488347</td>\n",
       "      <td>120.735007</td>\n",
       "      <td>64.990265</td>\n",
       "      <td>839.188074</td>\n",
       "      <td>134.930767</td>\n",
       "      <td>0.0</td>\n",
       "      <td>1047.535509</td>\n",
       "      <td>0.0</td>\n",
       "    </tr>\n",
       "  </tbody>\n",
       "</table>\n",
       "</div>"
      ],
      "text/plain": [
       "       Data_Centers_HQ  Warehouse_Energy  Freight_Energy  Retail_Store_Energy  \\\n",
       "Years                                                                           \n",
       "2020        137.488347        120.735007       90.731785           839.188074   \n",
       "2030        137.488347        120.735007       74.752856           839.188074   \n",
       "2040        137.488347        120.735007       66.625307           839.188074   \n",
       "2050        137.488347        120.735007       64.990265           839.188074   \n",
       "\n",
       "        Packaging  Last_Mile_Delivery  Customer_Transport  Computer_Network  \n",
       "Years                                                                        \n",
       "2020   134.930767                 0.0          849.946864               0.0  \n",
       "2030   134.930767                 0.0          794.765147               0.0  \n",
       "2040   134.930767                 0.0          871.964694               0.0  \n",
       "2050   134.930767                 0.0         1047.535509               0.0  "
      ]
     },
     "metadata": {},
     "output_type": "display_data"
    },
    {
     "data": {
      "text/plain": [
       "Text(0, 0.5, 'Emissions per item (gr CO2/item)')"
      ]
     },
     "execution_count": 334,
     "metadata": {},
     "output_type": "execute_result"
    },
    {
     "data": {
      "image/png": "[encoded data removed]",
      "text/plain": [
       "<Figure size 1000x600 with 1 Axes>"
      ]
     },
     "metadata": {},
     "output_type": "display_data"
    }
   ],
   "source": [
    "# ---------------------------------------- CO2/item ----------------------------------------------------------- #\n",
    "def CO2(i,Year_selected):\n",
    "    # CO2/Item\n",
    "    Flag_Multiplier_LH = 0\n",
    "    Flag_Multiplier_LM = 0\n",
    "    \n",
    "    # Call functions\n",
    "    Scenario_Level(Scenario)\n",
    "    Retail_per = Retail_Online_perc(Year_selected)\n",
    "    Carbon_emissions_Omni=WarehouseRetail()\n",
    "    Pack = Packaging()\n",
    "    DataUsag = DataUsage()\n",
    "    Retail_Carbon_Emissions = Retail_()\n",
    "    Energy_For_Shopping = CustomerTransport(Year_selected)\n",
    "    HQ_Average_Use = HQ()\n",
    "\n",
    "    if option == 3:\n",
    "        Carbon_emissions_Omni=Carbon_emissions_Amazon ############################## Test this ###############################\n",
    " \n",
    "\n",
    "    # Results of CO2 per Item\n",
    "    class Retail_CO2:\n",
    "        Data_Centers_HQ = (HQ_Average_Use[0]*grCO2e_MJe[0]+HQ_Average_Use[1]*Combustion_Emissions[6])*(1+Rate_Instore_Purchase)\n",
    "        Warehouse_Energy = Carbon_emissions_Omni[1][O_count] * 1000\n",
    "        Freight_Energy_Road_only = MJItem[i][0] * Combustion_Emissions[3]\n",
    "        Freight_Energy_Air_Only = MJItem[i][1] * Combustion_Emissions[2]\n",
    "        Freight_Energy = Freight_Energy_Road_only+Freight_Energy_Air_Only\n",
    "        Retail_Store_Energy = Retail_Carbon_Emissions[R_count] * (1+Rate_Instore_Purchase) * 1000\n",
    "        Packaging = Pack[0][Energy_Emission_per_packaging_material_Retail]\n",
    "        Last_Mile_Delivery = 0.0\n",
    "        Customer_Transport = Energy_For_Shopping[1] * (1+Rate_Instore_Purchase) * 1000\n",
    "        Computer_Network = 0.0\n",
    "        Total = Data_Centers_HQ + Warehouse_Energy + Freight_Energy + Retail_Store_Energy + Packaging + Last_Mile_Delivery + Customer_Transport + Computer_Network\n",
    "        Total_Etail_Road = Total\n",
    "        Total_Etail_Air = Total + Freight_Energy_Air_Only - Freight_Energy\n",
    "\n",
    "    class Ecommerce_CO2:\n",
    "        Data_Centers_HQ = (HQ_Average_Use[0]*grCO2e_MJe[0]+HQ_Average_Use[1]*Combustion_Emissions[6]+DataUsag[2]*grCO2e_MJe[0])*(1+Rate_Online_Purchase)\n",
    "        Warehouse_Energy = Carbon_emissions_Omni[0][A_count] * 1000 * (1+Rate_Online_Purchase)\n",
    "        Freight_Energy_Road_only = MJItem[i][2] * Combustion_Emissions[3]\n",
    "        Freight_Energy_Air_Only = MJItem[i][3] * Combustion_Emissions[2]\n",
    "        Freight_Energy = Freight_Energy_Road_only+Freight_Energy_Air_Only\n",
    "        Retail_Store_Energy = 0.0\n",
    "        Packaging = (Pack[1][Energy_Emission_per_packaging_material_Etail])*(1+Rate_Online_Purchase)\n",
    "        Last_Mile_Delivery = MJItem[i][4] * Combustion_Emissions[3]\n",
    "        Customer_Transport = Energy_For_Shopping[1] * (Rate_Online_Purchase) * 1000\n",
    "        Computer_Network = MJItem[i][5] * Combustion[0]* 0.4535/3.6\n",
    "        Total = Data_Centers_HQ + Warehouse_Energy + Freight_Energy + Retail_Store_Energy + Packaging + Last_Mile_Delivery + Customer_Transport + Computer_Network\n",
    "        Total_Etail_Road = Total + Freight_Energy_Road_only - Freight_Energy\n",
    "        Total_Etail_Air = Total + Freight_Energy_Air_Only - Freight_Energy\n",
    "\n",
    "    class Omnichannel_CO2:\n",
    "        Data_Centers_HQ = Retail_CO2.Data_Centers_HQ*Retail_per+(1-Retail_per)*Ecommerce_CO2.Data_Centers_HQ\n",
    "        Warehouse_Energy = Retail_CO2.Warehouse_Energy*Retail_per+(1-Retail_per)*Ecommerce_CO2.Warehouse_Energy\n",
    "        Freight_Energy_Road_only = Retail_CO2.Freight_Energy_Road_only*Retail_per+(1-Retail_per)*Ecommerce_CO2.Freight_Energy_Road_only\n",
    "        Freight_Energy_Air_Only = Retail_CO2.Freight_Energy_Air_Only*Retail_per+(1-Retail_per)*Ecommerce_CO2.Freight_Energy_Air_Only\n",
    "        Freight_Energy = Retail_CO2.Freight_Energy*Retail_per+(1-Retail_per)*Ecommerce_CO2.Freight_Energy\n",
    "        Retail_Store_Energy = Retail_CO2.Retail_Store_Energy*Retail_per+(1-Retail_per)*Ecommerce_CO2.Retail_Store_Energy\n",
    "        Packaging = Retail_CO2.Packaging*Retail_per+(1-Retail_per)*Ecommerce_CO2.Packaging\n",
    "        Last_Mile_Delivery = Retail_CO2.Last_Mile_Delivery*Retail_per+(1-Retail_per)*Ecommerce_CO2.Last_Mile_Delivery\n",
    "        Customer_Transport = Retail_CO2.Customer_Transport*Retail_per+(1-Retail_per)*Ecommerce_CO2.Customer_Transport\n",
    "        Computer_Network = Retail_CO2.Computer_Network*Retail_per+(1-Retail_per)*Ecommerce_CO2.Computer_Network\n",
    "        Total = Data_Centers_HQ + Warehouse_Energy + Freight_Energy + Retail_Store_Energy + Packaging + Last_Mile_Delivery + Customer_Transport + Computer_Network\n",
    "        Total_Etail_Road = Total + Freight_Energy_Road_only - Freight_Energy\n",
    "        Total_Etail_Air = Total + Freight_Energy_Air_Only - Freight_Energy\n",
    "        \n",
    "    # Saving results\n",
    "    if option == \"1\":                    # Retail\n",
    "        CO2_output = np.array([Retail_CO2.Data_Centers_HQ,Retail_CO2.Warehouse_Energy,Retail_CO2.Freight_Energy,\n",
    "                            Retail_CO2.Retail_Store_Energy,Retail_CO2.Packaging,Retail_CO2.Last_Mile_Delivery,\n",
    "                           Retail_CO2.Customer_Transport,Retail_CO2.Computer_Network,Retail_CO2.Total])\n",
    "    elif option == \"2\" or option == \"3\": # Online\n",
    "        CO2_output = np.array([Ecommerce_CO2.Data_Centers_HQ,Ecommerce_CO2.Warehouse_Energy,Ecommerce_CO2.Freight_Energy,\n",
    "                        Ecommerce_CO2.Retail_Store_Energy,Ecommerce_CO2.Packaging,Ecommerce_CO2.Last_Mile_Delivery,\n",
    "                       Ecommerce_CO2.Customer_Transport,Ecommerce_CO2.Computer_Network,Ecommerce_CO2.Total])\n",
    "    else:                                # Both\n",
    "        CO2_output = np.array([Omnichannel_CO2.Data_Centers_HQ,Omnichannel_CO2.Warehouse_Energy,Omnichannel_CO2.Freight_Energy,\n",
    "                        Omnichannel_CO2.Retail_Store_Energy,Omnichannel_CO2.Packaging,Omnichannel_CO2.Last_Mile_Delivery,\n",
    "                       Omnichannel_CO2.Customer_Transport,Omnichannel_CO2.Computer_Network,Omnichannel_CO2.Total])\n",
    "\n",
    "    return(CO2_output)\n",
    "# ------------------------------------------------Print the results-------------------------------------------------------#\n",
    "# Table \n",
    "CO2_result = []\n",
    "j = 0\n",
    "for i in Years:\n",
    "    CO2_call = CO2(j,i)\n",
    "    CO2_result.append(CO2_call)\n",
    "    j=j+1\n",
    "# ----------------------------------------------Emissions Table ----------------------------------------------------------#\n",
    "C = np.transpose(CO2_result)\n",
    "CO2_table = pd.DataFrame(C[8,])\n",
    "CO2_table.columns=[Title1]\n",
    "CO2_table['Year'] = Years\n",
    "CO2_table.set_index('Year', inplace=True)\n",
    "display(CO2_table)  \n",
    "\n",
    "#-------------------------------------------- Plot the Emissions along the time ------------------------------------------#\n",
    "#plot each series with custom colors and labels\n",
    "plt.plot(CO2_table[Title1], color='red')\n",
    "#add legend\n",
    "plt.legend(title=Title1)\n",
    "#add axes labels and a title\n",
    "plt.ylabel('Emissions per item (gr CO2/item)', fontsize=14)\n",
    "plt.xlabel('Year', fontsize=14)\n",
    "plt.title('Results: Emissions', fontsize=16)\n",
    "#display plot\n",
    "plt.show()\n",
    "\n",
    "# ---------------------------------------------- Stacked bar plot --------------------------------------------------------#\n",
    "T1 = pd.DataFrame(CO2_result, columns=['Data_Centers_HQ','Warehouse_Energy','Freight_Energy','Retail_Store_Energy','Packaging',\n",
    "                                      'Last_Mile_Delivery','Customer_Transport','Computer_Network','Total'])\n",
    "T2 = T1.drop(columns=['Total'])\n",
    "T2['Years']=Years\n",
    "T2.set_index('Years', inplace=True)\n",
    "display(T2)\n",
    "T2.plot(kind='bar', stacked=True, colormap='tab10', figsize=(10, 6))\n",
    "plt.legend(bbox_to_anchor=(1.04, 1), loc=\"upper left\")\n",
    "plt.xlabel(\"Year\")\n",
    "plt.ylabel(\"Emissions per item (gr CO2/item)\")\n",
    "# -------------------------------------------------------------------------------------------------------------------------#\n"
   ]
  },
  {
   "cell_type": "markdown",
   "id": "b727b1d0",
   "metadata": {},
   "source": [
    "## Sensitivity Analysis – Tornado Diagrams"
   ]
  },
  {
   "cell_type": "code",
   "execution_count": 335,
   "id": "d63d1983",
   "metadata": {
    "scrolled": false
   },
   "outputs": [
    {
     "name": "stderr",
     "output_type": "stream",
     "text": [
      "C:\\Users\\cata1\\AppData\\Local\\Temp\\ipykernel_1992\\3799286762.py:11: SettingWithCopyWarning:\n",
      "\n",
      "\n",
      "A value is trying to be set on a copy of a slice from a DataFrame\n",
      "\n",
      "See the caveats in the documentation: https://pandas.pydata.org/pandas-docs/stable/user_guide/indexing.html#returning-a-view-versus-a-copy\n",
      "\n",
      "C:\\Users\\cata1\\AppData\\Local\\Temp\\ipykernel_1992\\3799286762.py:7: SettingWithCopyWarning:\n",
      "\n",
      "\n",
      "A value is trying to be set on a copy of a slice from a DataFrame\n",
      "\n",
      "See the caveats in the documentation: https://pandas.pydata.org/pandas-docs/stable/user_guide/indexing.html#returning-a-view-versus-a-copy\n",
      "\n",
      "C:\\Users\\cata1\\AppData\\Local\\Temp\\ipykernel_1992\\3799286762.py:9: SettingWithCopyWarning:\n",
      "\n",
      "\n",
      "A value is trying to be set on a copy of a slice from a DataFrame\n",
      "\n",
      "See the caveats in the documentation: https://pandas.pydata.org/pandas-docs/stable/user_guide/indexing.html#returning-a-view-versus-a-copy\n",
      "\n",
      "C:\\Users\\cata1\\AppData\\Local\\Temp\\ipykernel_1992\\3799286762.py:38: SettingWithCopyWarning:\n",
      "\n",
      "\n",
      "A value is trying to be set on a copy of a slice from a DataFrame\n",
      "\n",
      "See the caveats in the documentation: https://pandas.pydata.org/pandas-docs/stable/user_guide/indexing.html#returning-a-view-versus-a-copy\n",
      "\n",
      "C:\\Users\\cata1\\AppData\\Local\\Temp\\ipykernel_1992\\3799286762.py:58: SettingWithCopyWarning:\n",
      "\n",
      "\n",
      "A value is trying to be set on a copy of a slice from a DataFrame\n",
      "\n",
      "See the caveats in the documentation: https://pandas.pydata.org/pandas-docs/stable/user_guide/indexing.html#returning-a-view-versus-a-copy\n",
      "\n",
      "C:\\Users\\cata1\\AppData\\Local\\Temp\\ipykernel_1992\\3799286762.py:30: SettingWithCopyWarning:\n",
      "\n",
      "\n",
      "A value is trying to be set on a copy of a slice from a DataFrame\n",
      "\n",
      "See the caveats in the documentation: https://pandas.pydata.org/pandas-docs/stable/user_guide/indexing.html#returning-a-view-versus-a-copy\n",
      "\n",
      "C:\\Users\\cata1\\AppData\\Local\\Temp\\ipykernel_1992\\3799286762.py:59: SettingWithCopyWarning:\n",
      "\n",
      "\n",
      "A value is trying to be set on a copy of a slice from a DataFrame\n",
      "\n",
      "See the caveats in the documentation: https://pandas.pydata.org/pandas-docs/stable/user_guide/indexing.html#returning-a-view-versus-a-copy\n",
      "\n",
      "C:\\Users\\cata1\\AppData\\Local\\Temp\\ipykernel_1992\\3799286762.py:33: SettingWithCopyWarning:\n",
      "\n",
      "\n",
      "A value is trying to be set on a copy of a slice from a DataFrame\n",
      "\n",
      "See the caveats in the documentation: https://pandas.pydata.org/pandas-docs/stable/user_guide/indexing.html#returning-a-view-versus-a-copy\n",
      "\n",
      "C:\\Users\\cata1\\AppData\\Local\\Temp\\ipykernel_1992\\3799286762.py:60: SettingWithCopyWarning:\n",
      "\n",
      "\n",
      "A value is trying to be set on a copy of a slice from a DataFrame\n",
      "\n",
      "See the caveats in the documentation: https://pandas.pydata.org/pandas-docs/stable/user_guide/indexing.html#returning-a-view-versus-a-copy\n",
      "\n",
      "C:\\Users\\cata1\\AppData\\Local\\Temp\\ipykernel_1992\\3799286762.py:36: SettingWithCopyWarning:\n",
      "\n",
      "\n",
      "A value is trying to be set on a copy of a slice from a DataFrame\n",
      "\n",
      "See the caveats in the documentation: https://pandas.pydata.org/pandas-docs/stable/user_guide/indexing.html#returning-a-view-versus-a-copy\n",
      "\n"
     ]
    },
    {
     "data": {
      "application/vnd.plotly.v1+json": {
       "config": {
        "plotlyServerURL": "https://plot.ly"
       },
       "data": [
        {
         "base": [
          25.58626107179405,
          25.58626107179405,
          25.58626107179405,
          25.58626107179405,
          25.58626107179405,
          25.58626107179405,
          25.58626107179405,
          25.58626107179405,
          25.58626107179405,
          25.58626107179405,
          25.58626107179405,
          25.58626107179405,
          25.58626107179405,
          25.58626107179405,
          25.58626107179405,
          25.58626107179405
         ],
         "marker": {
          "color": "rgb(158,202,225)"
         },
         "name": "Best",
         "orientation": "h",
         "text": [
          24.413442353051405,
          25.52762013585692,
          24.674095894653945,
          25.58626107179405,
          23.811889089816987,
          24.734996354987786,
          25.58626107179405,
          25.58626107179405,
          25.244388505080003,
          25.58626107179405,
          25.58626107179405,
          23.84703264315828,
          25.58626107179405,
          25.58626107179405,
          22.95726107179405,
          24.62626107179405
         ],
         "textposition": "inside",
         "type": "bar",
         "width": 0.7,
         "x": [
          24.413442353051405,
          25.52762013585692,
          24.674095894653945,
          25.58626107179405,
          23.811889089816987,
          24.734996354987786,
          25.58626107179405,
          25.58626107179405,
          25.244388505080003,
          25.58626107179405,
          25.58626107179405,
          23.84703264315828,
          25.58626107179405,
          25.58626107179405,
          22.95726107179405,
          24.62626107179405
         ],
         "xaxis": "x",
         "y": [
          "Average Weight per item",
          "Weight of each shipping package",
          "Average Return Rate In-store Purchase",
          "Average Cost per item",
          "Average item volume",
          "Energy & Emission per packaging material (Retail)",
          "Air Carrier Shipment",
          "Select type of road vehicle for FTL",
          "Select Shipping efficiency",
          "Data Energy Consumption",
          "Data usage per item",
          "Basket size in-store",
          "Basket size online",
          "Fleet fuel economy",
          "Retail energy use",
          "Retail (Omni) Warehouse energy use"
         ],
         "yaxis": "y"
        },
        {
         "base": [
          25.58626107179405,
          25.58626107179405,
          25.58626107179405,
          25.58626107179405,
          25.58626107179405,
          25.58626107179405,
          25.58626107179405,
          25.58626107179405,
          25.58626107179405,
          25.58626107179405,
          25.58626107179405,
          25.58626107179405,
          25.58626107179405,
          25.58626107179405,
          25.58626107179405,
          25.58626107179405
         ],
         "marker": {
          "color": "crimson"
         },
         "name": "Worst",
         "orientation": "h",
         "text": [
          27.05228447022236,
          25.73286341163688,
          26.49842624893415,
          25.58626107179405,
          26.68250673194622,
          26.044634380843576,
          25.58626107179405,
          24.66600140525417,
          25.801058321352386,
          25.58626107179405,
          25.58626107179405,
          41.239316929515994,
          25.58626107179405,
          25.58626107179405,
          28.87526107179405,
          27.926261071794052
         ],
         "textposition": "inside",
         "type": "bar",
         "width": 0.7,
         "x": [
          27.05228447022236,
          25.73286341163688,
          26.49842624893415,
          25.58626107179405,
          26.68250673194622,
          26.044634380843576,
          25.58626107179405,
          24.66600140525417,
          25.801058321352386,
          25.58626107179405,
          25.58626107179405,
          41.239316929515994,
          25.58626107179405,
          25.58626107179405,
          28.87526107179405,
          27.926261071794052
         ],
         "xaxis": "x2",
         "y": [
          "Average Weight per item",
          "Weight of each shipping package",
          "Average Return Rate In-store Purchase",
          "Average Cost per item",
          "Average item volume",
          "Energy & Emission per packaging material (Retail)",
          "Air Carrier Shipment",
          "Select type of road vehicle for FTL",
          "Select Shipping efficiency",
          "Data Energy Consumption",
          "Data usage per item",
          "Basket size in-store",
          "Basket size online",
          "Fleet fuel economy",
          "Retail energy use",
          "Retail (Omni) Warehouse energy use"
         ],
         "yaxis": "y2"
        }
       ],
       "layout": {
        "height": 850,
        "template": {
         "data": {
          "bar": [
           {
            "error_x": {
             "color": "#2a3f5f"
            },
            "error_y": {
             "color": "#2a3f5f"
            },
            "marker": {
             "line": {
              "color": "#E5ECF6",
              "width": 0.5
             },
             "pattern": {
              "fillmode": "overlay",
              "size": 10,
              "solidity": 0.2
             }
            },
            "type": "bar"
           }
          ],
          "barpolar": [
           {
            "marker": {
             "line": {
              "color": "#E5ECF6",
              "width": 0.5
             },
             "pattern": {
              "fillmode": "overlay",
              "size": 10,
              "solidity": 0.2
             }
            },
            "type": "barpolar"
           }
          ],
          "carpet": [
           {
            "aaxis": {
             "endlinecolor": "#2a3f5f",
             "gridcolor": "white",
             "linecolor": "white",
             "minorgridcolor": "white",
             "startlinecolor": "#2a3f5f"
            },
            "baxis": {
             "endlinecolor": "#2a3f5f",
             "gridcolor": "white",
             "linecolor": "white",
             "minorgridcolor": "white",
             "startlinecolor": "#2a3f5f"
            },
            "type": "carpet"
           }
          ],
          "choropleth": [
           {
            "colorbar": {
             "outlinewidth": 0,
             "ticks": ""
            },
            "type": "choropleth"
           }
          ],
          "contour": [
           {
            "colorbar": {
             "outlinewidth": 0,
             "ticks": ""
            },
            "colorscale": [
             [
              0,
              "#0d0887"
             ],
             [
              0.1111111111111111,
              "#46039f"
             ],
             [
              0.2222222222222222,
              "#7201a8"
             ],
             [
              0.3333333333333333,
              "#9c179e"
             ],
             [
              0.4444444444444444,
              "#bd3786"
             ],
             [
              0.5555555555555556,
              "#d8576b"
             ],
             [
              0.6666666666666666,
              "#ed7953"
             ],
             [
              0.7777777777777778,
              "#fb9f3a"
             ],
             [
              0.8888888888888888,
              "#fdca26"
             ],
             [
              1,
              "#f0f921"
             ]
            ],
            "type": "contour"
           }
          ],
          "contourcarpet": [
           {
            "colorbar": {
             "outlinewidth": 0,
             "ticks": ""
            },
            "type": "contourcarpet"
           }
          ],
          "heatmap": [
           {
            "colorbar": {
             "outlinewidth": 0,
             "ticks": ""
            },
            "colorscale": [
             [
              0,
              "#0d0887"
             ],
             [
              0.1111111111111111,
              "#46039f"
             ],
             [
              0.2222222222222222,
              "#7201a8"
             ],
             [
              0.3333333333333333,
              "#9c179e"
             ],
             [
              0.4444444444444444,
              "#bd3786"
             ],
             [
              0.5555555555555556,
              "#d8576b"
             ],
             [
              0.6666666666666666,
              "#ed7953"
             ],
             [
              0.7777777777777778,
              "#fb9f3a"
             ],
             [
              0.8888888888888888,
              "#fdca26"
             ],
             [
              1,
              "#f0f921"
             ]
            ],
            "type": "heatmap"
           }
          ],
          "heatmapgl": [
           {
            "colorbar": {
             "outlinewidth": 0,
             "ticks": ""
            },
            "colorscale": [
             [
              0,
              "#0d0887"
             ],
             [
              0.1111111111111111,
              "#46039f"
             ],
             [
              0.2222222222222222,
              "#7201a8"
             ],
             [
              0.3333333333333333,
              "#9c179e"
             ],
             [
              0.4444444444444444,
              "#bd3786"
             ],
             [
              0.5555555555555556,
              "#d8576b"
             ],
             [
              0.6666666666666666,
              "#ed7953"
             ],
             [
              0.7777777777777778,
              "#fb9f3a"
             ],
             [
              0.8888888888888888,
              "#fdca26"
             ],
             [
              1,
              "#f0f921"
             ]
            ],
            "type": "heatmapgl"
           }
          ],
          "histogram": [
           {
            "marker": {
             "pattern": {
              "fillmode": "overlay",
              "size": 10,
              "solidity": 0.2
             }
            },
            "type": "histogram"
           }
          ],
          "histogram2d": [
           {
            "colorbar": {
             "outlinewidth": 0,
             "ticks": ""
            },
            "colorscale": [
             [
              0,
              "#0d0887"
             ],
             [
              0.1111111111111111,
              "#46039f"
             ],
             [
              0.2222222222222222,
              "#7201a8"
             ],
             [
              0.3333333333333333,
              "#9c179e"
             ],
             [
              0.4444444444444444,
              "#bd3786"
             ],
             [
              0.5555555555555556,
              "#d8576b"
             ],
             [
              0.6666666666666666,
              "#ed7953"
             ],
             [
              0.7777777777777778,
              "#fb9f3a"
             ],
             [
              0.8888888888888888,
              "#fdca26"
             ],
             [
              1,
              "#f0f921"
             ]
            ],
            "type": "histogram2d"
           }
          ],
          "histogram2dcontour": [
           {
            "colorbar": {
             "outlinewidth": 0,
             "ticks": ""
            },
            "colorscale": [
             [
              0,
              "#0d0887"
             ],
             [
              0.1111111111111111,
              "#46039f"
             ],
             [
              0.2222222222222222,
              "#7201a8"
             ],
             [
              0.3333333333333333,
              "#9c179e"
             ],
             [
              0.4444444444444444,
              "#bd3786"
             ],
             [
              0.5555555555555556,
              "#d8576b"
             ],
             [
              0.6666666666666666,
              "#ed7953"
             ],
             [
              0.7777777777777778,
              "#fb9f3a"
             ],
             [
              0.8888888888888888,
              "#fdca26"
             ],
             [
              1,
              "#f0f921"
             ]
            ],
            "type": "histogram2dcontour"
           }
          ],
          "mesh3d": [
           {
            "colorbar": {
             "outlinewidth": 0,
             "ticks": ""
            },
            "type": "mesh3d"
           }
          ],
          "parcoords": [
           {
            "line": {
             "colorbar": {
              "outlinewidth": 0,
              "ticks": ""
             }
            },
            "type": "parcoords"
           }
          ],
          "pie": [
           {
            "automargin": true,
            "type": "pie"
           }
          ],
          "scatter": [
           {
            "fillpattern": {
             "fillmode": "overlay",
             "size": 10,
             "solidity": 0.2
            },
            "type": "scatter"
           }
          ],
          "scatter3d": [
           {
            "line": {
             "colorbar": {
              "outlinewidth": 0,
              "ticks": ""
             }
            },
            "marker": {
             "colorbar": {
              "outlinewidth": 0,
              "ticks": ""
             }
            },
            "type": "scatter3d"
           }
          ],
          "scattercarpet": [
           {
            "marker": {
             "colorbar": {
              "outlinewidth": 0,
              "ticks": ""
             }
            },
            "type": "scattercarpet"
           }
          ],
          "scattergeo": [
           {
            "marker": {
             "colorbar": {
              "outlinewidth": 0,
              "ticks": ""
             }
            },
            "type": "scattergeo"
           }
          ],
          "scattergl": [
           {
            "marker": {
             "colorbar": {
              "outlinewidth": 0,
              "ticks": ""
             }
            },
            "type": "scattergl"
           }
          ],
          "scattermapbox": [
           {
            "marker": {
             "colorbar": {
              "outlinewidth": 0,
              "ticks": ""
             }
            },
            "type": "scattermapbox"
           }
          ],
          "scatterpolar": [
           {
            "marker": {
             "colorbar": {
              "outlinewidth": 0,
              "ticks": ""
             }
            },
            "type": "scatterpolar"
           }
          ],
          "scatterpolargl": [
           {
            "marker": {
             "colorbar": {
              "outlinewidth": 0,
              "ticks": ""
             }
            },
            "type": "scatterpolargl"
           }
          ],
          "scatterternary": [
           {
            "marker": {
             "colorbar": {
              "outlinewidth": 0,
              "ticks": ""
             }
            },
            "type": "scatterternary"
           }
          ],
          "surface": [
           {
            "colorbar": {
             "outlinewidth": 0,
             "ticks": ""
            },
            "colorscale": [
             [
              0,
              "#0d0887"
             ],
             [
              0.1111111111111111,
              "#46039f"
             ],
             [
              0.2222222222222222,
              "#7201a8"
             ],
             [
              0.3333333333333333,
              "#9c179e"
             ],
             [
              0.4444444444444444,
              "#bd3786"
             ],
             [
              0.5555555555555556,
              "#d8576b"
             ],
             [
              0.6666666666666666,
              "#ed7953"
             ],
             [
              0.7777777777777778,
              "#fb9f3a"
             ],
             [
              0.8888888888888888,
              "#fdca26"
             ],
             [
              1,
              "#f0f921"
             ]
            ],
            "type": "surface"
           }
          ],
          "table": [
           {
            "cells": {
             "fill": {
              "color": "#EBF0F8"
             },
             "line": {
              "color": "white"
             }
            },
            "header": {
             "fill": {
              "color": "#C8D4E3"
             },
             "line": {
              "color": "white"
             }
            },
            "type": "table"
           }
          ]
         },
         "layout": {
          "annotationdefaults": {
           "arrowcolor": "#2a3f5f",
           "arrowhead": 0,
           "arrowwidth": 1
          },
          "autotypenumbers": "strict",
          "coloraxis": {
           "colorbar": {
            "outlinewidth": 0,
            "ticks": ""
           }
          },
          "colorscale": {
           "diverging": [
            [
             0,
             "#8e0152"
            ],
            [
             0.1,
             "#c51b7d"
            ],
            [
             0.2,
             "#de77ae"
            ],
            [
             0.3,
             "#f1b6da"
            ],
            [
             0.4,
             "#fde0ef"
            ],
            [
             0.5,
             "#f7f7f7"
            ],
            [
             0.6,
             "#e6f5d0"
            ],
            [
             0.7,
             "#b8e186"
            ],
            [
             0.8,
             "#7fbc41"
            ],
            [
             0.9,
             "#4d9221"
            ],
            [
             1,
             "#276419"
            ]
           ],
           "sequential": [
            [
             0,
             "#0d0887"
            ],
            [
             0.1111111111111111,
             "#46039f"
            ],
            [
             0.2222222222222222,
             "#7201a8"
            ],
            [
             0.3333333333333333,
             "#9c179e"
            ],
            [
             0.4444444444444444,
             "#bd3786"
            ],
            [
             0.5555555555555556,
             "#d8576b"
            ],
            [
             0.6666666666666666,
             "#ed7953"
            ],
            [
             0.7777777777777778,
             "#fb9f3a"
            ],
            [
             0.8888888888888888,
             "#fdca26"
            ],
            [
             1,
             "#f0f921"
            ]
           ],
           "sequentialminus": [
            [
             0,
             "#0d0887"
            ],
            [
             0.1111111111111111,
             "#46039f"
            ],
            [
             0.2222222222222222,
             "#7201a8"
            ],
            [
             0.3333333333333333,
             "#9c179e"
            ],
            [
             0.4444444444444444,
             "#bd3786"
            ],
            [
             0.5555555555555556,
             "#d8576b"
            ],
            [
             0.6666666666666666,
             "#ed7953"
            ],
            [
             0.7777777777777778,
             "#fb9f3a"
            ],
            [
             0.8888888888888888,
             "#fdca26"
            ],
            [
             1,
             "#f0f921"
            ]
           ]
          },
          "colorway": [
           "#636efa",
           "#EF553B",
           "#00cc96",
           "#ab63fa",
           "#FFA15A",
           "#19d3f3",
           "#FF6692",
           "#B6E880",
           "#FF97FF",
           "#FECB52"
          ],
          "font": {
           "color": "#2a3f5f"
          },
          "geo": {
           "bgcolor": "white",
           "lakecolor": "white",
           "landcolor": "#E5ECF6",
           "showlakes": true,
           "showland": true,
           "subunitcolor": "white"
          },
          "hoverlabel": {
           "align": "left"
          },
          "hovermode": "closest",
          "mapbox": {
           "style": "light"
          },
          "paper_bgcolor": "white",
          "plot_bgcolor": "#E5ECF6",
          "polar": {
           "angularaxis": {
            "gridcolor": "white",
            "linecolor": "white",
            "ticks": ""
           },
           "bgcolor": "#E5ECF6",
           "radialaxis": {
            "gridcolor": "white",
            "linecolor": "white",
            "ticks": ""
           }
          },
          "scene": {
           "xaxis": {
            "backgroundcolor": "#E5ECF6",
            "gridcolor": "white",
            "gridwidth": 2,
            "linecolor": "white",
            "showbackground": true,
            "ticks": "",
            "zerolinecolor": "white"
           },
           "yaxis": {
            "backgroundcolor": "#E5ECF6",
            "gridcolor": "white",
            "gridwidth": 2,
            "linecolor": "white",
            "showbackground": true,
            "ticks": "",
            "zerolinecolor": "white"
           },
           "zaxis": {
            "backgroundcolor": "#E5ECF6",
            "gridcolor": "white",
            "gridwidth": 2,
            "linecolor": "white",
            "showbackground": true,
            "ticks": "",
            "zerolinecolor": "white"
           }
          },
          "shapedefaults": {
           "line": {
            "color": "#2a3f5f"
           }
          },
          "ternary": {
           "aaxis": {
            "gridcolor": "white",
            "linecolor": "white",
            "ticks": ""
           },
           "baxis": {
            "gridcolor": "white",
            "linecolor": "white",
            "ticks": ""
           },
           "bgcolor": "#E5ECF6",
           "caxis": {
            "gridcolor": "white",
            "linecolor": "white",
            "ticks": ""
           }
          },
          "title": {
           "x": 0.05
          },
          "xaxis": {
           "automargin": true,
           "gridcolor": "white",
           "linecolor": "white",
           "ticks": "",
           "title": {
            "standoff": 15
           },
           "zerolinecolor": "white",
           "zerolinewidth": 2
          },
          "yaxis": {
           "automargin": true,
           "gridcolor": "white",
           "linecolor": "white",
           "ticks": "",
           "title": {
            "standoff": 15
           },
           "zerolinecolor": "white",
           "zerolinewidth": 2
          }
         }
        },
        "title": {
         "x": 0.9
        },
        "width": 900,
        "xaxis": {
         "anchor": "y",
         "autorange": "reversed",
         "domain": [
          0,
          0.5
         ],
         "showticklabels": false,
         "side": "top"
        },
        "xaxis2": {
         "anchor": "y2",
         "domain": [
          0.5,
          1
         ],
         "showticklabels": false,
         "side": "top"
        },
        "yaxis": {
         "anchor": "x",
         "domain": [
          0,
          1
         ]
        },
        "yaxis2": {
         "anchor": "x2",
         "domain": [
          0,
          1
         ],
         "matches": "y",
         "showticklabels": false
        }
       }
      },
      "text/html": [
       "<div>                            <div id=\"8323bb30-0dba-496a-8796-217ba51dd4c5\" class=\"plotly-graph-div\" style=\"height:850px; width:900px;\"></div>            <script type=\"text/javascript\">                require([\"plotly\"], function(Plotly) {                    window.PLOTLYENV=window.PLOTLYENV || {};                                    if (document.getElementById(\"8323bb30-0dba-496a-8796-217ba51dd4c5\")) {                    Plotly.newPlot(                        \"8323bb30-0dba-496a-8796-217ba51dd4c5\",                        [{\"base\":[25.58626107179405,25.58626107179405,25.58626107179405,25.58626107179405,25.58626107179405,25.58626107179405,25.58626107179405,25.58626107179405,25.58626107179405,25.58626107179405,25.58626107179405,25.58626107179405,25.58626107179405,25.58626107179405,25.58626107179405,25.58626107179405],\"marker\":{\"color\":\"rgb(158,202,225)\"},\"name\":\"Best\",\"orientation\":\"h\",\"text\":[24.413442353051405,25.52762013585692,24.674095894653945,25.58626107179405,23.811889089816987,24.734996354987786,25.58626107179405,25.58626107179405,25.244388505080003,25.58626107179405,25.58626107179405,23.84703264315828,25.58626107179405,25.58626107179405,22.95726107179405,24.62626107179405],\"textposition\":\"inside\",\"width\":0.7,\"x\":[24.413442353051405,25.52762013585692,24.674095894653945,25.58626107179405,23.811889089816987,24.734996354987786,25.58626107179405,25.58626107179405,25.244388505080003,25.58626107179405,25.58626107179405,23.84703264315828,25.58626107179405,25.58626107179405,22.95726107179405,24.62626107179405],\"y\":[\"Average Weight per item\",\"Weight of each shipping package\",\"Average Return Rate In-store Purchase\",\"Average Cost per item\",\"Average item volume\",\"Energy & Emission per packaging material (Retail)\",\"Air Carrier Shipment\",\"Select type of road vehicle for FTL\",\"Select Shipping efficiency\",\"Data Energy Consumption\",\"Data usage per item\",\"Basket size in-store\",\"Basket size online\",\"Fleet fuel economy\",\"Retail energy use\",\"Retail (Omni) Warehouse energy use\"],\"type\":\"bar\",\"xaxis\":\"x\",\"yaxis\":\"y\"},{\"base\":[25.58626107179405,25.58626107179405,25.58626107179405,25.58626107179405,25.58626107179405,25.58626107179405,25.58626107179405,25.58626107179405,25.58626107179405,25.58626107179405,25.58626107179405,25.58626107179405,25.58626107179405,25.58626107179405,25.58626107179405,25.58626107179405],\"marker\":{\"color\":\"crimson\"},\"name\":\"Worst\",\"orientation\":\"h\",\"text\":[27.05228447022236,25.73286341163688,26.49842624893415,25.58626107179405,26.68250673194622,26.044634380843576,25.58626107179405,24.66600140525417,25.801058321352386,25.58626107179405,25.58626107179405,41.239316929515994,25.58626107179405,25.58626107179405,28.87526107179405,27.926261071794052],\"textposition\":\"inside\",\"width\":0.7,\"x\":[27.05228447022236,25.73286341163688,26.49842624893415,25.58626107179405,26.68250673194622,26.044634380843576,25.58626107179405,24.66600140525417,25.801058321352386,25.58626107179405,25.58626107179405,41.239316929515994,25.58626107179405,25.58626107179405,28.87526107179405,27.926261071794052],\"y\":[\"Average Weight per item\",\"Weight of each shipping package\",\"Average Return Rate In-store Purchase\",\"Average Cost per item\",\"Average item volume\",\"Energy & Emission per packaging material (Retail)\",\"Air Carrier Shipment\",\"Select type of road vehicle for FTL\",\"Select Shipping efficiency\",\"Data Energy Consumption\",\"Data usage per item\",\"Basket size in-store\",\"Basket size online\",\"Fleet fuel economy\",\"Retail energy use\",\"Retail (Omni) Warehouse energy use\"],\"type\":\"bar\",\"xaxis\":\"x2\",\"yaxis\":\"y2\"}],                        {\"template\":{\"data\":{\"histogram2dcontour\":[{\"type\":\"histogram2dcontour\",\"colorbar\":{\"outlinewidth\":0,\"ticks\":\"\"},\"colorscale\":[[0.0,\"#0d0887\"],[0.1111111111111111,\"#46039f\"],[0.2222222222222222,\"#7201a8\"],[0.3333333333333333,\"#9c179e\"],[0.4444444444444444,\"#bd3786\"],[0.5555555555555556,\"#d8576b\"],[0.6666666666666666,\"#ed7953\"],[0.7777777777777778,\"#fb9f3a\"],[0.8888888888888888,\"#fdca26\"],[1.0,\"#f0f921\"]]}],\"choropleth\":[{\"type\":\"choropleth\",\"colorbar\":{\"outlinewidth\":0,\"ticks\":\"\"}}],\"histogram2d\":[{\"type\":\"histogram2d\",\"colorbar\":{\"outlinewidth\":0,\"ticks\":\"\"},\"colorscale\":[[0.0,\"#0d0887\"],[0.1111111111111111,\"#46039f\"],[0.2222222222222222,\"#7201a8\"],[0.3333333333333333,\"#9c179e\"],[0.4444444444444444,\"#bd3786\"],[0.5555555555555556,\"#d8576b\"],[0.6666666666666666,\"#ed7953\"],[0.7777777777777778,\"#fb9f3a\"],[0.8888888888888888,\"#fdca26\"],[1.0,\"#f0f921\"]]}],\"heatmap\":[{\"type\":\"heatmap\",\"colorbar\":{\"outlinewidth\":0,\"ticks\":\"\"},\"colorscale\":[[0.0,\"#0d0887\"],[0.1111111111111111,\"#46039f\"],[0.2222222222222222,\"#7201a8\"],[0.3333333333333333,\"#9c179e\"],[0.4444444444444444,\"#bd3786\"],[0.5555555555555556,\"#d8576b\"],[0.6666666666666666,\"#ed7953\"],[0.7777777777777778,\"#fb9f3a\"],[0.8888888888888888,\"#fdca26\"],[1.0,\"#f0f921\"]]}],\"heatmapgl\":[{\"type\":\"heatmapgl\",\"colorbar\":{\"outlinewidth\":0,\"ticks\":\"\"},\"colorscale\":[[0.0,\"#0d0887\"],[0.1111111111111111,\"#46039f\"],[0.2222222222222222,\"#7201a8\"],[0.3333333333333333,\"#9c179e\"],[0.4444444444444444,\"#bd3786\"],[0.5555555555555556,\"#d8576b\"],[0.6666666666666666,\"#ed7953\"],[0.7777777777777778,\"#fb9f3a\"],[0.8888888888888888,\"#fdca26\"],[1.0,\"#f0f921\"]]}],\"contourcarpet\":[{\"type\":\"contourcarpet\",\"colorbar\":{\"outlinewidth\":0,\"ticks\":\"\"}}],\"contour\":[{\"type\":\"contour\",\"colorbar\":{\"outlinewidth\":0,\"ticks\":\"\"},\"colorscale\":[[0.0,\"#0d0887\"],[0.1111111111111111,\"#46039f\"],[0.2222222222222222,\"#7201a8\"],[0.3333333333333333,\"#9c179e\"],[0.4444444444444444,\"#bd3786\"],[0.5555555555555556,\"#d8576b\"],[0.6666666666666666,\"#ed7953\"],[0.7777777777777778,\"#fb9f3a\"],[0.8888888888888888,\"#fdca26\"],[1.0,\"#f0f921\"]]}],\"surface\":[{\"type\":\"surface\",\"colorbar\":{\"outlinewidth\":0,\"ticks\":\"\"},\"colorscale\":[[0.0,\"#0d0887\"],[0.1111111111111111,\"#46039f\"],[0.2222222222222222,\"#7201a8\"],[0.3333333333333333,\"#9c179e\"],[0.4444444444444444,\"#bd3786\"],[0.5555555555555556,\"#d8576b\"],[0.6666666666666666,\"#ed7953\"],[0.7777777777777778,\"#fb9f3a\"],[0.8888888888888888,\"#fdca26\"],[1.0,\"#f0f921\"]]}],\"mesh3d\":[{\"type\":\"mesh3d\",\"colorbar\":{\"outlinewidth\":0,\"ticks\":\"\"}}],\"scatter\":[{\"fillpattern\":{\"fillmode\":\"overlay\",\"size\":10,\"solidity\":0.2},\"type\":\"scatter\"}],\"parcoords\":[{\"type\":\"parcoords\",\"line\":{\"colorbar\":{\"outlinewidth\":0,\"ticks\":\"\"}}}],\"scatterpolargl\":[{\"type\":\"scatterpolargl\",\"marker\":{\"colorbar\":{\"outlinewidth\":0,\"ticks\":\"\"}}}],\"bar\":[{\"error_x\":{\"color\":\"#2a3f5f\"},\"error_y\":{\"color\":\"#2a3f5f\"},\"marker\":{\"line\":{\"color\":\"#E5ECF6\",\"width\":0.5},\"pattern\":{\"fillmode\":\"overlay\",\"size\":10,\"solidity\":0.2}},\"type\":\"bar\"}],\"scattergeo\":[{\"type\":\"scattergeo\",\"marker\":{\"colorbar\":{\"outlinewidth\":0,\"ticks\":\"\"}}}],\"scatterpolar\":[{\"type\":\"scatterpolar\",\"marker\":{\"colorbar\":{\"outlinewidth\":0,\"ticks\":\"\"}}}],\"histogram\":[{\"marker\":{\"pattern\":{\"fillmode\":\"overlay\",\"size\":10,\"solidity\":0.2}},\"type\":\"histogram\"}],\"scattergl\":[{\"type\":\"scattergl\",\"marker\":{\"colorbar\":{\"outlinewidth\":0,\"ticks\":\"\"}}}],\"scatter3d\":[{\"type\":\"scatter3d\",\"line\":{\"colorbar\":{\"outlinewidth\":0,\"ticks\":\"\"}},\"marker\":{\"colorbar\":{\"outlinewidth\":0,\"ticks\":\"\"}}}],\"scattermapbox\":[{\"type\":\"scattermapbox\",\"marker\":{\"colorbar\":{\"outlinewidth\":0,\"ticks\":\"\"}}}],\"scatterternary\":[{\"type\":\"scatterternary\",\"marker\":{\"colorbar\":{\"outlinewidth\":0,\"ticks\":\"\"}}}],\"scattercarpet\":[{\"type\":\"scattercarpet\",\"marker\":{\"colorbar\":{\"outlinewidth\":0,\"ticks\":\"\"}}}],\"carpet\":[{\"aaxis\":{\"endlinecolor\":\"#2a3f5f\",\"gridcolor\":\"white\",\"linecolor\":\"white\",\"minorgridcolor\":\"white\",\"startlinecolor\":\"#2a3f5f\"},\"baxis\":{\"endlinecolor\":\"#2a3f5f\",\"gridcolor\":\"white\",\"linecolor\":\"white\",\"minorgridcolor\":\"white\",\"startlinecolor\":\"#2a3f5f\"},\"type\":\"carpet\"}],\"table\":[{\"cells\":{\"fill\":{\"color\":\"#EBF0F8\"},\"line\":{\"color\":\"white\"}},\"header\":{\"fill\":{\"color\":\"#C8D4E3\"},\"line\":{\"color\":\"white\"}},\"type\":\"table\"}],\"barpolar\":[{\"marker\":{\"line\":{\"color\":\"#E5ECF6\",\"width\":0.5},\"pattern\":{\"fillmode\":\"overlay\",\"size\":10,\"solidity\":0.2}},\"type\":\"barpolar\"}],\"pie\":[{\"automargin\":true,\"type\":\"pie\"}]},\"layout\":{\"autotypenumbers\":\"strict\",\"colorway\":[\"#636efa\",\"#EF553B\",\"#00cc96\",\"#ab63fa\",\"#FFA15A\",\"#19d3f3\",\"#FF6692\",\"#B6E880\",\"#FF97FF\",\"#FECB52\"],\"font\":{\"color\":\"#2a3f5f\"},\"hovermode\":\"closest\",\"hoverlabel\":{\"align\":\"left\"},\"paper_bgcolor\":\"white\",\"plot_bgcolor\":\"#E5ECF6\",\"polar\":{\"bgcolor\":\"#E5ECF6\",\"angularaxis\":{\"gridcolor\":\"white\",\"linecolor\":\"white\",\"ticks\":\"\"},\"radialaxis\":{\"gridcolor\":\"white\",\"linecolor\":\"white\",\"ticks\":\"\"}},\"ternary\":{\"bgcolor\":\"#E5ECF6\",\"aaxis\":{\"gridcolor\":\"white\",\"linecolor\":\"white\",\"ticks\":\"\"},\"baxis\":{\"gridcolor\":\"white\",\"linecolor\":\"white\",\"ticks\":\"\"},\"caxis\":{\"gridcolor\":\"white\",\"linecolor\":\"white\",\"ticks\":\"\"}},\"coloraxis\":{\"colorbar\":{\"outlinewidth\":0,\"ticks\":\"\"}},\"colorscale\":{\"sequential\":[[0.0,\"#0d0887\"],[0.1111111111111111,\"#46039f\"],[0.2222222222222222,\"#7201a8\"],[0.3333333333333333,\"#9c179e\"],[0.4444444444444444,\"#bd3786\"],[0.5555555555555556,\"#d8576b\"],[0.6666666666666666,\"#ed7953\"],[0.7777777777777778,\"#fb9f3a\"],[0.8888888888888888,\"#fdca26\"],[1.0,\"#f0f921\"]],\"sequentialminus\":[[0.0,\"#0d0887\"],[0.1111111111111111,\"#46039f\"],[0.2222222222222222,\"#7201a8\"],[0.3333333333333333,\"#9c179e\"],[0.4444444444444444,\"#bd3786\"],[0.5555555555555556,\"#d8576b\"],[0.6666666666666666,\"#ed7953\"],[0.7777777777777778,\"#fb9f3a\"],[0.8888888888888888,\"#fdca26\"],[1.0,\"#f0f921\"]],\"diverging\":[[0,\"#8e0152\"],[0.1,\"#c51b7d\"],[0.2,\"#de77ae\"],[0.3,\"#f1b6da\"],[0.4,\"#fde0ef\"],[0.5,\"#f7f7f7\"],[0.6,\"#e6f5d0\"],[0.7,\"#b8e186\"],[0.8,\"#7fbc41\"],[0.9,\"#4d9221\"],[1,\"#276419\"]]},\"xaxis\":{\"gridcolor\":\"white\",\"linecolor\":\"white\",\"ticks\":\"\",\"title\":{\"standoff\":15},\"zerolinecolor\":\"white\",\"automargin\":true,\"zerolinewidth\":2},\"yaxis\":{\"gridcolor\":\"white\",\"linecolor\":\"white\",\"ticks\":\"\",\"title\":{\"standoff\":15},\"zerolinecolor\":\"white\",\"automargin\":true,\"zerolinewidth\":2},\"scene\":{\"xaxis\":{\"backgroundcolor\":\"#E5ECF6\",\"gridcolor\":\"white\",\"linecolor\":\"white\",\"showbackground\":true,\"ticks\":\"\",\"zerolinecolor\":\"white\",\"gridwidth\":2},\"yaxis\":{\"backgroundcolor\":\"#E5ECF6\",\"gridcolor\":\"white\",\"linecolor\":\"white\",\"showbackground\":true,\"ticks\":\"\",\"zerolinecolor\":\"white\",\"gridwidth\":2},\"zaxis\":{\"backgroundcolor\":\"#E5ECF6\",\"gridcolor\":\"white\",\"linecolor\":\"white\",\"showbackground\":true,\"ticks\":\"\",\"zerolinecolor\":\"white\",\"gridwidth\":2}},\"shapedefaults\":{\"line\":{\"color\":\"#2a3f5f\"}},\"annotationdefaults\":{\"arrowcolor\":\"#2a3f5f\",\"arrowhead\":0,\"arrowwidth\":1},\"geo\":{\"bgcolor\":\"white\",\"landcolor\":\"#E5ECF6\",\"subunitcolor\":\"white\",\"showland\":true,\"showlakes\":true,\"lakecolor\":\"white\"},\"title\":{\"x\":0.05},\"mapbox\":{\"style\":\"light\"}}},\"xaxis\":{\"anchor\":\"y\",\"domain\":[0.0,0.5],\"showticklabels\":false,\"autorange\":\"reversed\",\"side\":\"top\"},\"yaxis\":{\"anchor\":\"x\",\"domain\":[0.0,1.0]},\"xaxis2\":{\"anchor\":\"y2\",\"domain\":[0.5,1.0],\"showticklabels\":false,\"side\":\"top\"},\"yaxis2\":{\"anchor\":\"x2\",\"domain\":[0.0,1.0],\"matches\":\"y\",\"showticklabels\":false},\"title\":{\"x\":0.9},\"width\":900,\"height\":850},                        {\"responsive\": true}                    ).then(function(){\n",
       "                            \n",
       "var gd = document.getElementById('8323bb30-0dba-496a-8796-217ba51dd4c5');\n",
       "var x = new MutationObserver(function (mutations, observer) {{\n",
       "        var display = window.getComputedStyle(gd).display;\n",
       "        if (!display || display === 'none') {{\n",
       "            console.log([gd, 'removed!']);\n",
       "            Plotly.purge(gd);\n",
       "            observer.disconnect();\n",
       "        }}\n",
       "}});\n",
       "\n",
       "// Listen for the removal of the full notebook cells\n",
       "var notebookContainer = gd.closest('#notebook-container');\n",
       "if (notebookContainer) {{\n",
       "    x.observe(notebookContainer, {childList: true});\n",
       "}}\n",
       "\n",
       "// Listen for the clearing of the current output cell\n",
       "var outputEl = gd.closest('.output');\n",
       "if (outputEl) {{\n",
       "    x.observe(outputEl, {childList: true});\n",
       "}}\n",
       "\n",
       "                        })                };                });            </script>        </div>"
      ]
     },
     "metadata": {},
     "output_type": "display_data"
    },
    {
     "name": "stdout",
     "output_type": "stream",
     "text": [
      "                                                 Type    2020med    2020low  \\\n",
      "0                             Average Weight per item  25.586261  24.413442   \n",
      "1                     Weight of each shipping package  25.586261  25.527620   \n",
      "3               Average Return Rate In-store Purchase  25.586261  24.674096   \n",
      "4                               Average Cost per item  25.586261  25.586261   \n",
      "5                                 Average item volume  25.586261  23.811889   \n",
      "6   Energy & Emission per packaging material (Retail)  25.586261  24.734996   \n",
      "11                               Air Carrier Shipment  25.586261  25.586261   \n",
      "12                Select type of road vehicle for FTL  25.586261  25.586261   \n",
      "13                         Select Shipping efficiency  25.586261  25.244389   \n",
      "15                            Data Energy Consumption  25.586261  25.586261   \n",
      "16                                Data usage per item  25.586261  25.586261   \n",
      "17                               Basket size in-store  25.586261  23.847033   \n",
      "18                                 Basket size online  25.586261  25.586261   \n",
      "19                                 Fleet fuel economy  25.586261  25.586261   \n",
      "20                                  Retail energy use  25.586261  22.957261   \n",
      "21                 Retail (Omni) Warehouse energy use  25.586261  24.626261   \n",
      "\n",
      "     2020high  \n",
      "0   27.052284  \n",
      "1   25.732863  \n",
      "3   26.498426  \n",
      "4   25.586261  \n",
      "5   26.682507  \n",
      "6   26.044634  \n",
      "11  25.586261  \n",
      "12  24.666001  \n",
      "13  25.801058  \n",
      "15  25.586261  \n",
      "16  25.586261  \n",
      "17  41.239317  \n",
      "18  25.586261  \n",
      "19  25.586261  \n",
      "20  28.875261  \n",
      "21  27.926261  \n"
     ]
    }
   ],
   "source": [
    "# --------------------------------------- Data from previus results ----------------------------------------------------- #\n",
    "Number_parameters = len(Scenario.Select_Level)\n",
    "\n",
    "# Baseline - \"med\"\n",
    "for i in range(Number_parameters):\n",
    "    if i == 12:\n",
    "        Scenario.Select_Level[i] = 'Medium Duty Truck (8 ton cargo)'\n",
    "    elif i == 14:\n",
    "        Scenario.Select_Level[i] = 'Medium Truck (20,000 lb)'\n",
    "    else:\n",
    "        Scenario.Select_Level[i] = 'med'\n",
    "            \n",
    "# Changing level of parameters (low-high)\n",
    "Level = ['med','low','high']\n",
    "Level_inv = ['med','high','low']\n",
    "Freight_Truck = ['Medium Duty Truck (8 ton cargo)','Medium Duty Truck (8 ton cargo)','Heavy Duty Truck (25 ton cargo)']\n",
    "Last_Mile_Truck = ['Medium Truck (20,000 lb)', 'Light Truck (less than 10,000 lb Truck)', \n",
    "                   'Heavy Trucks (more than 26,000 lb trucks)']\n",
    "MJ_ini = []\n",
    "CO2_ini = []\n",
    "Count1 = 0\n",
    "Count2 = 0\n",
    "\n",
    "for i in range(Number_parameters):# -------------------------------- Parameter\n",
    "    MJ_result = []\n",
    "    CO2_result = []\n",
    "\n",
    "    for j in range(3): # ------------------------------------------- level ('med','low','high') \n",
    "        if i == 12:\n",
    "            Scenario.Select_Level[i] = Freight_Truck[Count1]\n",
    "            Count1 = Count1+1\n",
    "        elif i == 14:\n",
    "            Scenario.Select_Level[i] = Last_Mile_Truck[Count2]\n",
    "            Count2 = Count2+1\n",
    "        elif ((i == 17) | (i == 18)):\n",
    "            Scenario.Select_Level[i] = Level_inv[j]\n",
    "        else:        \n",
    "            Scenario.Select_Level[i] = Level[j]\n",
    "            \n",
    "        MJItem = []\n",
    "        l = 0\n",
    "        for k in Years:#-------------------------------------------- Energy\n",
    "            MJ_call = MJ(k)\n",
    "            MJ_result.append(MJ_call[8])\n",
    "            MJItem.append(MJRatil_Ecommerce)\n",
    "            del MJRatil_Ecommerce\n",
    "\n",
    "        for m in Years:# ------------------------------------------- Emissions\n",
    "            CO2_call = CO2(l,m)\n",
    "            CO2_result.append(CO2_call[8])\n",
    "            l=l+1\n",
    "    \n",
    "    # Saving data\n",
    "    MJ_ini.append(MJ_result)\n",
    "    CO2_ini.append(CO2_result)\n",
    "    # Restoring values\n",
    "    j=0\n",
    "    Scenario.Select_Level[i] = 'med'\n",
    "    if i == 12: Scenario.Select_Level[12] = 'Medium Duty Truck (8 ton cargo)'\n",
    "    if i == 14: Scenario.Select_Level[14] = 'Medium Truck (20,000 lb)'\n",
    "        \n",
    "# Print matrix\n",
    "Columns_year_level = ['2020med','2030med', '2040med', \n",
    "                     '2050med','2020low', '2030low',\n",
    "                     '2040low','2050low', '2020high',\n",
    "                     '2030high','2040high', '2050high',]\n",
    "\n",
    "Type = ['Average Weight per item','Weight of each shipping package','Average Return Rate Online Purchase',\n",
    "                       'Average Return Rate In-store Purchase','Average Cost per item','Average item volume',\n",
    "                       'Energy & Emission per packaging material (Retail)','Energy & Emission per packaging material (Etail)',\n",
    "                       'Select Level of Rush Shipments','%Air','Rail','Air Carrier Shipment','Select type of road vehicle for FTL',\n",
    "                       'Select Shipping efficiency','Select type of vehicle for last mile','Data Energy Consumption',\n",
    "                       'Data usage per item','Basket size in-store','Basket size online','Fleet fuel economy',\n",
    "                       'Retail energy use','Retail (Omni) Warehouse energy use','Etail Warehouse energy use']\n",
    "\n",
    "MJ_matrix = pd.DataFrame(MJ_ini)\n",
    "MJ_matrix.columns = Columns_year_level\n",
    "MJ_matrix['Type'] = Type\n",
    "\n",
    "CO2_matrix = pd.DataFrame(CO2_ini)\n",
    "CO2_matrix.columns = Columns_year_level\n",
    "CO2_matrix['Type'] = Type\n",
    "#print(CO2_matrix)\n",
    "\n",
    "# ---------------------------------------------- Tornado diagram ------------------------------------------------------ #\n",
    "def figure(matrix,base,best,worst):\n",
    "    fig = make_subplots(rows=1, cols=2, specs=[[{}, {}]], shared_xaxes=False,\n",
    "                        shared_yaxes=True, horizontal_spacing=0)\n",
    "    fig.add_trace(go.Bar(y=matrix['Type'], x=matrix[best], orientation='h',\n",
    "                    base=matrix[base],\n",
    "                    marker_color='rgb(158,202,225)',\n",
    "                    name='Best',\n",
    "                    width=0.7,\n",
    "                    text = matrix[best],\n",
    "                    textposition='inside'),\n",
    "                    1, 1)\n",
    "    fig.add_trace(go.Bar(y=matrix['Type'], x=matrix[worst], orientation='h',\n",
    "                    base=matrix[base],\n",
    "                    marker_color='crimson',\n",
    "                    name='Worst',\n",
    "                    width=0.7,\n",
    "                    text = matrix[worst],\n",
    "                    textposition='inside'),\n",
    "                    1, 2)\n",
    "    fig.update_xaxes(showticklabels=False,row=1, col=1, autorange='reversed')\n",
    "    fig.update_xaxes(showticklabels=False,row=1, col=2)\n",
    "    fig.update_layout(width=900, \n",
    "                  height=850,\n",
    "                  title_x=0.9,\n",
    "                  xaxis1={'side': 'top'},\n",
    "                  xaxis2={'side': 'top'},)\n",
    "    return(fig.show())\n",
    "\n",
    "\n",
    "# ---------------------------------------------- Print figures -------------------------------------------------------- # \n",
    "\n",
    "Matrix = MJ_matrix[['Type','2020med','2020low','2020high']]\n",
    "if option == \"1\":\n",
    "    Retail_Matrix = Matrix.drop(index=[2,7,8,9,10,14,22])\n",
    "    Retail_Fig = figure(Retail_Matrix,'2020med','2020low','2020high')\n",
    "    print(Retail_Matrix)\n",
    "elif option == \"2\" or option == \"3\":\n",
    "    Etail_Matrix = Matrix.drop(index=[3,6,17,20])\n",
    "    Etail_Fig = figure(Etail_Matrix,'2020med','2020low','2020high')\n",
    "elif option == \"4\":\n",
    "    Both_Fig = figure(Both_Matrix,'2020med','2020low','2020high')"
   ]
  },
  {
   "cell_type": "code",
   "execution_count": 336,
   "id": "45970cd2",
   "metadata": {},
   "outputs": [
    {
     "data": {
      "text/html": [
       "<div>\n",
       "<style scoped>\n",
       "    .dataframe tbody tr th:only-of-type {\n",
       "        vertical-align: middle;\n",
       "    }\n",
       "\n",
       "    .dataframe tbody tr th {\n",
       "        vertical-align: top;\n",
       "    }\n",
       "\n",
       "    .dataframe thead th {\n",
       "        text-align: right;\n",
       "    }\n",
       "</style>\n",
       "<table border=\"1\" class=\"dataframe\">\n",
       "  <thead>\n",
       "    <tr style=\"text-align: right;\">\n",
       "      <th></th>\n",
       "      <th>Type</th>\n",
       "      <th>2020med</th>\n",
       "      <th>2020low</th>\n",
       "      <th>2020high</th>\n",
       "    </tr>\n",
       "  </thead>\n",
       "  <tbody>\n",
       "    <tr>\n",
       "      <th>0</th>\n",
       "      <td>Average Weight per item</td>\n",
       "      <td>25.586261</td>\n",
       "      <td>24.413442</td>\n",
       "      <td>27.052284</td>\n",
       "    </tr>\n",
       "    <tr>\n",
       "      <th>1</th>\n",
       "      <td>Weight of each shipping package</td>\n",
       "      <td>25.586261</td>\n",
       "      <td>25.527620</td>\n",
       "      <td>25.732863</td>\n",
       "    </tr>\n",
       "    <tr>\n",
       "      <th>2</th>\n",
       "      <td>Average Return Rate Online Purchase</td>\n",
       "      <td>25.586261</td>\n",
       "      <td>25.586261</td>\n",
       "      <td>25.586261</td>\n",
       "    </tr>\n",
       "    <tr>\n",
       "      <th>3</th>\n",
       "      <td>Average Return Rate In-store Purchase</td>\n",
       "      <td>25.586261</td>\n",
       "      <td>24.674096</td>\n",
       "      <td>26.498426</td>\n",
       "    </tr>\n",
       "    <tr>\n",
       "      <th>4</th>\n",
       "      <td>Average Cost per item</td>\n",
       "      <td>25.586261</td>\n",
       "      <td>25.586261</td>\n",
       "      <td>25.586261</td>\n",
       "    </tr>\n",
       "    <tr>\n",
       "      <th>5</th>\n",
       "      <td>Average item volume</td>\n",
       "      <td>25.586261</td>\n",
       "      <td>23.811889</td>\n",
       "      <td>26.682507</td>\n",
       "    </tr>\n",
       "    <tr>\n",
       "      <th>6</th>\n",
       "      <td>Energy &amp; Emission per packaging material (Retail)</td>\n",
       "      <td>25.586261</td>\n",
       "      <td>24.734996</td>\n",
       "      <td>26.044634</td>\n",
       "    </tr>\n",
       "    <tr>\n",
       "      <th>7</th>\n",
       "      <td>Energy &amp; Emission per packaging material (Etail)</td>\n",
       "      <td>25.586261</td>\n",
       "      <td>25.586261</td>\n",
       "      <td>25.586261</td>\n",
       "    </tr>\n",
       "    <tr>\n",
       "      <th>8</th>\n",
       "      <td>Select Level of Rush Shipments</td>\n",
       "      <td>25.586261</td>\n",
       "      <td>25.586261</td>\n",
       "      <td>25.586261</td>\n",
       "    </tr>\n",
       "    <tr>\n",
       "      <th>9</th>\n",
       "      <td>%Air</td>\n",
       "      <td>25.586261</td>\n",
       "      <td>25.586261</td>\n",
       "      <td>25.586261</td>\n",
       "    </tr>\n",
       "    <tr>\n",
       "      <th>10</th>\n",
       "      <td>Rail</td>\n",
       "      <td>25.586261</td>\n",
       "      <td>25.586261</td>\n",
       "      <td>25.586261</td>\n",
       "    </tr>\n",
       "    <tr>\n",
       "      <th>11</th>\n",
       "      <td>Air Carrier Shipment</td>\n",
       "      <td>25.586261</td>\n",
       "      <td>25.586261</td>\n",
       "      <td>25.586261</td>\n",
       "    </tr>\n",
       "    <tr>\n",
       "      <th>12</th>\n",
       "      <td>Select type of road vehicle for FTL</td>\n",
       "      <td>25.586261</td>\n",
       "      <td>25.586261</td>\n",
       "      <td>24.666001</td>\n",
       "    </tr>\n",
       "    <tr>\n",
       "      <th>13</th>\n",
       "      <td>Select Shipping efficiency</td>\n",
       "      <td>25.586261</td>\n",
       "      <td>25.244389</td>\n",
       "      <td>25.801058</td>\n",
       "    </tr>\n",
       "    <tr>\n",
       "      <th>14</th>\n",
       "      <td>Select type of vehicle for last mile</td>\n",
       "      <td>25.586261</td>\n",
       "      <td>25.586261</td>\n",
       "      <td>25.586261</td>\n",
       "    </tr>\n",
       "    <tr>\n",
       "      <th>15</th>\n",
       "      <td>Data Energy Consumption</td>\n",
       "      <td>25.586261</td>\n",
       "      <td>25.586261</td>\n",
       "      <td>25.586261</td>\n",
       "    </tr>\n",
       "    <tr>\n",
       "      <th>16</th>\n",
       "      <td>Data usage per item</td>\n",
       "      <td>25.586261</td>\n",
       "      <td>25.586261</td>\n",
       "      <td>25.586261</td>\n",
       "    </tr>\n",
       "    <tr>\n",
       "      <th>17</th>\n",
       "      <td>Basket size in-store</td>\n",
       "      <td>25.586261</td>\n",
       "      <td>23.847033</td>\n",
       "      <td>41.239317</td>\n",
       "    </tr>\n",
       "    <tr>\n",
       "      <th>18</th>\n",
       "      <td>Basket size online</td>\n",
       "      <td>25.586261</td>\n",
       "      <td>25.586261</td>\n",
       "      <td>25.586261</td>\n",
       "    </tr>\n",
       "    <tr>\n",
       "      <th>19</th>\n",
       "      <td>Fleet fuel economy</td>\n",
       "      <td>25.586261</td>\n",
       "      <td>25.586261</td>\n",
       "      <td>25.586261</td>\n",
       "    </tr>\n",
       "    <tr>\n",
       "      <th>20</th>\n",
       "      <td>Retail energy use</td>\n",
       "      <td>25.586261</td>\n",
       "      <td>22.957261</td>\n",
       "      <td>28.875261</td>\n",
       "    </tr>\n",
       "    <tr>\n",
       "      <th>21</th>\n",
       "      <td>Retail (Omni) Warehouse energy use</td>\n",
       "      <td>25.586261</td>\n",
       "      <td>24.626261</td>\n",
       "      <td>27.926261</td>\n",
       "    </tr>\n",
       "    <tr>\n",
       "      <th>22</th>\n",
       "      <td>Etail Warehouse energy use</td>\n",
       "      <td>25.586261</td>\n",
       "      <td>25.586261</td>\n",
       "      <td>25.586261</td>\n",
       "    </tr>\n",
       "  </tbody>\n",
       "</table>\n",
       "</div>"
      ],
      "text/plain": [
       "                                                 Type    2020med    2020low  \\\n",
       "0                             Average Weight per item  25.586261  24.413442   \n",
       "1                     Weight of each shipping package  25.586261  25.527620   \n",
       "2                 Average Return Rate Online Purchase  25.586261  25.586261   \n",
       "3               Average Return Rate In-store Purchase  25.586261  24.674096   \n",
       "4                               Average Cost per item  25.586261  25.586261   \n",
       "5                                 Average item volume  25.586261  23.811889   \n",
       "6   Energy & Emission per packaging material (Retail)  25.586261  24.734996   \n",
       "7    Energy & Emission per packaging material (Etail)  25.586261  25.586261   \n",
       "8                      Select Level of Rush Shipments  25.586261  25.586261   \n",
       "9                                                %Air  25.586261  25.586261   \n",
       "10                                               Rail  25.586261  25.586261   \n",
       "11                               Air Carrier Shipment  25.586261  25.586261   \n",
       "12                Select type of road vehicle for FTL  25.586261  25.586261   \n",
       "13                         Select Shipping efficiency  25.586261  25.244389   \n",
       "14               Select type of vehicle for last mile  25.586261  25.586261   \n",
       "15                            Data Energy Consumption  25.586261  25.586261   \n",
       "16                                Data usage per item  25.586261  25.586261   \n",
       "17                               Basket size in-store  25.586261  23.847033   \n",
       "18                                 Basket size online  25.586261  25.586261   \n",
       "19                                 Fleet fuel economy  25.586261  25.586261   \n",
       "20                                  Retail energy use  25.586261  22.957261   \n",
       "21                 Retail (Omni) Warehouse energy use  25.586261  24.626261   \n",
       "22                         Etail Warehouse energy use  25.586261  25.586261   \n",
       "\n",
       "     2020high  \n",
       "0   27.052284  \n",
       "1   25.732863  \n",
       "2   25.586261  \n",
       "3   26.498426  \n",
       "4   25.586261  \n",
       "5   26.682507  \n",
       "6   26.044634  \n",
       "7   25.586261  \n",
       "8   25.586261  \n",
       "9   25.586261  \n",
       "10  25.586261  \n",
       "11  25.586261  \n",
       "12  24.666001  \n",
       "13  25.801058  \n",
       "14  25.586261  \n",
       "15  25.586261  \n",
       "16  25.586261  \n",
       "17  41.239317  \n",
       "18  25.586261  \n",
       "19  25.586261  \n",
       "20  28.875261  \n",
       "21  27.926261  \n",
       "22  25.586261  "
      ]
     },
     "execution_count": 336,
     "metadata": {},
     "output_type": "execute_result"
    }
   ],
   "source": [
    "Matrix"
   ]
  },
  {
   "cell_type": "code",
   "execution_count": null,
   "id": "c43b2a44",
   "metadata": {},
   "outputs": [],
   "source": []
  }
 ],
 "metadata": {
  "kernelspec": {
   "display_name": "Python 3 (ipykernel)",
   "language": "python",
   "name": "python3"
  },
  "language_info": {
   "codemirror_mode": {
    "name": "ipython",
    "version": 3
   },
   "file_extension": ".py",
   "mimetype": "text/x-python",
   "name": "python",
   "nbconvert_exporter": "python",
   "pygments_lexer": "ipython3",
   "version": "3.10.9"
  }
 },
 "nbformat": 4,
 "nbformat_minor": 5
}
